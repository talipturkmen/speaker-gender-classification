{
 "cells": [
  {
   "cell_type": "markdown",
   "metadata": {},
   "source": [
    "# Speaker Gender Classification"
   ]
  },
  {
   "cell_type": "markdown",
   "metadata": {},
   "source": [
    "## Introduction"
   ]
  },
  {
   "cell_type": "markdown",
   "metadata": {},
   "source": [
    "In this notebook we will do a gender classification over speech. we will use LibriSpeech dev-clean corpus.\n",
    "Please find and download part of the LibriSpeech [here](http://www.openslr.org/12/) and save in this folder.  This database contains directories with ids. Each id represents one speaker and contains audio files associated with that speaker. You will also find a file that indicates the gender of each speaker.\n",
    "\n",
    "### Requirements\n",
    "* pandas\n",
    "* matplotlib\n",
    "* seaborn\n",
    "* tqdm\n",
    "* librosa\n",
    "* tensorflow\n",
    "* keras\n",
    "\n",
    "**Table of content**\n",
    "### [Data Preprocessing](#I)\n",
    "\n",
    "#### [Data Retrievel](#I_I)\n",
    "* Firstly we will retrieve the audio tracks, stored in `LibriSpeech/dev-clean/speaker_id/chapter_id/audio_file.flac`. Since I don't have enough computational power to train whole corpus, in this notebook I'll choose randomly 15 male and 15 female speakers to use as dataset. If you have enough computation power feel free to use all dataset.\n",
    "\n",
    "#### [Features extraction](#I_II)\n",
    "* Secondly, we will extract MFCC coefficients from every track. We'll use librosa package for feature extraction. We'll keep the first 13 coeffiecents since they are enough to represent the shape of the spectrum.\n",
    "\n",
    "#### [Explatory Data Analysis](#I_III)\n",
    "* In this part we'll plot the distribution of our features and look for outliers and skewed distribution\n",
    "\n",
    "#### [Train/Val/Test Split](#I_IV)\n",
    "* And then we will split our data into train, validation and test sets.\n",
    "\n",
    "### [Classification](#III)\n",
    "\n",
    "* We will start with simple baseline methods, Naive Bayes Classifier, Logistic Regression and then we'll built Ensemble methods(Gradient Boosting and Random Forest) finally we'll implement Neural Networks and some deep learning models (CNNs and RNNs)\n",
    "#### [GaussianNB](#III_I) \n",
    "#### [Logistic Regression](#III_II)       \n",
    "#### [Random Forest](#III_III)    \n",
    "#### [Gradient Boosting Trees](#III_IV)    \n",
    "#### [Feed Forwad Neural Networks](#III_V)    \n",
    "#### [Convolutional Neural Networks](#III_VI)    \n",
    "#### [Recurrent Neural Networks](#III_VII)\n",
    "\n",
    "### [Discussion](#IV)\n",
    "* After we test all of our models we'll compare and understand why a specific one performed better from another\n"
   ]
  },
  {
   "cell_type": "code",
   "execution_count": 1,
   "metadata": {},
   "outputs": [],
   "source": [
    "import numpy as np\n",
    "import pandas as pd\n",
    "import matplotlib.pyplot as plt\n",
    "import seaborn as sns\n",
    "from tqdm import tqdm\n",
    "import librosa\n",
    "import glob\n",
    "import os\n",
    "import IPython.display as ipd"
   ]
  },
  {
   "cell_type": "markdown",
   "metadata": {},
   "source": [
    "<a id='I'></a>\n",
    "## Data Preprocessing"
   ]
  },
  {
   "cell_type": "markdown",
   "metadata": {},
   "source": [
    "<a id='I_I'></a>\n",
    "### Data Retrival"
   ]
  },
  {
   "cell_type": "code",
   "execution_count": 2,
   "metadata": {},
   "outputs": [],
   "source": [
    "path = 'dev-clean/LibriSpeech/'\n",
    "seed = 1"
   ]
  },
  {
   "cell_type": "code",
   "execution_count": 3,
   "metadata": {},
   "outputs": [
    {
     "data": {
      "text/html": [
       "<div>\n",
       "<style scoped>\n",
       "    .dataframe tbody tr th:only-of-type {\n",
       "        vertical-align: middle;\n",
       "    }\n",
       "\n",
       "    .dataframe tbody tr th {\n",
       "        vertical-align: top;\n",
       "    }\n",
       "\n",
       "    .dataframe thead th {\n",
       "        text-align: right;\n",
       "    }\n",
       "</style>\n",
       "<table border=\"1\" class=\"dataframe\">\n",
       "  <thead>\n",
       "    <tr style=\"text-align: right;\">\n",
       "      <th></th>\n",
       "      <th>id</th>\n",
       "      <th>sex</th>\n",
       "      <th>subset</th>\n",
       "      <th>minutes</th>\n",
       "      <th>name</th>\n",
       "    </tr>\n",
       "  </thead>\n",
       "  <tbody>\n",
       "    <tr>\n",
       "      <th>0</th>\n",
       "      <td>14</td>\n",
       "      <td>F</td>\n",
       "      <td>train-clean-360</td>\n",
       "      <td>25.03</td>\n",
       "      <td>Kristin LeMoine</td>\n",
       "    </tr>\n",
       "    <tr>\n",
       "      <th>1</th>\n",
       "      <td>16</td>\n",
       "      <td>F</td>\n",
       "      <td>train-clean-360</td>\n",
       "      <td>25.11</td>\n",
       "      <td>Alys AtteWater</td>\n",
       "    </tr>\n",
       "    <tr>\n",
       "      <th>2</th>\n",
       "      <td>17</td>\n",
       "      <td>M</td>\n",
       "      <td>train-clean-360</td>\n",
       "      <td>25.04</td>\n",
       "      <td>Gord Mackenzie</td>\n",
       "    </tr>\n",
       "    <tr>\n",
       "      <th>3</th>\n",
       "      <td>19</td>\n",
       "      <td>F</td>\n",
       "      <td>train-clean-100</td>\n",
       "      <td>25.19</td>\n",
       "      <td>Kara Shallenberg</td>\n",
       "    </tr>\n",
       "    <tr>\n",
       "      <th>4</th>\n",
       "      <td>20</td>\n",
       "      <td>F</td>\n",
       "      <td>train-other-500</td>\n",
       "      <td>30.07</td>\n",
       "      <td>Gesine</td>\n",
       "    </tr>\n",
       "  </tbody>\n",
       "</table>\n",
       "</div>"
      ],
      "text/plain": [
       "   id sex           subset  minutes               name\n",
       "0  14   F  train-clean-360    25.03    Kristin LeMoine\n",
       "1  16   F  train-clean-360    25.11     Alys AtteWater\n",
       "2  17   M  train-clean-360    25.04     Gord Mackenzie\n",
       "3  19   F  train-clean-100    25.19   Kara Shallenberg\n",
       "4  20   F  train-other-500    30.07             Gesine"
      ]
     },
     "execution_count": 3,
     "metadata": {},
     "output_type": "execute_result"
    }
   ],
   "source": [
    "df = pd.read_csv(path+'SPEAKERS.TXT',comment=';',sep='|',header=None).rename(columns={0:'id',1:'sex',2:'subset',3:'minutes',4:'name'})\n",
    "df.head()\n",
    "df.sex=df.sex.str.strip()\n",
    "df.subset=df.subset.str.strip()\n",
    "df.id = df['id'].apply(pd.to_numeric)\n",
    "\n",
    "\n",
    "df.head()"
   ]
  },
  {
   "cell_type": "markdown",
   "metadata": {},
   "source": [
    "Remove spekers doesn't belong to `dev-clean corpus`"
   ]
  },
  {
   "cell_type": "code",
   "execution_count": 4,
   "metadata": {},
   "outputs": [
    {
     "data": {
      "text/html": [
       "<div>\n",
       "<style scoped>\n",
       "    .dataframe tbody tr th:only-of-type {\n",
       "        vertical-align: middle;\n",
       "    }\n",
       "\n",
       "    .dataframe tbody tr th {\n",
       "        vertical-align: top;\n",
       "    }\n",
       "\n",
       "    .dataframe thead th {\n",
       "        text-align: right;\n",
       "    }\n",
       "</style>\n",
       "<table border=\"1\" class=\"dataframe\">\n",
       "  <thead>\n",
       "    <tr style=\"text-align: right;\">\n",
       "      <th></th>\n",
       "      <th>id</th>\n",
       "      <th>sex</th>\n",
       "      <th>subset</th>\n",
       "      <th>minutes</th>\n",
       "      <th>name</th>\n",
       "    </tr>\n",
       "  </thead>\n",
       "  <tbody>\n",
       "    <tr>\n",
       "      <th>0</th>\n",
       "      <td>84</td>\n",
       "      <td>F</td>\n",
       "      <td>dev-clean</td>\n",
       "      <td>8.02</td>\n",
       "      <td>Christie Nowak</td>\n",
       "    </tr>\n",
       "    <tr>\n",
       "      <th>1</th>\n",
       "      <td>174</td>\n",
       "      <td>M</td>\n",
       "      <td>dev-clean</td>\n",
       "      <td>8.04</td>\n",
       "      <td>Peter Eastman</td>\n",
       "    </tr>\n",
       "    <tr>\n",
       "      <th>2</th>\n",
       "      <td>251</td>\n",
       "      <td>M</td>\n",
       "      <td>dev-clean</td>\n",
       "      <td>8.04</td>\n",
       "      <td>Mark Nelson</td>\n",
       "    </tr>\n",
       "    <tr>\n",
       "      <th>3</th>\n",
       "      <td>422</td>\n",
       "      <td>M</td>\n",
       "      <td>dev-clean</td>\n",
       "      <td>8.38</td>\n",
       "      <td>President Lethe</td>\n",
       "    </tr>\n",
       "    <tr>\n",
       "      <th>4</th>\n",
       "      <td>652</td>\n",
       "      <td>M</td>\n",
       "      <td>dev-clean</td>\n",
       "      <td>8.31</td>\n",
       "      <td>Scott Walter</td>\n",
       "    </tr>\n",
       "  </tbody>\n",
       "</table>\n",
       "</div>"
      ],
      "text/plain": [
       "    id sex     subset  minutes              name\n",
       "0   84   F  dev-clean     8.02    Christie Nowak\n",
       "1  174   M  dev-clean     8.04     Peter Eastman\n",
       "2  251   M  dev-clean     8.04       Mark Nelson\n",
       "3  422   M  dev-clean     8.38   President Lethe\n",
       "4  652   M  dev-clean     8.31      Scott Walter"
      ]
     },
     "execution_count": 4,
     "metadata": {},
     "output_type": "execute_result"
    }
   ],
   "source": [
    "all_speakers = df.loc[df.subset=='dev-clean']\n",
    "all_speakers = all_speakers.set_index('id').loc[all_speakers.id.unique()].reset_index()\n",
    "all_speakers.head()"
   ]
  },
  {
   "cell_type": "code",
   "execution_count": 5,
   "metadata": {},
   "outputs": [
    {
     "data": {
      "text/plain": [
       "M    20\n",
       "F    20\n",
       "Name: sex, dtype: int64"
      ]
     },
     "execution_count": 5,
     "metadata": {},
     "output_type": "execute_result"
    }
   ],
   "source": [
    "all_speakers.sex.value_counts()"
   ]
  },
  {
   "cell_type": "code",
   "execution_count": 6,
   "metadata": {},
   "outputs": [
    {
     "data": {
      "text/plain": [
       "(161.44999999999996, 161.82999999999998)"
      ]
     },
     "execution_count": 6,
     "metadata": {},
     "output_type": "execute_result"
    }
   ],
   "source": [
    "all_speakers[all_speakers.sex=='F'].minutes.sum(), all_speakers[all_speakers.sex=='M'].minutes.sum()"
   ]
  },
  {
   "cell_type": "markdown",
   "metadata": {},
   "source": [
    "If we use whole dataset we will have classes which are balanced for all dataset.  We don't need to deal with it now, but if it were imbalanced we could use resampling(oversampling/undersampling), generate synhetic samples or we could change the performance metrics. Accuracy can be used to eval"
   ]
  },
  {
   "cell_type": "code",
   "execution_count": 7,
   "metadata": {},
   "outputs": [],
   "source": [
    "np.random.seed(seed) # used to generate reproducible samples"
   ]
  },
  {
   "cell_type": "markdown",
   "metadata": {},
   "source": [
    "Select randomly 15 male and 15 female speakers for training. If you want to choose different smaples feel free to change `num_samples`"
   ]
  },
  {
   "cell_type": "code",
   "execution_count": 8,
   "metadata": {},
   "outputs": [],
   "source": [
    "num_speakers=15\n",
    "\n",
    "female_speakers = all_speakers[all_speakers.sex=='F']\n",
    "female_speakers = female_speakers.set_index('id').loc[female_speakers.id.unique()].reset_index()\n",
    "idx = np.random.choice(female_speakers.index.values,num_speakers)\n",
    "female_speakers = female_speakers.iloc[idx]\n",
    "\n",
    "male_speakers = all_speakers[all_speakers.sex=='M']\n",
    "male_speakers = male_speakers.set_index('id').loc[male_speakers.id.unique()].reset_index()\n",
    "idx = np.random.choice(female_speakers.index.values,num_speakers)\n",
    "male_speakers =  male_speakers.iloc[idx]\n",
    "\n",
    "speakers = pd.concat([female_speakers,male_speakers]).sample(frac=1,random_state=seed)\n",
    "speakers = speakers.set_index('id').loc[speakers.id.unique()].reset_index()\n"
   ]
  },
  {
   "cell_type": "code",
   "execution_count": 9,
   "metadata": {},
   "outputs": [
    {
     "data": {
      "text/html": [
       "<div>\n",
       "<style scoped>\n",
       "    .dataframe tbody tr th:only-of-type {\n",
       "        vertical-align: middle;\n",
       "    }\n",
       "\n",
       "    .dataframe tbody tr th {\n",
       "        vertical-align: top;\n",
       "    }\n",
       "\n",
       "    .dataframe thead th {\n",
       "        text-align: right;\n",
       "    }\n",
       "</style>\n",
       "<table border=\"1\" class=\"dataframe\">\n",
       "  <thead>\n",
       "    <tr style=\"text-align: right;\">\n",
       "      <th></th>\n",
       "      <th>id</th>\n",
       "      <th>sex</th>\n",
       "      <th>subset</th>\n",
       "      <th>minutes</th>\n",
       "      <th>name</th>\n",
       "    </tr>\n",
       "  </thead>\n",
       "  <tbody>\n",
       "    <tr>\n",
       "      <th>0</th>\n",
       "      <td>2803</td>\n",
       "      <td>M</td>\n",
       "      <td>dev-clean</td>\n",
       "      <td>8.20</td>\n",
       "      <td>aquielisunari</td>\n",
       "    </tr>\n",
       "    <tr>\n",
       "      <th>1</th>\n",
       "      <td>2803</td>\n",
       "      <td>M</td>\n",
       "      <td>dev-clean</td>\n",
       "      <td>8.20</td>\n",
       "      <td>aquielisunari</td>\n",
       "    </tr>\n",
       "    <tr>\n",
       "      <th>2</th>\n",
       "      <td>2803</td>\n",
       "      <td>M</td>\n",
       "      <td>dev-clean</td>\n",
       "      <td>8.20</td>\n",
       "      <td>aquielisunari</td>\n",
       "    </tr>\n",
       "    <tr>\n",
       "      <th>3</th>\n",
       "      <td>1462</td>\n",
       "      <td>F</td>\n",
       "      <td>dev-clean</td>\n",
       "      <td>8.04</td>\n",
       "      <td>E. Tavano</td>\n",
       "    </tr>\n",
       "    <tr>\n",
       "      <th>4</th>\n",
       "      <td>3000</td>\n",
       "      <td>M</td>\n",
       "      <td>dev-clean</td>\n",
       "      <td>8.03</td>\n",
       "      <td>Brian von Dedenroth</td>\n",
       "    </tr>\n",
       "    <tr>\n",
       "      <th>5</th>\n",
       "      <td>2035</td>\n",
       "      <td>F</td>\n",
       "      <td>dev-clean</td>\n",
       "      <td>8.11</td>\n",
       "      <td>Sharon Bautista</td>\n",
       "    </tr>\n",
       "    <tr>\n",
       "      <th>6</th>\n",
       "      <td>3170</td>\n",
       "      <td>M</td>\n",
       "      <td>dev-clean</td>\n",
       "      <td>8.10</td>\n",
       "      <td>VOICEGUY</td>\n",
       "    </tr>\n",
       "    <tr>\n",
       "      <th>7</th>\n",
       "      <td>3170</td>\n",
       "      <td>M</td>\n",
       "      <td>dev-clean</td>\n",
       "      <td>8.10</td>\n",
       "      <td>VOICEGUY</td>\n",
       "    </tr>\n",
       "    <tr>\n",
       "      <th>8</th>\n",
       "      <td>3170</td>\n",
       "      <td>M</td>\n",
       "      <td>dev-clean</td>\n",
       "      <td>8.10</td>\n",
       "      <td>VOICEGUY</td>\n",
       "    </tr>\n",
       "    <tr>\n",
       "      <th>9</th>\n",
       "      <td>3170</td>\n",
       "      <td>M</td>\n",
       "      <td>dev-clean</td>\n",
       "      <td>8.10</td>\n",
       "      <td>VOICEGUY</td>\n",
       "    </tr>\n",
       "    <tr>\n",
       "      <th>10</th>\n",
       "      <td>3752</td>\n",
       "      <td>M</td>\n",
       "      <td>dev-clean</td>\n",
       "      <td>8.06</td>\n",
       "      <td>Mark Welch</td>\n",
       "    </tr>\n",
       "    <tr>\n",
       "      <th>11</th>\n",
       "      <td>2412</td>\n",
       "      <td>F</td>\n",
       "      <td>dev-clean</td>\n",
       "      <td>8.06</td>\n",
       "      <td>calystra</td>\n",
       "    </tr>\n",
       "    <tr>\n",
       "      <th>12</th>\n",
       "      <td>251</td>\n",
       "      <td>M</td>\n",
       "      <td>dev-clean</td>\n",
       "      <td>8.04</td>\n",
       "      <td>Mark Nelson</td>\n",
       "    </tr>\n",
       "    <tr>\n",
       "      <th>13</th>\n",
       "      <td>2086</td>\n",
       "      <td>M</td>\n",
       "      <td>dev-clean</td>\n",
       "      <td>8.04</td>\n",
       "      <td>Nicodemus</td>\n",
       "    </tr>\n",
       "    <tr>\n",
       "      <th>14</th>\n",
       "      <td>2086</td>\n",
       "      <td>M</td>\n",
       "      <td>dev-clean</td>\n",
       "      <td>8.04</td>\n",
       "      <td>Nicodemus</td>\n",
       "    </tr>\n",
       "    <tr>\n",
       "      <th>15</th>\n",
       "      <td>3081</td>\n",
       "      <td>F</td>\n",
       "      <td>dev-clean</td>\n",
       "      <td>8.00</td>\n",
       "      <td>Renata</td>\n",
       "    </tr>\n",
       "    <tr>\n",
       "      <th>16</th>\n",
       "      <td>3853</td>\n",
       "      <td>F</td>\n",
       "      <td>dev-clean</td>\n",
       "      <td>8.05</td>\n",
       "      <td>M. Bertke</td>\n",
       "    </tr>\n",
       "    <tr>\n",
       "      <th>17</th>\n",
       "      <td>3853</td>\n",
       "      <td>F</td>\n",
       "      <td>dev-clean</td>\n",
       "      <td>8.05</td>\n",
       "      <td>M. Bertke</td>\n",
       "    </tr>\n",
       "    <tr>\n",
       "      <th>18</th>\n",
       "      <td>1993</td>\n",
       "      <td>F</td>\n",
       "      <td>dev-clean</td>\n",
       "      <td>8.11</td>\n",
       "      <td>Wendy Belcher</td>\n",
       "    </tr>\n",
       "    <tr>\n",
       "      <th>19</th>\n",
       "      <td>1993</td>\n",
       "      <td>F</td>\n",
       "      <td>dev-clean</td>\n",
       "      <td>8.11</td>\n",
       "      <td>Wendy Belcher</td>\n",
       "    </tr>\n",
       "    <tr>\n",
       "      <th>20</th>\n",
       "      <td>2078</td>\n",
       "      <td>M</td>\n",
       "      <td>dev-clean</td>\n",
       "      <td>8.03</td>\n",
       "      <td>Kathy Caver</td>\n",
       "    </tr>\n",
       "    <tr>\n",
       "      <th>21</th>\n",
       "      <td>2078</td>\n",
       "      <td>M</td>\n",
       "      <td>dev-clean</td>\n",
       "      <td>8.03</td>\n",
       "      <td>Kathy Caver</td>\n",
       "    </tr>\n",
       "    <tr>\n",
       "      <th>22</th>\n",
       "      <td>5338</td>\n",
       "      <td>F</td>\n",
       "      <td>dev-clean</td>\n",
       "      <td>8.07</td>\n",
       "      <td>S R Colon</td>\n",
       "    </tr>\n",
       "    <tr>\n",
       "      <th>23</th>\n",
       "      <td>6313</td>\n",
       "      <td>F</td>\n",
       "      <td>dev-clean</td>\n",
       "      <td>8.17</td>\n",
       "      <td>Jennifer Wiginton</td>\n",
       "    </tr>\n",
       "    <tr>\n",
       "      <th>24</th>\n",
       "      <td>3576</td>\n",
       "      <td>F</td>\n",
       "      <td>dev-clean</td>\n",
       "      <td>8.00</td>\n",
       "      <td>JudyGibson</td>\n",
       "    </tr>\n",
       "    <tr>\n",
       "      <th>25</th>\n",
       "      <td>3576</td>\n",
       "      <td>F</td>\n",
       "      <td>dev-clean</td>\n",
       "      <td>8.00</td>\n",
       "      <td>JudyGibson</td>\n",
       "    </tr>\n",
       "    <tr>\n",
       "      <th>26</th>\n",
       "      <td>6241</td>\n",
       "      <td>M</td>\n",
       "      <td>dev-clean</td>\n",
       "      <td>8.05</td>\n",
       "      <td>badey</td>\n",
       "    </tr>\n",
       "    <tr>\n",
       "      <th>27</th>\n",
       "      <td>6319</td>\n",
       "      <td>F</td>\n",
       "      <td>dev-clean</td>\n",
       "      <td>8.01</td>\n",
       "      <td>thestorygirl</td>\n",
       "    </tr>\n",
       "    <tr>\n",
       "      <th>28</th>\n",
       "      <td>84</td>\n",
       "      <td>F</td>\n",
       "      <td>dev-clean</td>\n",
       "      <td>8.02</td>\n",
       "      <td>Christie Nowak</td>\n",
       "    </tr>\n",
       "    <tr>\n",
       "      <th>29</th>\n",
       "      <td>2277</td>\n",
       "      <td>F</td>\n",
       "      <td>dev-clean</td>\n",
       "      <td>8.01</td>\n",
       "      <td>zinniz</td>\n",
       "    </tr>\n",
       "  </tbody>\n",
       "</table>\n",
       "</div>"
      ],
      "text/plain": [
       "      id sex     subset  minutes                  name\n",
       "0   2803   M  dev-clean     8.20         aquielisunari\n",
       "1   2803   M  dev-clean     8.20         aquielisunari\n",
       "2   2803   M  dev-clean     8.20         aquielisunari\n",
       "3   1462   F  dev-clean     8.04             E. Tavano\n",
       "4   3000   M  dev-clean     8.03   Brian von Dedenroth\n",
       "5   2035   F  dev-clean     8.11       Sharon Bautista\n",
       "6   3170   M  dev-clean     8.10              VOICEGUY\n",
       "7   3170   M  dev-clean     8.10              VOICEGUY\n",
       "8   3170   M  dev-clean     8.10              VOICEGUY\n",
       "9   3170   M  dev-clean     8.10              VOICEGUY\n",
       "10  3752   M  dev-clean     8.06            Mark Welch\n",
       "11  2412   F  dev-clean     8.06              calystra\n",
       "12   251   M  dev-clean     8.04           Mark Nelson\n",
       "13  2086   M  dev-clean     8.04             Nicodemus\n",
       "14  2086   M  dev-clean     8.04             Nicodemus\n",
       "15  3081   F  dev-clean     8.00                Renata\n",
       "16  3853   F  dev-clean     8.05             M. Bertke\n",
       "17  3853   F  dev-clean     8.05             M. Bertke\n",
       "18  1993   F  dev-clean     8.11         Wendy Belcher\n",
       "19  1993   F  dev-clean     8.11         Wendy Belcher\n",
       "20  2078   M  dev-clean     8.03           Kathy Caver\n",
       "21  2078   M  dev-clean     8.03           Kathy Caver\n",
       "22  5338   F  dev-clean     8.07             S R Colon\n",
       "23  6313   F  dev-clean     8.17     Jennifer Wiginton\n",
       "24  3576   F  dev-clean     8.00            JudyGibson\n",
       "25  3576   F  dev-clean     8.00            JudyGibson\n",
       "26  6241   M  dev-clean     8.05                 badey\n",
       "27  6319   F  dev-clean     8.01          thestorygirl\n",
       "28    84   F  dev-clean     8.02        Christie Nowak\n",
       "29  2277   F  dev-clean     8.01                zinniz"
      ]
     },
     "execution_count": 9,
     "metadata": {},
     "output_type": "execute_result"
    }
   ],
   "source": [
    "speakers"
   ]
  },
  {
   "cell_type": "code",
   "execution_count": 10,
   "metadata": {},
   "outputs": [
    {
     "data": {
      "text/plain": [
       "(120.81, 121.31999999999998)"
      ]
     },
     "execution_count": 10,
     "metadata": {},
     "output_type": "execute_result"
    }
   ],
   "source": [
    "speakers[speakers.sex=='F'].minutes.sum(), speakers[speakers.sex=='M'].minutes.sum()"
   ]
  },
  {
   "cell_type": "markdown",
   "metadata": {},
   "source": [
    "After sampling classes ara balanced again in terms of minutes of speech. But we'll face another problem. Since we need to have fixed size of frames this inspection is not useful right now. It'll be clear later"
   ]
  },
  {
   "cell_type": "code",
   "execution_count": 11,
   "metadata": {},
   "outputs": [
    {
     "data": {
      "text/html": [
       "<div>\n",
       "<style scoped>\n",
       "    .dataframe tbody tr th:only-of-type {\n",
       "        vertical-align: middle;\n",
       "    }\n",
       "\n",
       "    .dataframe tbody tr th {\n",
       "        vertical-align: top;\n",
       "    }\n",
       "\n",
       "    .dataframe thead th {\n",
       "        text-align: right;\n",
       "    }\n",
       "</style>\n",
       "<table border=\"1\" class=\"dataframe\">\n",
       "  <thead>\n",
       "    <tr style=\"text-align: right;\">\n",
       "      <th></th>\n",
       "      <th>id</th>\n",
       "      <th>sex</th>\n",
       "    </tr>\n",
       "  </thead>\n",
       "  <tbody>\n",
       "    <tr>\n",
       "      <th>0</th>\n",
       "      <td>2803</td>\n",
       "      <td>M</td>\n",
       "    </tr>\n",
       "    <tr>\n",
       "      <th>1</th>\n",
       "      <td>2803</td>\n",
       "      <td>M</td>\n",
       "    </tr>\n",
       "    <tr>\n",
       "      <th>2</th>\n",
       "      <td>2803</td>\n",
       "      <td>M</td>\n",
       "    </tr>\n",
       "    <tr>\n",
       "      <th>3</th>\n",
       "      <td>1462</td>\n",
       "      <td>F</td>\n",
       "    </tr>\n",
       "    <tr>\n",
       "      <th>4</th>\n",
       "      <td>3000</td>\n",
       "      <td>M</td>\n",
       "    </tr>\n",
       "  </tbody>\n",
       "</table>\n",
       "</div>"
      ],
      "text/plain": [
       "     id sex\n",
       "0  2803   M\n",
       "1  2803   M\n",
       "2  2803   M\n",
       "3  1462   F\n",
       "4  3000   M"
      ]
     },
     "execution_count": 11,
     "metadata": {},
     "output_type": "execute_result"
    }
   ],
   "source": [
    "speakers = speakers[['id','sex']] #keep only id and sex attributes\n",
    "speakers.head()"
   ]
  },
  {
   "cell_type": "markdown",
   "metadata": {},
   "source": [
    "<a id='I_II'></a>\n",
    "### Feature Extraction"
   ]
  },
  {
   "cell_type": "markdown",
   "metadata": {},
   "source": [
    "* We will use librosa package to extract features. Since first 13 MFCC coeffiecients are very powerful to describe the spectrum we'll keep only the first 13 coefficients.\n",
    "\n",
    "**IMPORTANT NOTE**:\n",
    "* Since the length of each track is different after extracting coefficients and we sample with 25 ms frequency we will get different frame size for each track. This will cause problem for machine learning. Because in machine learning algorithms we need to have a fixed size of input. To solve this problem we will use mean of each coefficient for each track so we'll have fixed size (1,13) for each input. There can be other solutions like padding or truncating. Actually mean is one extreme kind of truncating. We force each track exactly to have 1 frame. Ofcourse this will cause loss of data. But since we are using mean I think we will not suffer from that much.\n",
    "    "
   ]
  },
  {
   "cell_type": "code",
   "execution_count": 12,
   "metadata": {},
   "outputs": [],
   "source": [
    "numcep=13 #number of coefficients that will be kept\n",
    "sampling_rate=22050 # 25 ms"
   ]
  },
  {
   "cell_type": "code",
   "execution_count": 13,
   "metadata": {},
   "outputs": [],
   "source": [
    "def get_MFCC(filename, sampling_rate, numcep):\n",
    "    \"\"\"\n",
    "    :param audio: audio sample from speaker\n",
    "    :param sampling rate: sampling frequency\n",
    "    :param numcep: number of cepstrums\n",
    "    :return: mfcc coeffients\n",
    "    \"\"\"\n",
    "    \n",
    "    signal,sr = librosa.load(filename,sr=sampling_rate, mono=True)\n",
    "    mfcc = librosa.feature.mfcc(signal,sr=sampling_rate,n_mfcc=numcep)\n",
    "    mfcc = np.mean(mfcc, axis=1).reshape(1,-1) #mean of frame coefficients\n",
    "    \n",
    "    return mfcc"
   ]
  },
  {
   "cell_type": "markdown",
   "metadata": {},
   "source": [
    "* Inspect one sample"
   ]
  },
  {
   "cell_type": "code",
   "execution_count": 14,
   "metadata": {},
   "outputs": [
    {
     "name": "stdout",
     "output_type": "stream",
     "text": [
      "Features shape: (1, 13)\n"
     ]
    }
   ],
   "source": [
    "file = 'dev-clean/LibriSpeech/dev-clean/6345/64257/6345-64257-0015.flac'\n",
    "features=get_MFCC(file,sampling_rate,numcep)\n",
    "print('Features shape: {}'.format(features.shape))"
   ]
  },
  {
   "cell_type": "markdown",
   "metadata": {},
   "source": [
    "* Extracting features for each track"
   ]
  },
  {
   "cell_type": "code",
   "execution_count": 15,
   "metadata": {},
   "outputs": [],
   "source": [
    "import_csv=True\n",
    "csv_file = 'data.csv'\n",
    "dataset = np.ndarray(shape=(0,numcep+1))\n",
    "genders = np.ndarray(shape=(0,1))\n",
    "files = []\n",
    "if import_csv:\n",
    "    dataset = pd.read_csv(csv_file,index_col=0)\n",
    "else:\n",
    "    for _,row in speakers.iterrows():\n",
    "        id = row.id\n",
    "        sex = 0 if row.sex == 'F' else 1\n",
    "        for filename in tqdm(glob.iglob(path+'dev-clean/' + str(id) + '/**/*', recursive=True)):\n",
    "            if filename.endswith('.flac'):\n",
    "                files.append(filename)\n",
    "                #compute MFCC features\n",
    "                features = get_MFCC(filename,sampling_rate,numcep)\n",
    "                features = np.append(features,np.array(sex).reshape(-1,1), axis=1)\n",
    "                dataset = np.append(dataset,features, axis=0)\n"
   ]
  },
  {
   "cell_type": "code",
   "execution_count": 16,
   "metadata": {},
   "outputs": [],
   "source": [
    "data = pd.DataFrame(dataset)\n",
    "data.rename(columns={'13':'gender'},inplace=True) #for easy manipulation\n",
    "# data.to_csv('data.csv') #For exporting dataset into a csv file\n"
   ]
  },
  {
   "cell_type": "markdown",
   "metadata": {},
   "source": [
    "<a id='I_III'></a>\n",
    "### Explatory Data Analysis"
   ]
  },
  {
   "cell_type": "code",
   "execution_count": 17,
   "metadata": {},
   "outputs": [
    {
     "data": {
      "text/html": [
       "<div>\n",
       "<style scoped>\n",
       "    .dataframe tbody tr th:only-of-type {\n",
       "        vertical-align: middle;\n",
       "    }\n",
       "\n",
       "    .dataframe tbody tr th {\n",
       "        vertical-align: top;\n",
       "    }\n",
       "\n",
       "    .dataframe thead th {\n",
       "        text-align: right;\n",
       "    }\n",
       "</style>\n",
       "<table border=\"1\" class=\"dataframe\">\n",
       "  <thead>\n",
       "    <tr style=\"text-align: right;\">\n",
       "      <th></th>\n",
       "      <th>0</th>\n",
       "      <th>1</th>\n",
       "      <th>2</th>\n",
       "      <th>3</th>\n",
       "      <th>4</th>\n",
       "      <th>5</th>\n",
       "      <th>6</th>\n",
       "      <th>7</th>\n",
       "      <th>8</th>\n",
       "      <th>9</th>\n",
       "      <th>10</th>\n",
       "      <th>11</th>\n",
       "      <th>12</th>\n",
       "      <th>gender</th>\n",
       "    </tr>\n",
       "  </thead>\n",
       "  <tbody>\n",
       "    <tr>\n",
       "      <th>count</th>\n",
       "      <td>1883.000000</td>\n",
       "      <td>1883.000000</td>\n",
       "      <td>1883.000000</td>\n",
       "      <td>1883.000000</td>\n",
       "      <td>1883.000000</td>\n",
       "      <td>1883.000000</td>\n",
       "      <td>1883.000000</td>\n",
       "      <td>1883.000000</td>\n",
       "      <td>1883.000000</td>\n",
       "      <td>1883.000000</td>\n",
       "      <td>1883.000000</td>\n",
       "      <td>1883.000000</td>\n",
       "      <td>1883.000000</td>\n",
       "      <td>1883.000000</td>\n",
       "    </tr>\n",
       "    <tr>\n",
       "      <th>mean</th>\n",
       "      <td>-348.560172</td>\n",
       "      <td>114.839141</td>\n",
       "      <td>-16.935802</td>\n",
       "      <td>37.896692</td>\n",
       "      <td>-8.348886</td>\n",
       "      <td>7.496209</td>\n",
       "      <td>-12.530502</td>\n",
       "      <td>-2.651093</td>\n",
       "      <td>-6.426243</td>\n",
       "      <td>0.324648</td>\n",
       "      <td>-2.567515</td>\n",
       "      <td>-5.839378</td>\n",
       "      <td>3.189673</td>\n",
       "      <td>0.468401</td>\n",
       "    </tr>\n",
       "    <tr>\n",
       "      <th>std</th>\n",
       "      <td>58.480035</td>\n",
       "      <td>18.696044</td>\n",
       "      <td>22.577203</td>\n",
       "      <td>16.167329</td>\n",
       "      <td>11.857897</td>\n",
       "      <td>13.436234</td>\n",
       "      <td>8.019850</td>\n",
       "      <td>10.631449</td>\n",
       "      <td>6.194244</td>\n",
       "      <td>5.620402</td>\n",
       "      <td>4.200450</td>\n",
       "      <td>4.788620</td>\n",
       "      <td>3.656570</td>\n",
       "      <td>0.499133</td>\n",
       "    </tr>\n",
       "    <tr>\n",
       "      <th>min</th>\n",
       "      <td>-580.348938</td>\n",
       "      <td>61.065781</td>\n",
       "      <td>-103.232010</td>\n",
       "      <td>-18.738474</td>\n",
       "      <td>-41.767353</td>\n",
       "      <td>-40.505203</td>\n",
       "      <td>-38.023438</td>\n",
       "      <td>-28.815924</td>\n",
       "      <td>-27.779594</td>\n",
       "      <td>-16.970016</td>\n",
       "      <td>-17.170280</td>\n",
       "      <td>-21.504631</td>\n",
       "      <td>-7.474981</td>\n",
       "      <td>0.000000</td>\n",
       "    </tr>\n",
       "    <tr>\n",
       "      <th>25%</th>\n",
       "      <td>-373.577332</td>\n",
       "      <td>103.726120</td>\n",
       "      <td>-27.081168</td>\n",
       "      <td>26.678917</td>\n",
       "      <td>-16.625968</td>\n",
       "      <td>0.282195</td>\n",
       "      <td>-17.499874</td>\n",
       "      <td>-10.365983</td>\n",
       "      <td>-11.093349</td>\n",
       "      <td>-3.458590</td>\n",
       "      <td>-5.032251</td>\n",
       "      <td>-8.590101</td>\n",
       "      <td>0.542625</td>\n",
       "      <td>0.000000</td>\n",
       "    </tr>\n",
       "    <tr>\n",
       "      <th>50%</th>\n",
       "      <td>-346.523987</td>\n",
       "      <td>114.341835</td>\n",
       "      <td>-11.779500</td>\n",
       "      <td>39.431957</td>\n",
       "      <td>-8.075290</td>\n",
       "      <td>9.006979</td>\n",
       "      <td>-11.754571</td>\n",
       "      <td>-2.078765</td>\n",
       "      <td>-6.260871</td>\n",
       "      <td>-0.468436</td>\n",
       "      <td>-2.094715</td>\n",
       "      <td>-5.521032</td>\n",
       "      <td>3.216078</td>\n",
       "      <td>0.000000</td>\n",
       "    </tr>\n",
       "    <tr>\n",
       "      <th>75%</th>\n",
       "      <td>-319.925415</td>\n",
       "      <td>124.112343</td>\n",
       "      <td>-1.446836</td>\n",
       "      <td>48.243694</td>\n",
       "      <td>1.082655</td>\n",
       "      <td>15.208585</td>\n",
       "      <td>-6.632940</td>\n",
       "      <td>3.339970</td>\n",
       "      <td>-1.742385</td>\n",
       "      <td>3.468728</td>\n",
       "      <td>0.326906</td>\n",
       "      <td>-2.885097</td>\n",
       "      <td>5.743600</td>\n",
       "      <td>1.000000</td>\n",
       "    </tr>\n",
       "    <tr>\n",
       "      <th>max</th>\n",
       "      <td>-160.386887</td>\n",
       "      <td>171.033463</td>\n",
       "      <td>23.042019</td>\n",
       "      <td>86.732796</td>\n",
       "      <td>23.101646</td>\n",
       "      <td>49.327198</td>\n",
       "      <td>7.072770</td>\n",
       "      <td>33.078312</td>\n",
       "      <td>11.079936</td>\n",
       "      <td>16.172735</td>\n",
       "      <td>10.053016</td>\n",
       "      <td>10.563745</td>\n",
       "      <td>15.589996</td>\n",
       "      <td>1.000000</td>\n",
       "    </tr>\n",
       "  </tbody>\n",
       "</table>\n",
       "</div>"
      ],
      "text/plain": [
       "                 0            1            2            3            4  \\\n",
       "count  1883.000000  1883.000000  1883.000000  1883.000000  1883.000000   \n",
       "mean   -348.560172   114.839141   -16.935802    37.896692    -8.348886   \n",
       "std      58.480035    18.696044    22.577203    16.167329    11.857897   \n",
       "min    -580.348938    61.065781  -103.232010   -18.738474   -41.767353   \n",
       "25%    -373.577332   103.726120   -27.081168    26.678917   -16.625968   \n",
       "50%    -346.523987   114.341835   -11.779500    39.431957    -8.075290   \n",
       "75%    -319.925415   124.112343    -1.446836    48.243694     1.082655   \n",
       "max    -160.386887   171.033463    23.042019    86.732796    23.101646   \n",
       "\n",
       "                 5            6            7            8            9  \\\n",
       "count  1883.000000  1883.000000  1883.000000  1883.000000  1883.000000   \n",
       "mean      7.496209   -12.530502    -2.651093    -6.426243     0.324648   \n",
       "std      13.436234     8.019850    10.631449     6.194244     5.620402   \n",
       "min     -40.505203   -38.023438   -28.815924   -27.779594   -16.970016   \n",
       "25%       0.282195   -17.499874   -10.365983   -11.093349    -3.458590   \n",
       "50%       9.006979   -11.754571    -2.078765    -6.260871    -0.468436   \n",
       "75%      15.208585    -6.632940     3.339970    -1.742385     3.468728   \n",
       "max      49.327198     7.072770    33.078312    11.079936    16.172735   \n",
       "\n",
       "                10           11           12       gender  \n",
       "count  1883.000000  1883.000000  1883.000000  1883.000000  \n",
       "mean     -2.567515    -5.839378     3.189673     0.468401  \n",
       "std       4.200450     4.788620     3.656570     0.499133  \n",
       "min     -17.170280   -21.504631    -7.474981     0.000000  \n",
       "25%      -5.032251    -8.590101     0.542625     0.000000  \n",
       "50%      -2.094715    -5.521032     3.216078     0.000000  \n",
       "75%       0.326906    -2.885097     5.743600     1.000000  \n",
       "max      10.053016    10.563745    15.589996     1.000000  "
      ]
     },
     "execution_count": 17,
     "metadata": {},
     "output_type": "execute_result"
    }
   ],
   "source": [
    "data.describe()"
   ]
  },
  {
   "cell_type": "code",
   "execution_count": 18,
   "metadata": {},
   "outputs": [
    {
     "name": "stdout",
     "output_type": "stream",
     "text": [
      "<class 'pandas.core.frame.DataFrame'>\n",
      "Int64Index: 1883 entries, 0 to 1882\n",
      "Data columns (total 14 columns):\n",
      "0         1883 non-null float64\n",
      "1         1883 non-null float64\n",
      "2         1883 non-null float64\n",
      "3         1883 non-null float64\n",
      "4         1883 non-null float64\n",
      "5         1883 non-null float64\n",
      "6         1883 non-null float64\n",
      "7         1883 non-null float64\n",
      "8         1883 non-null float64\n",
      "9         1883 non-null float64\n",
      "10        1883 non-null float64\n",
      "11        1883 non-null float64\n",
      "12        1883 non-null float64\n",
      "gender    1883 non-null float64\n",
      "dtypes: float64(14)\n",
      "memory usage: 220.7 KB\n"
     ]
    }
   ],
   "source": [
    "data.info()"
   ]
  },
  {
   "cell_type": "markdown",
   "metadata": {},
   "source": [
    "* As we see here there are no null attributes and there are no categorical data. So we don't have to deal with deal with these problems."
   ]
  },
  {
   "cell_type": "code",
   "execution_count": 19,
   "metadata": {},
   "outputs": [],
   "source": [
    "def sephist(df,col):\n",
    "    \"\"\"\n",
    "    This function is used to group by in plotting histogram\n",
    "    :param df: data frame\n",
    "    :param col rate:colon name\n",
    "    :return female, male: Column values for male and female\n",
    "    \"\"\"\n",
    "    female = df[df.gender == 0 ].iloc[:,col]\n",
    "    male = df[df.gender == 1].iloc[:,col]\n",
    "    \n",
    "    return female, male\n",
    "\n",
    "def plot_histogram(df,numcep):\n",
    "    \"\"\"\n",
    "    Function to plot histogram of two groups(male female)\n",
    "    :param df: data frame\n",
    "    :param numcep:number of MFCC coefficients\n",
    "    \"\"\"\n",
    "    f, ax = plt.subplots(numcep, sharey=True, figsize=(10, 20))\n",
    "#     for col in df.columns[:-2]:\n",
    "#         ax[col].hist(sephist(df,col)[0],bins=25,alpha=0.75, label='Female', color='r')\n",
    "#         ax[col].hist(sephist(df,col)[1],bins=25,alpha=0.75, label='Male', color='b')\n",
    "#         ax[col].legend(loc='upper right')\n",
    "#         ax[col].set_title(col)\n",
    "\n",
    "    for col in range(numcep):\n",
    "        ax[col].hist((sephist(df,col)[0], sephist(df,col)[1]), bins=50, alpha=0.7, label=['female', 'male'], color=['r', 'b'])\n",
    "        ax[col].legend(['female', 'male'])\n",
    "        ax[col].legend(loc='upper right')\n",
    "        ax[col].set_title(col)\n",
    "    plt.tight_layout(pad=0.4, w_pad=0.5, h_pad=1.0)\n",
    "    "
   ]
  },
  {
   "cell_type": "code",
   "execution_count": 20,
   "metadata": {},
   "outputs": [
    {
     "data": {
      "image/png": "[encoded data removed]",
      "text/plain": [
       "<Figure size 720x1440 with 13 Axes>"
      ]
     },
     "metadata": {
      "needs_background": "light"
     },
     "output_type": "display_data"
    }
   ],
   "source": [
    "plot_histogram(data,numcep)"
   ]
  },
  {
   "cell_type": "markdown",
   "metadata": {},
   "source": [
    "* We can see that features seem to have normally distibution. Some of them have some skew but they are not very different in both genders. "
   ]
  },
  {
   "cell_type": "code",
   "execution_count": 21,
   "metadata": {},
   "outputs": [
    {
     "data": {
      "image/png": "[encoded data removed]",
      "text/plain": [
       "<Figure size 864x720 with 16 Axes>"
      ]
     },
     "metadata": {
      "needs_background": "light"
     },
     "output_type": "display_data"
    }
   ],
   "source": [
    "h=data.hist(figsize=(12,10))"
   ]
  },
  {
   "cell_type": "markdown",
   "metadata": {},
   "source": [
    "Here we have the histogram of all dataset. They seem to have a distribution close to normal distribution"
   ]
  },
  {
   "cell_type": "code",
   "execution_count": 22,
   "metadata": {},
   "outputs": [
    {
     "data": {
      "image/png": "[encoded data removed]",
      "text/plain": [
       "<Figure size 792x648 with 2 Axes>"
      ]
     },
     "metadata": {
      "needs_background": "light"
     },
     "output_type": "display_data"
    }
   ],
   "source": [
    "corr = data.iloc[:,:-1].corr()\n",
    "\n",
    "mask = np.zeros_like(corr, dtype=np.bool)\n",
    "mask[np.triu_indices_from(mask)] = True\n",
    "\n",
    "f, ax = plt.subplots(figsize=(11, 9))\n",
    "cmap = sns.diverging_palette(220, 10, as_cmap=True)\n",
    "\n",
    "h = sns.heatmap(corr, mask=mask, cmap=cmap, vmax=.3, center=0,\n",
    "            square=True, linewidths=.5, cbar_kws={\"shrink\": .5})"
   ]
  },
  {
   "cell_type": "markdown",
   "metadata": {},
   "source": [
    "* Here we have heatmap. We can observe that features aren't highly correlated since the correlation varies between -0.3 and 0.3"
   ]
  },
  {
   "cell_type": "markdown",
   "metadata": {},
   "source": [
    "Final data preparation"
   ]
  },
  {
   "cell_type": "code",
   "execution_count": 23,
   "metadata": {},
   "outputs": [],
   "source": [
    "genders = np.array(data.iloc[:,-1])\n",
    "dataset = data.drop('gender',axis=1)\n",
    "dataset = dataset.to_numpy()"
   ]
  },
  {
   "cell_type": "code",
   "execution_count": 24,
   "metadata": {},
   "outputs": [
    {
     "name": "stdout",
     "output_type": "stream",
     "text": [
      "Dataset shape:  (1883, 13)\n",
      "Genders shape:  (1883,)\n",
      "Number of male speakers: 882.0\n",
      "Male Speakers Ratio:% 46\n"
     ]
    }
   ],
   "source": [
    "print('Dataset shape: ',dataset.shape)\n",
    "print('Genders shape: ',genders.shape)\n",
    "print('Number of male speakers:', genders.sum())\n",
    "print('Male Speakers Ratio:%', int(genders.sum()/genders.shape*100))"
   ]
  },
  {
   "cell_type": "markdown",
   "metadata": {},
   "source": [
    "* Here we see that we have 1883 samples and 882 of them are male. Now data isn't perfectly unbalanced, we might have small bias to the gender which is majority(female), but since the imbalance is not very much I don't think it'll effect our performace very much"
   ]
  },
  {
   "cell_type": "markdown",
   "metadata": {},
   "source": [
    "<a id='I_IV'/></a>\n",
    "### Train/Val/Test Split"
   ]
  },
  {
   "cell_type": "code",
   "execution_count": 25,
   "metadata": {},
   "outputs": [],
   "source": [
    "from sklearn.model_selection import train_test_split\n",
    "from sklearn.utils import check_X_y\n",
    "from sklearn.preprocessing import scale"
   ]
  },
  {
   "cell_type": "markdown",
   "metadata": {},
   "source": [
    "Train/Test splitting"
   ]
  },
  {
   "cell_type": "code",
   "execution_count": 26,
   "metadata": {},
   "outputs": [],
   "source": [
    "X_train, X_test, y_train, y_test = train_test_split(dataset, genders, test_size=0.2, random_state=seed, stratify=genders)\n",
    "#Scaling data\n",
    "X_train = scale(X_train)\n",
    "X_test= scale(X_test)"
   ]
  },
  {
   "cell_type": "markdown",
   "metadata": {},
   "source": [
    "Input validation"
   ]
  },
  {
   "cell_type": "code",
   "execution_count": 27,
   "metadata": {},
   "outputs": [],
   "source": [
    "X_train, y_train = check_X_y(X=X_train, y=y_train)\n",
    "X_test, y_test = check_X_y(X=X_test, y=y_test)"
   ]
  },
  {
   "cell_type": "markdown",
   "metadata": {},
   "source": [
    "Train/Validation splitting"
   ]
  },
  {
   "cell_type": "code",
   "execution_count": 28,
   "metadata": {},
   "outputs": [],
   "source": [
    "X_train_train, X_train_val, y_train_train, y_train_val = train_test_split(X_train, y_train, test_size = 0.2, random_state = seed, stratify = y_train)"
   ]
  },
  {
   "cell_type": "markdown",
   "metadata": {},
   "source": [
    "<a id='III'></a>\n",
    "## Classification"
   ]
  },
  {
   "cell_type": "markdown",
   "metadata": {},
   "source": [
    "<a id='III_I'></a>\n",
    "### GaussianNB"
   ]
  },
  {
   "cell_type": "code",
   "execution_count": 29,
   "metadata": {},
   "outputs": [],
   "source": [
    "from sklearn.preprocessing import StandardScaler\n",
    "from sklearn.naive_bayes import GaussianNB\n",
    "from sklearn.metrics import accuracy_score\n",
    "from sklearn.metrics import classification_report\n",
    "from sklearn.pipeline import Pipeline"
   ]
  },
  {
   "cell_type": "code",
   "execution_count": 30,
   "metadata": {},
   "outputs": [
    {
     "name": "stdout",
     "output_type": "stream",
     "text": [
      "Gaussian Naive Bayes accuracy on test set: 0.7984084880636605\n",
      "\n",
      "Classification Report:\n",
      "               precision    recall  f1-score   support\n",
      "\n",
      "         0.0       0.88      0.71      0.79       200\n",
      "         1.0       0.73      0.89      0.81       177\n",
      "\n",
      "   micro avg       0.80      0.80      0.80       377\n",
      "   macro avg       0.81      0.80      0.80       377\n",
      "weighted avg       0.81      0.80      0.80       377\n",
      "\n"
     ]
    }
   ],
   "source": [
    "estimators = []\n",
    "estimators.append(('gnb', GaussianNB()))\n",
    "\n",
    "pipeline_gnb = Pipeline(estimators)\n",
    "pipeline_gnb.fit(X_train, y_train)\n",
    "\n",
    "y_pred = pipeline_gnb.predict(X_test)\n",
    "score = accuracy_score(y_test, y_pred)\n",
    "\n",
    "print('Gaussian Naive Bayes accuracy on test set: {}\\n'.format(score))\n",
    "print('Classification Report:\\n',classification_report(y_test, y_pred))"
   ]
  },
  {
   "cell_type": "markdown",
   "metadata": {},
   "source": [
    "As it's seen our precision is worse in male(class=1) this is because we have bias towards to female speakers since we have more female speakers in our data set. But overall performance is not very bad because since our data has normal distibution naive bayes performs fair well enough. Also the strong conditionally independence assumption of Naive Bayes reduces the performance."
   ]
  },
  {
   "cell_type": "markdown",
   "metadata": {},
   "source": [
    "<a id='III_II'></a>\n",
    "### Logistic Regression"
   ]
  },
  {
   "cell_type": "code",
   "execution_count": 31,
   "metadata": {},
   "outputs": [
    {
     "name": "stderr",
     "output_type": "stream",
     "text": [
      "100%|██████████| 100/100 [00:01<00:00, 77.18it/s]"
     ]
    },
    {
     "name": "stdout",
     "output_type": "stream",
     "text": [
      "best C = 2.0092 with accuracy : 0.8576\n",
      "l2-Logistic regression classifer accuracy on test set : 0.856764\n",
      "Classification Report:\n",
      "               precision    recall  f1-score   support\n",
      "\n",
      "         0.0       0.89      0.83      0.86       200\n",
      "         1.0       0.82      0.89      0.85       177\n",
      "\n",
      "   micro avg       0.86      0.86      0.86       377\n",
      "   macro avg       0.86      0.86      0.86       377\n",
      "weighted avg       0.86      0.86      0.86       377\n",
      "\n"
     ]
    },
    {
     "name": "stderr",
     "output_type": "stream",
     "text": [
      "\n"
     ]
    }
   ],
   "source": [
    "from sklearn.linear_model import LogisticRegression\n",
    "from sklearn.preprocessing import MinMaxScaler\n",
    "\n",
    "#  features and classifier in a single pipeline\n",
    "\n",
    "estimators = []\n",
    "estimators.append(('lr', LogisticRegression(random_state = seed,solver='liblinear')))\n",
    "\n",
    "pipeline_lr = Pipeline(estimators)\n",
    "pipeline_lr.set_params(lr__penalty='l2')\n",
    "\n",
    "# Finding best value of C using validation set\n",
    "scores = []\n",
    "Cs = []\n",
    "for C in tqdm(np.logspace(0, 2.5, 100)):\n",
    "    pipeline_lr.set_params(lr__C=C) \n",
    "    pipeline_lr.fit(X_train_train,y_train_train)\n",
    "    \n",
    "    y_train_pred = pipeline_lr.predict(X_train_val)\n",
    "    scores.append(accuracy_score(y_train_val, y_train_pred))\n",
    "    \n",
    "    Cs.append(C)\n",
    "\n",
    "best_C_l2 = Cs[scores.index(max(scores))]\n",
    "print ('best C = %2.4f with accuracy : %2.4f' %(best_C_l2, max(scores)))\n",
    "\n",
    "# Performance of the tuned model on test set\n",
    "pipeline_lr.set_params(lr__C=best_C_l2)\n",
    "pipeline_lr.fit(X_train,y_train)\n",
    "\n",
    "y_pred_lrRl2 = pipeline_lr.predict(X_test)\n",
    "score = accuracy_score(y_test, y_pred_lrRl2)\n",
    "\n",
    "print ('l2-Logistic regression classifer accuracy on test set : %2.6f' %score)\n",
    "print('Classification Report:\\n',classification_report(y_test, y_pred_lrRl2))"
   ]
  },
  {
   "cell_type": "markdown",
   "metadata": {},
   "source": [
    "* Now we saw another linear classifier, Logistic Regression. It outperformed Naive Bayes after hyperparameter tuning. I think the reason behind this is the conditionally independence of Naive Bayes which introduces bias."
   ]
  },
  {
   "cell_type": "markdown",
   "metadata": {},
   "source": [
    "<a id='III_III'></a>\n",
    "### Random Forest"
   ]
  },
  {
   "cell_type": "code",
   "execution_count": 32,
   "metadata": {},
   "outputs": [
    {
     "name": "stderr",
     "output_type": "stream",
     "text": [
      "100%|██████████| 20/20 [00:04<00:00,  2.98it/s]\n"
     ]
    },
    {
     "name": "stdout",
     "output_type": "stream",
     "text": [
      "best n_estimators = 95 with accuracy : 0.9801\n",
      "Random forest classifer accuracy on test set : 0.9894\n",
      "Classification Report:\n",
      "               precision    recall  f1-score   support\n",
      "\n",
      "         0.0       0.99      0.99      0.99       200\n",
      "         1.0       0.99      0.99      0.99       177\n",
      "\n",
      "   micro avg       0.99      0.99      0.99       377\n",
      "   macro avg       0.99      0.99      0.99       377\n",
      "weighted avg       0.99      0.99      0.99       377\n",
      "\n"
     ]
    },
    {
     "data": {
      "image/png": "[encoded data removed]",
      "text/plain": [
       "<Figure size 432x288 with 1 Axes>"
      ]
     },
     "metadata": {
      "needs_background": "light"
     },
     "output_type": "display_data"
    }
   ],
   "source": [
    "from sklearn.ensemble import RandomForestClassifier\n",
    "\n",
    "estimators = []\n",
    "estimators.append(('rf', RandomForestClassifier()))\n",
    "\n",
    "pipeline_rf = Pipeline(estimators)\n",
    "pipeline_rf.set_params(rf__random_state = seed)\n",
    "    \n",
    "# Finding best value of n_estimators using validation set\n",
    "scores = []\n",
    "n_estimators = []\n",
    "for n_estimator in tqdm([int(i) for i in np.linspace(10, 100, 20)]):\n",
    "    pipeline_rf.set_params(rf__n_estimators = n_estimator) \n",
    "    pipeline_rf.fit(X_train_train,y_train_train)\n",
    "    y_train_pred = pipeline_rf.predict(X_train_val)\n",
    "    scores.append(accuracy_score(y_train_val, y_train_pred))\n",
    "    n_estimators.append(n_estimator)\n",
    "\n",
    "best_n_estimator = n_estimators[scores.index(max(scores))]\n",
    "print ('best n_estimators = %d with accuracy : %2.4f' %(best_n_estimator, max(scores)))\n",
    "\n",
    "# Performance of the tuned model on test set\n",
    "pipeline_rf.set_params(rf__n_estimators = best_n_estimator)\n",
    "pipeline_rf.fit(X_train,y_train)\n",
    "\n",
    "y_pred_rf = pipeline_rf.predict(X_test)\n",
    "score = accuracy_score(y_test, y_pred_rf)\n",
    "\n",
    "#Plot validation accuracy wrt number of estimators\n",
    "plt.plot( n_estimators,scores)\n",
    "plt.xlabel('Number of Estimators')\n",
    "plt.ylabel('Validation Accuracy')\n",
    "\n",
    "print ('Random forest classifer accuracy on test set : %2.4f' %score)\n",
    "print('Classification Report:\\n',classification_report(y_test, y_pred_rf))"
   ]
  },
  {
   "cell_type": "markdown",
   "metadata": {},
   "source": [
    "* We see that Random Forest outperforms Naive Bayes and \n",
    "Logistic regression and reaches %98 accuracy. This decision tree based model performs well because some of the MFCC features are highly related the speaker gender.This provides us a making good decisin rules"
   ]
  },
  {
   "cell_type": "markdown",
   "metadata": {},
   "source": [
    "<a id='III_IV'></a>\n",
    "\n",
    "### Gradient Boosting Trees"
   ]
  },
  {
   "cell_type": "code",
   "execution_count": 33,
   "metadata": {},
   "outputs": [
    {
     "name": "stderr",
     "output_type": "stream",
     "text": [
      "100%|██████████| 20/20 [00:22<00:00,  1.64s/it]\n"
     ]
    },
    {
     "name": "stdout",
     "output_type": "stream",
     "text": [
      "best n_estimator = 374 with accuracy : 0.9801\n",
      "Gradient Boosting Trees classifier accuracy on test set: 0.9920\n",
      "Classification Report:\n",
      "               precision    recall  f1-score   support\n",
      "\n",
      "         0.0       0.99      0.99      0.99       200\n",
      "         1.0       0.99      0.99      0.99       177\n",
      "\n",
      "   micro avg       0.99      0.99      0.99       377\n",
      "   macro avg       0.99      0.99      0.99       377\n",
      "weighted avg       0.99      0.99      0.99       377\n",
      "\n"
     ]
    },
    {
     "data": {
      "image/png": "[encoded data removed]",
      "text/plain": [
       "<Figure size 432x288 with 1 Axes>"
      ]
     },
     "metadata": {
      "needs_background": "light"
     },
     "output_type": "display_data"
    }
   ],
   "source": [
    "from sklearn.ensemble import GradientBoostingClassifier\n",
    "\n",
    "# Define a gradient boosting tree classifier pipeline\n",
    "estimators = []\n",
    "estimators.append(('gb', GradientBoostingClassifier(random_state = seed)))\n",
    "\n",
    "pipeline = Pipeline(estimators)\n",
    "\n",
    "# Finding best value of n_estimators using validation set\n",
    "# NOTE: Here i use only validation but to get getter performance you can use cross validaton \n",
    "#       if you have enough computation power\n",
    "scores = []\n",
    "n_estimators = []\n",
    "for n_estimator in tqdm([int(i) for i in np.linspace(10, 1000, 20)]):\n",
    "    pipeline.set_params(gb__n_estimators = n_estimator) \n",
    "    pipeline.fit(X_train_train,y_train_train)\n",
    "    y_train_pred = pipeline.predict(X_train_val)\n",
    "    scores.append(accuracy_score (y_train_val, y_train_pred))\n",
    "    n_estimators.append(n_estimator)\n",
    "\n",
    "best_n_estimator = n_estimators[scores.index(max(scores))]\n",
    "print ('best n_estimator = %d with accuracy : %2.4f' %(best_n_estimator, max(scores)))\n",
    "\n",
    "# Performance of the tuned model on test set\n",
    "pipeline.set_params(gb__n_estimators = best_n_estimator)\n",
    "pipeline.fit(X_train,y_train)\n",
    "\n",
    "y_pred_gb = pipeline.predict(X_test)\n",
    "score = accuracy_score(y_test, y_pred_gb)\n",
    "\n",
    "#Plot validation accuracy wrt number of estimators\n",
    "plt.plot( n_estimators,scores)\n",
    "plt.xlabel('Number of Estimators')\n",
    "plt.ylabel('Validation Accuracy')\n",
    "\n",
    "print ('Gradient Boosting Trees classifier accuracy on test set: %2.4f' %score)\n",
    "print('Classification Report:\\n',classification_report(y_test, y_pred_gb))"
   ]
  },
  {
   "cell_type": "markdown",
   "metadata": {},
   "source": [
    "* Again another ensemble method performs very well the motivation behind this is the same as Random Forest"
   ]
  },
  {
   "cell_type": "markdown",
   "metadata": {},
   "source": [
    "<a id='III_V'></a>\n",
    "\n",
    "### Feed Forward NN"
   ]
  },
  {
   "cell_type": "code",
   "execution_count": 34,
   "metadata": {},
   "outputs": [
    {
     "name": "stderr",
     "output_type": "stream",
     "text": [
      "Using TensorFlow backend.\n"
     ]
    }
   ],
   "source": [
    "import tensorflow as tf\n",
    "from keras.models import Sequential\n",
    "from keras.layers import Dense, Dropout\n",
    "from keras.utils import np_utils\n",
    "from keras.callbacks import Callback, EarlyStopping"
   ]
  },
  {
   "cell_type": "code",
   "execution_count": 35,
   "metadata": {},
   "outputs": [],
   "source": [
    "# build neural network model\n",
    "def create_model():\n",
    "    # create model\n",
    "    model = Sequential()\n",
    "    model.add(Dense(64, input_dim=dataset.shape[1], activation='relu'))\n",
    "#     model.add(Dense(32, activation='relu'))\n",
    "    model.add(Dense(1, activation='sigmoid'))\n",
    "    # Compile model\n",
    "    model.compile(loss='binary_crossentropy', optimizer='adam', metrics=['accuracy'])\n",
    "    return model"
   ]
  },
  {
   "cell_type": "code",
   "execution_count": 36,
   "metadata": {},
   "outputs": [
    {
     "name": "stdout",
     "output_type": "stream",
     "text": [
      "Model: \"sequential_1\"\n",
      "_________________________________________________________________\n",
      "Layer (type)                 Output Shape              Param #   \n",
      "=================================================================\n",
      "dense_1 (Dense)              (None, 64)                896       \n",
      "_________________________________________________________________\n",
      "dense_2 (Dense)              (None, 1)                 65        \n",
      "=================================================================\n",
      "Total params: 961\n",
      "Trainable params: 961\n",
      "Non-trainable params: 0\n",
      "_________________________________________________________________\n"
     ]
    }
   ],
   "source": [
    "model = create_model()\n",
    "model.summary()"
   ]
  },
  {
   "cell_type": "code",
   "execution_count": 37,
   "metadata": {},
   "outputs": [
    {
     "name": "stdout",
     "output_type": "stream",
     "text": [
      "Train on 1204 samples, validate on 302 samples\n",
      "Epoch 1/100\n",
      "1204/1204 [==============================] - 0s 274us/step - loss: 0.5520 - accuracy: 0.7467 - val_loss: 0.4975 - val_accuracy: 0.7483\n",
      "Epoch 2/100\n",
      "1204/1204 [==============================] - 0s 42us/step - loss: 0.4374 - accuracy: 0.8131 - val_loss: 0.4270 - val_accuracy: 0.7980\n",
      "Epoch 3/100\n",
      "1204/1204 [==============================] - 0s 39us/step - loss: 0.3764 - accuracy: 0.8414 - val_loss: 0.3796 - val_accuracy: 0.8245\n",
      "Epoch 4/100\n",
      "1204/1204 [==============================] - 0s 37us/step - loss: 0.3342 - accuracy: 0.8580 - val_loss: 0.3413 - val_accuracy: 0.8377\n",
      "Epoch 5/100\n",
      "1204/1204 [==============================] - 0s 37us/step - loss: 0.2998 - accuracy: 0.8671 - val_loss: 0.3063 - val_accuracy: 0.8808\n",
      "Epoch 6/100\n",
      "1204/1204 [==============================] - 0s 42us/step - loss: 0.2708 - accuracy: 0.8879 - val_loss: 0.2745 - val_accuracy: 0.8974\n",
      "Epoch 7/100\n",
      "1204/1204 [==============================] - 0s 44us/step - loss: 0.2450 - accuracy: 0.9037 - val_loss: 0.2484 - val_accuracy: 0.9172\n",
      "Epoch 8/100\n",
      "1204/1204 [==============================] - 0s 37us/step - loss: 0.2230 - accuracy: 0.9228 - val_loss: 0.2253 - val_accuracy: 0.9238\n",
      "Epoch 9/100\n",
      "1204/1204 [==============================] - 0s 34us/step - loss: 0.2043 - accuracy: 0.9286 - val_loss: 0.2063 - val_accuracy: 0.9371\n",
      "Epoch 10/100\n",
      "1204/1204 [==============================] - 0s 40us/step - loss: 0.1885 - accuracy: 0.9377 - val_loss: 0.1898 - val_accuracy: 0.9404\n",
      "Epoch 11/100\n",
      "1204/1204 [==============================] - 0s 49us/step - loss: 0.1745 - accuracy: 0.9410 - val_loss: 0.1764 - val_accuracy: 0.9404\n",
      "Epoch 12/100\n",
      "1204/1204 [==============================] - 0s 47us/step - loss: 0.1622 - accuracy: 0.9477 - val_loss: 0.1655 - val_accuracy: 0.9404\n",
      "Epoch 13/100\n",
      "1204/1204 [==============================] - 0s 37us/step - loss: 0.1518 - accuracy: 0.9518 - val_loss: 0.1546 - val_accuracy: 0.9470\n",
      "Epoch 14/100\n",
      "1204/1204 [==============================] - 0s 32us/step - loss: 0.1431 - accuracy: 0.9551 - val_loss: 0.1463 - val_accuracy: 0.9570\n",
      "Epoch 15/100\n",
      "1204/1204 [==============================] - 0s 31us/step - loss: 0.1352 - accuracy: 0.9593 - val_loss: 0.1389 - val_accuracy: 0.9570\n",
      "Epoch 16/100\n",
      "1204/1204 [==============================] - 0s 30us/step - loss: 0.1281 - accuracy: 0.9610 - val_loss: 0.1319 - val_accuracy: 0.9536\n",
      "Epoch 17/100\n",
      "1204/1204 [==============================] - 0s 38us/step - loss: 0.1211 - accuracy: 0.9651 - val_loss: 0.1267 - val_accuracy: 0.9603\n",
      "Epoch 18/100\n",
      "1204/1204 [==============================] - 0s 36us/step - loss: 0.1154 - accuracy: 0.9668 - val_loss: 0.1214 - val_accuracy: 0.9636\n",
      "Epoch 19/100\n",
      "1204/1204 [==============================] - 0s 47us/step - loss: 0.1105 - accuracy: 0.9659 - val_loss: 0.1168 - val_accuracy: 0.9603\n",
      "Epoch 20/100\n",
      "1204/1204 [==============================] - 0s 48us/step - loss: 0.1055 - accuracy: 0.9709 - val_loss: 0.1114 - val_accuracy: 0.9702\n",
      "Epoch 21/100\n",
      "1204/1204 [==============================] - 0s 40us/step - loss: 0.1012 - accuracy: 0.9718 - val_loss: 0.1086 - val_accuracy: 0.9669\n",
      "Epoch 22/100\n",
      "1204/1204 [==============================] - 0s 39us/step - loss: 0.0970 - accuracy: 0.9709 - val_loss: 0.1050 - val_accuracy: 0.9735\n",
      "Epoch 23/100\n",
      "1204/1204 [==============================] - 0s 62us/step - loss: 0.0936 - accuracy: 0.9759 - val_loss: 0.1021 - val_accuracy: 0.9702\n",
      "Epoch 24/100\n",
      "1204/1204 [==============================] - 0s 43us/step - loss: 0.0897 - accuracy: 0.9767 - val_loss: 0.0973 - val_accuracy: 0.9735\n",
      "Epoch 25/100\n",
      "1204/1204 [==============================] - 0s 35us/step - loss: 0.0867 - accuracy: 0.9776 - val_loss: 0.0949 - val_accuracy: 0.9768\n",
      "Epoch 26/100\n",
      "1204/1204 [==============================] - 0s 34us/step - loss: 0.0837 - accuracy: 0.9767 - val_loss: 0.0921 - val_accuracy: 0.9768\n",
      "Epoch 27/100\n",
      "1204/1204 [==============================] - 0s 34us/step - loss: 0.0810 - accuracy: 0.9792 - val_loss: 0.0893 - val_accuracy: 0.9735\n",
      "Epoch 28/100\n",
      "1204/1204 [==============================] - 0s 34us/step - loss: 0.0788 - accuracy: 0.9776 - val_loss: 0.0862 - val_accuracy: 0.9768\n",
      "Epoch 29/100\n",
      "1204/1204 [==============================] - 0s 52us/step - loss: 0.0759 - accuracy: 0.9792 - val_loss: 0.0856 - val_accuracy: 0.9735\n",
      "Epoch 30/100\n",
      "1204/1204 [==============================] - 0s 50us/step - loss: 0.0736 - accuracy: 0.9817 - val_loss: 0.0821 - val_accuracy: 0.9735\n",
      "\n",
      "Epoch 00030: ReduceLROnPlateau reducing learning rate to 0.0005000000237487257.\n",
      "Epoch 31/100\n",
      "1204/1204 [==============================] - 0s 32us/step - loss: 0.0710 - accuracy: 0.9809 - val_loss: 0.0801 - val_accuracy: 0.9801\n",
      "Epoch 32/100\n",
      "1204/1204 [==============================] - 0s 70us/step - loss: 0.0700 - accuracy: 0.9826 - val_loss: 0.0800 - val_accuracy: 0.9801\n",
      "Epoch 33/100\n",
      "1204/1204 [==============================] - 0s 40us/step - loss: 0.0690 - accuracy: 0.9826 - val_loss: 0.0787 - val_accuracy: 0.9801\n",
      "Epoch 34/100\n",
      "1204/1204 [==============================] - 0s 49us/step - loss: 0.0680 - accuracy: 0.9817 - val_loss: 0.0783 - val_accuracy: 0.9801\n",
      "Epoch 35/100\n",
      "1204/1204 [==============================] - 0s 41us/step - loss: 0.0669 - accuracy: 0.9826 - val_loss: 0.0774 - val_accuracy: 0.9801\n",
      "Epoch 36/100\n",
      "1204/1204 [==============================] - 0s 45us/step - loss: 0.0658 - accuracy: 0.9826 - val_loss: 0.0761 - val_accuracy: 0.9801\n",
      "\n",
      "Epoch 00036: ReduceLROnPlateau reducing learning rate to 0.0002500000118743628.\n",
      "Epoch 37/100\n",
      "1204/1204 [==============================] - 0s 35us/step - loss: 0.0649 - accuracy: 0.9826 - val_loss: 0.0758 - val_accuracy: 0.9801\n",
      "Epoch 38/100\n",
      "1204/1204 [==============================] - 0s 33us/step - loss: 0.0645 - accuracy: 0.9826 - val_loss: 0.0750 - val_accuracy: 0.9801\n",
      "Epoch 39/100\n",
      "1204/1204 [==============================] - 0s 34us/step - loss: 0.0639 - accuracy: 0.9826 - val_loss: 0.0746 - val_accuracy: 0.9801\n",
      "Epoch 40/100\n",
      "1204/1204 [==============================] - 0s 35us/step - loss: 0.0634 - accuracy: 0.9826 - val_loss: 0.0745 - val_accuracy: 0.9801\n",
      "Epoch 41/100\n",
      "1204/1204 [==============================] - 0s 46us/step - loss: 0.0630 - accuracy: 0.9826 - val_loss: 0.0740 - val_accuracy: 0.9801\n",
      "\n",
      "Epoch 00041: ReduceLROnPlateau reducing learning rate to 0.0001250000059371814.\n",
      "Epoch 00041: early stopping\n"
     ]
    }
   ],
   "source": [
    "min_lr=1e-6\n",
    "callbacks =[]\n",
    "reduce_lr = tf.keras.callbacks.ReduceLROnPlateau(monitor='val_accuracy',\n",
    "                                                 mode=\"max\",\n",
    "                                                 min_lr=min_lr,\n",
    "                                                 factor=.5,\n",
    "                                                 patience=5,\n",
    "                                                 verbose=1)\n",
    "callbacks.append(reduce_lr)\n",
    "\n",
    "es_callback = tf.keras.callbacks.EarlyStopping(monitor='val_accuracy', mode='max', patience=10, verbose=1)\n",
    "callbacks.append(es_callback)\n",
    "\n",
    "history = model.fit(X_train, y_train, batch_size=32, epochs=100, verbose=1, validation_split=0.2, callbacks=callbacks)"
   ]
  },
  {
   "cell_type": "code",
   "execution_count": 38,
   "metadata": {},
   "outputs": [
    {
     "name": "stdout",
     "output_type": "stream",
     "text": [
      "Feed Forward Neural Network accuracy on test set : 0.976127\n",
      "Classification Report:\n",
      "               precision    recall  f1-score   support\n",
      "\n",
      "         0.0       0.98      0.97      0.98       200\n",
      "         1.0       0.97      0.98      0.97       177\n",
      "\n",
      "   micro avg       0.98      0.98      0.98       377\n",
      "   macro avg       0.98      0.98      0.98       377\n",
      "weighted avg       0.98      0.98      0.98       377\n",
      "\n"
     ]
    }
   ],
   "source": [
    "y_pred_ffnn = model.predict_classes(X_test)\n",
    "score = accuracy_score(y_test, y_pred_ffnn)\n",
    "print ('Feed Forward Neural Network accuracy on test set : %2.6f' %score)\n",
    "print('Classification Report:\\n',classification_report(y_test, y_pred_ffnn))"
   ]
  },
  {
   "cell_type": "code",
   "execution_count": 39,
   "metadata": {},
   "outputs": [],
   "source": [
    "def plot_nn_hist(history):\n",
    "    plt.plot(history.history['accuracy'])\n",
    "    plt.plot(history.history['val_accuracy'])\n",
    "    plt.title('model accuracy')\n",
    "    plt.ylabel('accuracy')\n",
    "    plt.xlabel('epoch')\n",
    "    plt.legend(['train', 'validation'], loc='upper left')\n",
    "    plt.show()\n",
    "    # summarize history for loss\n",
    "    plt.plot(history.history['loss'])\n",
    "    plt.plot(history.history['val_loss'])\n",
    "    plt.title('model loss')\n",
    "    plt.ylabel('loss')\n",
    "    plt.xlabel('epoch')\n",
    "    plt.legend(['train', 'validation'], loc='upper left')\n",
    "    plt.show()"
   ]
  },
  {
   "cell_type": "code",
   "execution_count": 40,
   "metadata": {},
   "outputs": [
    {
     "data": {
      "image/png": "[encoded data removed]",
      "text/plain": [
       "<Figure size 432x288 with 1 Axes>"
      ]
     },
     "metadata": {
      "needs_background": "light"
     },
     "output_type": "display_data"
    },
    {
     "data": {
      "image/png": "[encoded data removed]",
      "text/plain": [
       "<Figure size 432x288 with 1 Axes>"
      ]
     },
     "metadata": {
      "needs_background": "light"
     },
     "output_type": "display_data"
    }
   ],
   "source": [
    "plot_nn_hist(history)"
   ]
  },
  {
   "cell_type": "markdown",
   "metadata": {},
   "source": [
    "<a id='III_VI'></a>\n",
    "\n",
    "### Convolutional Neural Networks"
   ]
  },
  {
   "cell_type": "code",
   "execution_count": 41,
   "metadata": {},
   "outputs": [],
   "source": [
    "from keras.layers import Dense, Conv1D,LSTM, GlobalMaxPool1D, Dropout"
   ]
  },
  {
   "cell_type": "code",
   "execution_count": 42,
   "metadata": {},
   "outputs": [],
   "source": [
    "def create_cnn_model():\n",
    "    model = Sequential()\n",
    "    model.add(Conv1D(64,10, activation='relu', input_shape=(numcep, 1)))\n",
    "    model.add(GlobalMaxPool1D())\n",
    "    model.add(Dense(1,activation='sigmoid'))\n",
    "    \n",
    "    model.compile(loss='binary_crossentropy', optimizer='adam', metrics=['accuracy'])\n",
    "    print(model.summary())\n",
    "    return model"
   ]
  },
  {
   "cell_type": "code",
   "execution_count": 43,
   "metadata": {},
   "outputs": [],
   "source": [
    "num_samples, num_features = dataset.shape\n",
    "X_train_cnn, X_test_cnn, y_train_cnn, y_test_cnn = train_test_split(dataset.reshape(num_samples, num_features,1) , genders, test_size=0.2, random_state=seed, stratify=genders)"
   ]
  },
  {
   "cell_type": "code",
   "execution_count": 44,
   "metadata": {},
   "outputs": [
    {
     "name": "stdout",
     "output_type": "stream",
     "text": [
      "Model: \"sequential_2\"\n",
      "_________________________________________________________________\n",
      "Layer (type)                 Output Shape              Param #   \n",
      "=================================================================\n",
      "conv1d_1 (Conv1D)            (None, 4, 64)             704       \n",
      "_________________________________________________________________\n",
      "global_max_pooling1d_1 (Glob (None, 64)                0         \n",
      "_________________________________________________________________\n",
      "dense_3 (Dense)              (None, 1)                 65        \n",
      "=================================================================\n",
      "Total params: 769\n",
      "Trainable params: 769\n",
      "Non-trainable params: 0\n",
      "_________________________________________________________________\n",
      "None\n",
      "Train on 1204 samples, validate on 302 samples\n",
      "Epoch 1/100\n",
      "1204/1204 [==============================] - 0s 179us/step - loss: 2.5037 - accuracy: 0.6096 - val_loss: 0.7479 - val_accuracy: 0.7020\n",
      "Epoch 2/100\n",
      "1204/1204 [==============================] - 0s 49us/step - loss: 0.5382 - accuracy: 0.7517 - val_loss: 0.4231 - val_accuracy: 0.7781\n",
      "Epoch 3/100\n",
      "1204/1204 [==============================] - 0s 54us/step - loss: 0.3962 - accuracy: 0.8331 - val_loss: 0.3951 - val_accuracy: 0.8146\n",
      "Epoch 4/100\n",
      "1204/1204 [==============================] - 0s 47us/step - loss: 0.3655 - accuracy: 0.8397 - val_loss: 0.3558 - val_accuracy: 0.8212\n",
      "Epoch 5/100\n",
      "1204/1204 [==============================] - 0s 54us/step - loss: 0.3477 - accuracy: 0.8455 - val_loss: 0.3334 - val_accuracy: 0.8477\n",
      "Epoch 6/100\n",
      "1204/1204 [==============================] - 0s 47us/step - loss: 0.3803 - accuracy: 0.8297 - val_loss: 0.6176 - val_accuracy: 0.6623\n",
      "Epoch 7/100\n",
      "1204/1204 [==============================] - 0s 51us/step - loss: 0.3412 - accuracy: 0.8455 - val_loss: 0.3062 - val_accuracy: 0.8510\n",
      "Epoch 8/100\n",
      "1204/1204 [==============================] - 0s 58us/step - loss: 0.3060 - accuracy: 0.8696 - val_loss: 0.2970 - val_accuracy: 0.8642\n",
      "Epoch 9/100\n",
      "1204/1204 [==============================] - 0s 49us/step - loss: 0.2935 - accuracy: 0.8804 - val_loss: 0.3000 - val_accuracy: 0.8675\n",
      "Epoch 10/100\n",
      "1204/1204 [==============================] - 0s 51us/step - loss: 0.2812 - accuracy: 0.8821 - val_loss: 0.3135 - val_accuracy: 0.8576\n",
      "Epoch 11/100\n",
      "1204/1204 [==============================] - 0s 46us/step - loss: 0.2773 - accuracy: 0.8912 - val_loss: 0.2685 - val_accuracy: 0.8874\n",
      "Epoch 12/100\n",
      "1204/1204 [==============================] - 0s 52us/step - loss: 0.2531 - accuracy: 0.9028 - val_loss: 0.2510 - val_accuracy: 0.9040\n",
      "Epoch 13/100\n",
      "1204/1204 [==============================] - 0s 49us/step - loss: 0.2453 - accuracy: 0.8995 - val_loss: 0.2443 - val_accuracy: 0.9007\n",
      "Epoch 14/100\n",
      "1204/1204 [==============================] - 0s 55us/step - loss: 0.2330 - accuracy: 0.9128 - val_loss: 0.2472 - val_accuracy: 0.9007\n",
      "Epoch 15/100\n",
      "1204/1204 [==============================] - 0s 45us/step - loss: 0.2366 - accuracy: 0.8929 - val_loss: 0.2330 - val_accuracy: 0.9040\n",
      "Epoch 16/100\n",
      "1204/1204 [==============================] - 0s 61us/step - loss: 0.2329 - accuracy: 0.9020 - val_loss: 0.2552 - val_accuracy: 0.8841\n",
      "Epoch 17/100\n",
      "1204/1204 [==============================] - 0s 51us/step - loss: 0.2169 - accuracy: 0.9219 - val_loss: 0.2374 - val_accuracy: 0.9106\n",
      "Epoch 18/100\n",
      "1204/1204 [==============================] - 0s 56us/step - loss: 0.2054 - accuracy: 0.9211 - val_loss: 0.2049 - val_accuracy: 0.9205\n",
      "Epoch 19/100\n",
      "1204/1204 [==============================] - 0s 48us/step - loss: 0.2124 - accuracy: 0.9186 - val_loss: 0.2184 - val_accuracy: 0.9040\n",
      "Epoch 20/100\n",
      "1204/1204 [==============================] - 0s 54us/step - loss: 0.1998 - accuracy: 0.9244 - val_loss: 0.1996 - val_accuracy: 0.9272\n",
      "Epoch 21/100\n",
      "1204/1204 [==============================] - 0s 50us/step - loss: 0.2092 - accuracy: 0.9153 - val_loss: 0.2309 - val_accuracy: 0.8974\n",
      "Epoch 22/100\n",
      "1204/1204 [==============================] - 0s 45us/step - loss: 0.1892 - accuracy: 0.9277 - val_loss: 0.2125 - val_accuracy: 0.9040\n",
      "Epoch 23/100\n",
      "1204/1204 [==============================] - 0s 47us/step - loss: 0.1975 - accuracy: 0.9169 - val_loss: 0.1893 - val_accuracy: 0.9139\n",
      "Epoch 24/100\n",
      "1204/1204 [==============================] - 0s 54us/step - loss: 0.1850 - accuracy: 0.9269 - val_loss: 0.1775 - val_accuracy: 0.9238\n",
      "Epoch 25/100\n",
      "1204/1204 [==============================] - 0s 51us/step - loss: 0.1704 - accuracy: 0.9360 - val_loss: 0.2094 - val_accuracy: 0.9073\n",
      "\n",
      "Epoch 00025: ReduceLROnPlateau reducing learning rate to 0.0005000000237487257.\n",
      "Epoch 26/100\n",
      "1204/1204 [==============================] - 0s 47us/step - loss: 0.1677 - accuracy: 0.9352 - val_loss: 0.1751 - val_accuracy: 0.9338\n",
      "Epoch 27/100\n",
      "1204/1204 [==============================] - 0s 50us/step - loss: 0.1646 - accuracy: 0.9385 - val_loss: 0.1720 - val_accuracy: 0.9371\n",
      "Epoch 28/100\n",
      "1204/1204 [==============================] - 0s 48us/step - loss: 0.1774 - accuracy: 0.9311 - val_loss: 0.1780 - val_accuracy: 0.9338\n",
      "Epoch 29/100\n",
      "1204/1204 [==============================] - 0s 46us/step - loss: 0.1601 - accuracy: 0.9344 - val_loss: 0.1800 - val_accuracy: 0.9371\n",
      "Epoch 30/100\n",
      "1204/1204 [==============================] - 0s 54us/step - loss: 0.1602 - accuracy: 0.9427 - val_loss: 0.1730 - val_accuracy: 0.9205\n",
      "Epoch 31/100\n",
      "1204/1204 [==============================] - 0s 47us/step - loss: 0.1539 - accuracy: 0.9410 - val_loss: 0.1744 - val_accuracy: 0.9338\n",
      "Epoch 32/100\n",
      "1204/1204 [==============================] - 0s 48us/step - loss: 0.1575 - accuracy: 0.9419 - val_loss: 0.1890 - val_accuracy: 0.9238\n",
      "\n",
      "Epoch 00032: ReduceLROnPlateau reducing learning rate to 0.0002500000118743628.\n",
      "Epoch 33/100\n",
      "1204/1204 [==============================] - 0s 45us/step - loss: 0.1541 - accuracy: 0.9402 - val_loss: 0.1704 - val_accuracy: 0.9338\n",
      "Epoch 34/100\n",
      "1204/1204 [==============================] - 0s 69us/step - loss: 0.1469 - accuracy: 0.9468 - val_loss: 0.1658 - val_accuracy: 0.9404\n",
      "Epoch 35/100\n",
      "1204/1204 [==============================] - 0s 59us/step - loss: 0.1453 - accuracy: 0.9468 - val_loss: 0.1734 - val_accuracy: 0.9305\n",
      "Epoch 36/100\n",
      "1204/1204 [==============================] - 0s 46us/step - loss: 0.1435 - accuracy: 0.9460 - val_loss: 0.1650 - val_accuracy: 0.9305\n",
      "Epoch 37/100\n",
      "1204/1204 [==============================] - 0s 57us/step - loss: 0.1420 - accuracy: 0.9493 - val_loss: 0.1829 - val_accuracy: 0.9238\n",
      "Epoch 38/100\n",
      "1204/1204 [==============================] - 0s 46us/step - loss: 0.1438 - accuracy: 0.9468 - val_loss: 0.1646 - val_accuracy: 0.9371\n",
      "Epoch 39/100\n",
      "1204/1204 [==============================] - 0s 54us/step - loss: 0.1442 - accuracy: 0.9485 - val_loss: 0.1667 - val_accuracy: 0.9305\n",
      "\n",
      "Epoch 00039: ReduceLROnPlateau reducing learning rate to 0.0001250000059371814.\n",
      "Epoch 40/100\n",
      "1204/1204 [==============================] - 0s 62us/step - loss: 0.1402 - accuracy: 0.9493 - val_loss: 0.1773 - val_accuracy: 0.9238\n",
      "Epoch 41/100\n",
      "1204/1204 [==============================] - 0s 61us/step - loss: 0.1396 - accuracy: 0.9468 - val_loss: 0.1636 - val_accuracy: 0.9305\n",
      "Epoch 42/100\n",
      "1204/1204 [==============================] - 0s 68us/step - loss: 0.1423 - accuracy: 0.9460 - val_loss: 0.1634 - val_accuracy: 0.9470\n",
      "Epoch 43/100\n",
      "1204/1204 [==============================] - 0s 73us/step - loss: 0.1375 - accuracy: 0.9485 - val_loss: 0.1649 - val_accuracy: 0.9305\n",
      "Epoch 44/100\n",
      "1204/1204 [==============================] - 0s 50us/step - loss: 0.1375 - accuracy: 0.9493 - val_loss: 0.1631 - val_accuracy: 0.9404\n",
      "Epoch 45/100\n",
      "1204/1204 [==============================] - 0s 48us/step - loss: 0.1388 - accuracy: 0.9468 - val_loss: 0.1624 - val_accuracy: 0.9371\n",
      "Epoch 46/100\n",
      "1204/1204 [==============================] - 0s 51us/step - loss: 0.1387 - accuracy: 0.9493 - val_loss: 0.1613 - val_accuracy: 0.9371\n",
      "Epoch 47/100\n",
      "1204/1204 [==============================] - 0s 64us/step - loss: 0.1369 - accuracy: 0.9527 - val_loss: 0.1664 - val_accuracy: 0.9305\n",
      "\n",
      "Epoch 00047: ReduceLROnPlateau reducing learning rate to 6.25000029685907e-05.\n",
      "Epoch 48/100\n",
      "1204/1204 [==============================] - 0s 57us/step - loss: 0.1382 - accuracy: 0.9502 - val_loss: 0.1622 - val_accuracy: 0.9305\n",
      "Epoch 49/100\n"
     ]
    },
    {
     "name": "stdout",
     "output_type": "stream",
     "text": [
      "1204/1204 [==============================] - 0s 60us/step - loss: 0.1348 - accuracy: 0.9527 - val_loss: 0.1615 - val_accuracy: 0.9371\n",
      "Epoch 50/100\n",
      "1204/1204 [==============================] - 0s 75us/step - loss: 0.1377 - accuracy: 0.9477 - val_loss: 0.1619 - val_accuracy: 0.9305\n",
      "Epoch 51/100\n",
      "1204/1204 [==============================] - 0s 81us/step - loss: 0.1351 - accuracy: 0.9535 - val_loss: 0.1624 - val_accuracy: 0.9305\n",
      "Epoch 52/100\n",
      "1204/1204 [==============================] - 0s 74us/step - loss: 0.1347 - accuracy: 0.9518 - val_loss: 0.1581 - val_accuracy: 0.9404\n",
      "\n",
      "Epoch 00052: ReduceLROnPlateau reducing learning rate to 3.125000148429535e-05.\n",
      "Epoch 00052: early stopping\n"
     ]
    }
   ],
   "source": [
    "model = create_cnn_model()\n",
    "hist = model.fit(X_train_cnn, y_train_cnn, batch_size=32, epochs=100, verbose=1, validation_split=0.2,callbacks=callbacks)"
   ]
  },
  {
   "cell_type": "code",
   "execution_count": 45,
   "metadata": {},
   "outputs": [
    {
     "data": {
      "image/png": "[encoded data removed]",
      "text/plain": [
       "<Figure size 432x288 with 1 Axes>"
      ]
     },
     "metadata": {
      "needs_background": "light"
     },
     "output_type": "display_data"
    },
    {
     "data": {
      "image/png": "[encoded data removed]",
      "text/plain": [
       "<Figure size 432x288 with 1 Axes>"
      ]
     },
     "metadata": {
      "needs_background": "light"
     },
     "output_type": "display_data"
    }
   ],
   "source": [
    "plot_nn_hist(hist)"
   ]
  },
  {
   "cell_type": "code",
   "execution_count": 46,
   "metadata": {},
   "outputs": [
    {
     "name": "stdout",
     "output_type": "stream",
     "text": [
      "One Layer CNN accuracy on test set : 0.946950\n",
      "Classification Report:\n",
      "               precision    recall  f1-score   support\n",
      "\n",
      "         0.0       0.96      0.94      0.95       200\n",
      "         1.0       0.93      0.95      0.94       177\n",
      "\n",
      "   micro avg       0.95      0.95      0.95       377\n",
      "   macro avg       0.95      0.95      0.95       377\n",
      "weighted avg       0.95      0.95      0.95       377\n",
      "\n"
     ]
    }
   ],
   "source": [
    "y_pred_cnn = model.predict_classes(X_test_cnn)\n",
    "score = accuracy_score(y_test_cnn, y_pred_cnn)\n",
    "print ('One Layer CNN accuracy on test set : %2.6f' %score)\n",
    "print('Classification Report:\\n',classification_report(y_test_cnn, y_pred_cnn))"
   ]
  },
  {
   "cell_type": "markdown",
   "metadata": {},
   "source": [
    "<a id='III_VII'></a>\n",
    "\n",
    "### Recurrent Neural Networks"
   ]
  },
  {
   "cell_type": "code",
   "execution_count": 47,
   "metadata": {},
   "outputs": [],
   "source": [
    "def singleLSTM(input_dim=(13,1)):\n",
    "    model = Sequential()\n",
    "    # LSTM Layer\n",
    "    model.add(LSTM(128,input_shape=input_dim))\n",
    "    model.add(Dense(1, activation='sigmoid'))\n",
    "    model.compile(loss='binary_crossentropy', optimizer='adam', metrics=['accuracy'])\n",
    "    print(model.summary())\n",
    "    return model"
   ]
  },
  {
   "cell_type": "code",
   "execution_count": 48,
   "metadata": {},
   "outputs": [
    {
     "name": "stdout",
     "output_type": "stream",
     "text": [
      "Model: \"sequential_3\"\n",
      "_________________________________________________________________\n",
      "Layer (type)                 Output Shape              Param #   \n",
      "=================================================================\n",
      "lstm_1 (LSTM)                (None, 128)               66560     \n",
      "_________________________________________________________________\n",
      "dense_4 (Dense)              (None, 1)                 129       \n",
      "=================================================================\n",
      "Total params: 66,689\n",
      "Trainable params: 66,689\n",
      "Non-trainable params: 0\n",
      "_________________________________________________________________\n",
      "None\n",
      "Train on 1204 samples, validate on 302 samples\n",
      "Epoch 1/100\n",
      "1204/1204 [==============================] - 1s 939us/step - loss: 0.5727 - accuracy: 0.6661 - val_loss: 0.5098 - val_accuracy: 0.7252\n",
      "Epoch 2/100\n",
      "1204/1204 [==============================] - 1s 510us/step - loss: 0.4738 - accuracy: 0.7508 - val_loss: 0.4532 - val_accuracy: 0.7517\n",
      "Epoch 3/100\n",
      "1204/1204 [==============================] - 1s 544us/step - loss: 0.4297 - accuracy: 0.7824 - val_loss: 0.4315 - val_accuracy: 0.8146\n",
      "Epoch 4/100\n",
      "1204/1204 [==============================] - 1s 533us/step - loss: 0.3866 - accuracy: 0.8156 - val_loss: 0.4326 - val_accuracy: 0.7848\n",
      "Epoch 5/100\n",
      "1204/1204 [==============================] - 1s 514us/step - loss: 0.3459 - accuracy: 0.8472 - val_loss: 0.3346 - val_accuracy: 0.8477\n",
      "Epoch 6/100\n",
      "1204/1204 [==============================] - 1s 513us/step - loss: 0.2937 - accuracy: 0.8738 - val_loss: 0.2952 - val_accuracy: 0.8709\n",
      "Epoch 7/100\n",
      "1204/1204 [==============================] - 1s 514us/step - loss: 0.2372 - accuracy: 0.9103 - val_loss: 0.2733 - val_accuracy: 0.8907\n",
      "Epoch 8/100\n",
      "1204/1204 [==============================] - 1s 520us/step - loss: 0.2075 - accuracy: 0.9145 - val_loss: 0.2261 - val_accuracy: 0.8940\n",
      "Epoch 9/100\n",
      "1204/1204 [==============================] - 1s 536us/step - loss: 0.1789 - accuracy: 0.9336 - val_loss: 0.2613 - val_accuracy: 0.9073\n",
      "Epoch 10/100\n",
      "1204/1204 [==============================] - 1s 562us/step - loss: 0.1607 - accuracy: 0.9427 - val_loss: 0.1612 - val_accuracy: 0.9172\n",
      "Epoch 11/100\n",
      "1204/1204 [==============================] - 1s 531us/step - loss: 0.1414 - accuracy: 0.9502 - val_loss: 0.1633 - val_accuracy: 0.9172\n",
      "Epoch 12/100\n",
      "1204/1204 [==============================] - 1s 539us/step - loss: 0.1124 - accuracy: 0.9618 - val_loss: 0.1560 - val_accuracy: 0.9305\n",
      "Epoch 13/100\n",
      "1204/1204 [==============================] - 1s 534us/step - loss: 0.1086 - accuracy: 0.9601 - val_loss: 0.1407 - val_accuracy: 0.9503\n",
      "Epoch 14/100\n",
      "1204/1204 [==============================] - 1s 521us/step - loss: 0.1028 - accuracy: 0.9593 - val_loss: 0.1183 - val_accuracy: 0.9470\n",
      "Epoch 15/100\n",
      "1204/1204 [==============================] - 1s 510us/step - loss: 0.0868 - accuracy: 0.9709 - val_loss: 0.1165 - val_accuracy: 0.9470\n",
      "Epoch 16/100\n",
      "1204/1204 [==============================] - 1s 624us/step - loss: 0.0731 - accuracy: 0.9751 - val_loss: 0.0978 - val_accuracy: 0.9536\n",
      "Epoch 17/100\n",
      "1204/1204 [==============================] - 1s 565us/step - loss: 0.0585 - accuracy: 0.9826 - val_loss: 0.0941 - val_accuracy: 0.9570\n",
      "Epoch 18/100\n",
      "1204/1204 [==============================] - 1s 542us/step - loss: 0.0464 - accuracy: 0.9859 - val_loss: 0.0966 - val_accuracy: 0.9503\n",
      "Epoch 19/100\n",
      "1204/1204 [==============================] - 1s 535us/step - loss: 0.0411 - accuracy: 0.9850 - val_loss: 0.0952 - val_accuracy: 0.9603\n",
      "Epoch 20/100\n",
      "1204/1204 [==============================] - 1s 509us/step - loss: 0.0528 - accuracy: 0.9809 - val_loss: 0.0707 - val_accuracy: 0.9735\n",
      "Epoch 21/100\n",
      "1204/1204 [==============================] - 1s 539us/step - loss: 0.0339 - accuracy: 0.9917 - val_loss: 0.0592 - val_accuracy: 0.9834\n",
      "Epoch 22/100\n",
      "1204/1204 [==============================] - 1s 541us/step - loss: 0.0312 - accuracy: 0.9934 - val_loss: 0.0588 - val_accuracy: 0.9801\n",
      "Epoch 23/100\n",
      "1204/1204 [==============================] - 1s 610us/step - loss: 0.0291 - accuracy: 0.9934 - val_loss: 0.0592 - val_accuracy: 0.9768\n",
      "Epoch 24/100\n",
      "1204/1204 [==============================] - 1s 593us/step - loss: 0.0238 - accuracy: 0.9950 - val_loss: 0.1209 - val_accuracy: 0.9669\n",
      "Epoch 25/100\n",
      "1204/1204 [==============================] - 1s 598us/step - loss: 0.0454 - accuracy: 0.9867 - val_loss: 0.0785 - val_accuracy: 0.9669\n",
      "Epoch 26/100\n",
      "1204/1204 [==============================] - 1s 594us/step - loss: 0.0207 - accuracy: 0.9950 - val_loss: 0.0606 - val_accuracy: 0.9636\n",
      "\n",
      "Epoch 00026: ReduceLROnPlateau reducing learning rate to 0.0005000000237487257.\n",
      "Epoch 27/100\n",
      "1204/1204 [==============================] - 1s 534us/step - loss: 0.0114 - accuracy: 0.9983 - val_loss: 0.0479 - val_accuracy: 0.9768\n",
      "Epoch 28/100\n",
      "1204/1204 [==============================] - 1s 576us/step - loss: 0.0099 - accuracy: 0.9983 - val_loss: 0.0626 - val_accuracy: 0.9570\n",
      "Epoch 29/100\n",
      "1204/1204 [==============================] - 1s 583us/step - loss: 0.0097 - accuracy: 0.9992 - val_loss: 0.0537 - val_accuracy: 0.9735\n",
      "Epoch 30/100\n",
      "1204/1204 [==============================] - 1s 671us/step - loss: 0.0091 - accuracy: 0.9983 - val_loss: 0.0690 - val_accuracy: 0.9570\n",
      "Epoch 31/100\n",
      "1204/1204 [==============================] - 1s 624us/step - loss: 0.0081 - accuracy: 0.9992 - val_loss: 0.0540 - val_accuracy: 0.9702\n",
      "\n",
      "Epoch 00031: ReduceLROnPlateau reducing learning rate to 0.0002500000118743628.\n",
      "Epoch 00031: early stopping\n"
     ]
    }
   ],
   "source": [
    "model = singleLSTM()\n",
    "hist = model.fit(X_train_cnn, y_train_cnn, batch_size=32, epochs=100, verbose=1, validation_split=0.2,callbacks=callbacks)"
   ]
  },
  {
   "cell_type": "code",
   "execution_count": 49,
   "metadata": {},
   "outputs": [
    {
     "data": {
      "image/png": "[encoded data removed]",
      "text/plain": [
       "<Figure size 432x288 with 1 Axes>"
      ]
     },
     "metadata": {
      "needs_background": "light"
     },
     "output_type": "display_data"
    },
    {
     "data": {
      "image/png": "[encoded data removed]",
      "text/plain": [
       "<Figure size 432x288 with 1 Axes>"
      ]
     },
     "metadata": {
      "needs_background": "light"
     },
     "output_type": "display_data"
    }
   ],
   "source": [
    "plot_nn_hist(hist)"
   ]
  },
  {
   "cell_type": "code",
   "execution_count": 50,
   "metadata": {},
   "outputs": [
    {
     "name": "stdout",
     "output_type": "stream",
     "text": [
      "One Layer LSTM on test set : 0.989390\n",
      "Classification Report:\n",
      "               precision    recall  f1-score   support\n",
      "\n",
      "         0.0       0.99      0.99      0.99       200\n",
      "         1.0       0.99      0.99      0.99       177\n",
      "\n",
      "   micro avg       0.99      0.99      0.99       377\n",
      "   macro avg       0.99      0.99      0.99       377\n",
      "weighted avg       0.99      0.99      0.99       377\n",
      "\n"
     ]
    }
   ],
   "source": [
    "y_pred_lstm = model.predict_classes(X_test_cnn)\n",
    "score = accuracy_score(y_test_cnn, y_pred_lstm)\n",
    "print ('One Layer LSTM on test set : %2.6f' %score)\n",
    "print('Classification Report:\\n',classification_report(y_test_cnn, y_pred_lstm))"
   ]
  },
  {
   "cell_type": "markdown",
   "metadata": {},
   "source": [
    "<a id='IV'></a>\n",
    "### Discussion"
   ]
  },
  {
   "cell_type": "markdown",
   "metadata": {},
   "source": [
    "**Accuracy Performances**\n",
    "\n",
    "| Model | Accuracy  |\n",
    "|------|------|\n",
    "|   Gaussian NB  | 0.7984|\n",
    "|   Logistic Regression| 0.8567|\n",
    "|   Random Forest  | 0.9894|\n",
    "|   Gradient Boosting Trees| 0.9920|\n",
    "|   FFN  |  0.9761|\n",
    "|   CNN  |  0.9469|\n",
    "|   RNN  | 0.9893|"
   ]
  },
  {
   "cell_type": "markdown",
   "metadata": {},
   "source": [
    "* In this problem Naive Bayes performs worst because it has strong  conditional independence assumption. This introduces bias.\n",
    "* Logistic regression perfors slightly better than Naive Bayes. It has less bias wrt Naive Bayes due to lacking of conditional independence assumption. However wrt ensemble methods or neural networks it is far behind by their performance\n",
    "* It's seen that for this dataset ensemble methods perform best. These decision tree based models perform good because MFCC features are highly correlated to gender of the speaker. This makes eaiser to create good decision rules\n",
    "* Simply one hidden layer FFN performs suprisingly very well. We see the power of universal approximation power of neural nets. I believe if we fine tune layers and number of units we could achieve a better performance.\n",
    "* One Layer CNN with drop out layer performs very well I believe this is because it detects latent features in the spectrum which helps us to distinguish genders. But with the current setting it can't outperform FFN. Maybe if we change number of convolutional layers and number of units we could get better performance. This requires fine tuning.\n",
    "* Finally one layer simple LSTM performs astonishingly well. I think this is thanks to temporal correlation between frames. Since they are a part of continuous speech they have some temporal dependance.\n",
    "\n",
    "* Overall observation: \n",
    "    * In general we saw that we have better performance for females. This is caused by the small imbalance in our dataset(the 15+15 samples that I draw from all dataset). We have %46 male and %54 female. This introduces a small bias. To deal with we could upsample or downsamle or change our metrics.\n",
    "    * Secondly, when I extract features I got the mean of each feature. The reason is tracks have different lenth and when we sample them with sampling rate=22050(25 ms each frame) we have diffent size of frame for each track. For ML algorithms we need to fix the size. There are many solutions for this. For example choose a fixed size. Truncate samples whose frame size are larger than it and do padding operation for samples whose frame size are smaller than it. Or,as I did we can get the mean for each feature and return fixed size as 1. The advantage of mean is every frame has contribution to final mean values. But the problem of the mean is we highly reduce the number of data. For this problem mean seems to work pretty well. But other datasets and problems the other solutions can be better. Actually, for further works the performance of these methods can be compared.\n",
    "    * Final Word! These results are valid only for this problem. Here we saw that Random Forest is the best for this classificatiob task. But for other problems even simple Naive Bayes could be better. Never forget! **No Free Lunch!**"
   ]
  },
  {
   "cell_type": "code",
   "execution_count": null,
   "metadata": {},
   "outputs": [],
   "source": []
  }
 ],
 "metadata": {
  "kernelspec": {
   "display_name": "Python 3",
   "language": "python",
   "name": "python3"
  },
  "language_info": {
   "codemirror_mode": {
    "name": "ipython",
    "version": 3
   },
   "file_extension": ".py",
   "mimetype": "text/x-python",
   "name": "python",
   "nbconvert_exporter": "python",
   "pygments_lexer": "ipython3",
   "version": "3.7.4"
  }
 },
 "nbformat": 4,
 "nbformat_minor": 2
}
