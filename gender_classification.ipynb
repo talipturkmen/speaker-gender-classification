{
 "cells": [
  {
   "cell_type": "markdown",
   "metadata": {},
   "source": [
    "# Speaker Gender Classification"
   ]
  },
  {
   "cell_type": "markdown",
   "metadata": {},
   "source": [
    "## Introduction"
   ]
  },
  {
   "cell_type": "markdown",
   "metadata": {},
   "source": [
    "In this notebook we will do a gender classification by speech. we will use LibriSpeech dev-clean corpus.\n",
    "Please find and download part of the LibriSpeech [here](http://www.openslr.org/12/) and save in this folder.  This database contains directories with ids. Each id represents one speaker and contains audio files associated with that speaker. You will also find a file that indicates the gender of each speaker.\n",
    "\n",
    "### Requirements\n",
    "* pandas\n",
    "* matplotlib\n",
    "* seaborn\n",
    "* tqdm\n",
    "* librosa\n",
    "* tensorflow\n",
    "* keras\n",
    "* sklearn\n",
    "\n",
    "**Table of content**\n",
    "### [Data Preprocessing](#I)\n",
    "\n",
    "#### [Data Retrievel](#I_I)\n",
    "* Firstly we will retrieve the audio tracks, stored in `LibriSpeech/dev-clean/speaker_id/chapter_id/audio_file.flac`. Since I don't have enough computational power to train whole corpus, in this notebook I'll choose randomly 15 male and 15 female speakers to use as dataset. If you have enough computation power feel free to use all dataset.\n",
    "\n",
    "#### [Features extraction](#I_II)\n",
    "* Secondly, we will extract MFCC coefficients from every track. We'll use librosa package for feature extraction. We'll keep the first 13 coeffiecents since they are enough to represent the shape of the spectrum.\n",
    "\n",
    "#### [Explatory Data Analysis](#I_III)\n",
    "* In this part we'll plot the distribution of our features and look for outliers and skewed distribution\n",
    "\n",
    "#### [Train/Val/Test Split](#I_IV)\n",
    "* And then we will split our data into train, validation and test sets.\n",
    "\n",
    "### [Classification](#III)\n",
    "\n",
    "* We will start with simple baseline methods, Naive Bayes Classifier, Logistic Regression and then we'll built Ensemble methods(Gradient Boosting and Random Forest) finally we'll implement Neural Networks and some deep learning models (CNNs and RNNs)\n",
    "#### [GaussianNB](#III_I) \n",
    "#### [Logistic Regression](#III_II)       \n",
    "#### [Random Forest](#III_III)    \n",
    "#### [Gradient Boosting Trees](#III_IV)    \n",
    "#### [Feed Forwad Neural Networks](#III_V)    \n",
    "#### [Convolutional Neural Networks](#III_VI)    \n",
    "#### [Recurrent Neural Networks](#III_VII)\n",
    "\n",
    "### [Discussion](#IV)\n",
    "* After we test all of our models we'll compare and understand why a specific one performed better from another\n"
   ]
  },
  {
   "cell_type": "code",
   "execution_count": 1,
   "metadata": {},
   "outputs": [],
   "source": [
    "import numpy as np\n",
    "import pandas as pd\n",
    "import matplotlib.pyplot as plt\n",
    "import seaborn as sns\n",
    "from tqdm import tqdm\n",
    "import librosa\n",
    "import glob\n",
    "import os\n",
    "import IPython.display as ipd"
   ]
  },
  {
   "cell_type": "markdown",
   "metadata": {},
   "source": [
    "<a id='I'></a>\n",
    "## Data Preprocessing"
   ]
  },
  {
   "cell_type": "markdown",
   "metadata": {},
   "source": [
    "<a id='I_I'></a>\n",
    "### Data Retrival"
   ]
  },
  {
   "cell_type": "code",
   "execution_count": 2,
   "metadata": {},
   "outputs": [],
   "source": [
    "path = 'dev-clean/LibriSpeech/'\n",
    "seed = 1"
   ]
  },
  {
   "cell_type": "code",
   "execution_count": 3,
   "metadata": {},
   "outputs": [
    {
     "data": {
      "text/html": [
       "<div>\n",
       "<style scoped>\n",
       "    .dataframe tbody tr th:only-of-type {\n",
       "        vertical-align: middle;\n",
       "    }\n",
       "\n",
       "    .dataframe tbody tr th {\n",
       "        vertical-align: top;\n",
       "    }\n",
       "\n",
       "    .dataframe thead th {\n",
       "        text-align: right;\n",
       "    }\n",
       "</style>\n",
       "<table border=\"1\" class=\"dataframe\">\n",
       "  <thead>\n",
       "    <tr style=\"text-align: right;\">\n",
       "      <th></th>\n",
       "      <th>id</th>\n",
       "      <th>sex</th>\n",
       "      <th>subset</th>\n",
       "      <th>minutes</th>\n",
       "      <th>name</th>\n",
       "    </tr>\n",
       "  </thead>\n",
       "  <tbody>\n",
       "    <tr>\n",
       "      <th>0</th>\n",
       "      <td>14</td>\n",
       "      <td>F</td>\n",
       "      <td>train-clean-360</td>\n",
       "      <td>25.03</td>\n",
       "      <td>Kristin LeMoine</td>\n",
       "    </tr>\n",
       "    <tr>\n",
       "      <th>1</th>\n",
       "      <td>16</td>\n",
       "      <td>F</td>\n",
       "      <td>train-clean-360</td>\n",
       "      <td>25.11</td>\n",
       "      <td>Alys AtteWater</td>\n",
       "    </tr>\n",
       "    <tr>\n",
       "      <th>2</th>\n",
       "      <td>17</td>\n",
       "      <td>M</td>\n",
       "      <td>train-clean-360</td>\n",
       "      <td>25.04</td>\n",
       "      <td>Gord Mackenzie</td>\n",
       "    </tr>\n",
       "    <tr>\n",
       "      <th>3</th>\n",
       "      <td>19</td>\n",
       "      <td>F</td>\n",
       "      <td>train-clean-100</td>\n",
       "      <td>25.19</td>\n",
       "      <td>Kara Shallenberg</td>\n",
       "    </tr>\n",
       "    <tr>\n",
       "      <th>4</th>\n",
       "      <td>20</td>\n",
       "      <td>F</td>\n",
       "      <td>train-other-500</td>\n",
       "      <td>30.07</td>\n",
       "      <td>Gesine</td>\n",
       "    </tr>\n",
       "  </tbody>\n",
       "</table>\n",
       "</div>"
      ],
      "text/plain": [
       "   id sex           subset  minutes               name\n",
       "0  14   F  train-clean-360    25.03    Kristin LeMoine\n",
       "1  16   F  train-clean-360    25.11     Alys AtteWater\n",
       "2  17   M  train-clean-360    25.04     Gord Mackenzie\n",
       "3  19   F  train-clean-100    25.19   Kara Shallenberg\n",
       "4  20   F  train-other-500    30.07             Gesine"
      ]
     },
     "execution_count": 3,
     "metadata": {},
     "output_type": "execute_result"
    }
   ],
   "source": [
    "df = pd.read_csv(path+'SPEAKERS.TXT',comment=';',sep='|',header=None).rename(columns={0:'id',1:'sex',2:'subset',3:'minutes',4:'name'})\n",
    "df.head()\n",
    "df.sex=df.sex.str.strip()\n",
    "df.subset=df.subset.str.strip()\n",
    "df.id = df['id'].apply(pd.to_numeric)\n",
    "\n",
    "\n",
    "df.head()"
   ]
  },
  {
   "cell_type": "markdown",
   "metadata": {},
   "source": [
    "Remove spekers doesn't belong to `dev-clean corpus`"
   ]
  },
  {
   "cell_type": "code",
   "execution_count": 4,
   "metadata": {},
   "outputs": [
    {
     "data": {
      "text/html": [
       "<div>\n",
       "<style scoped>\n",
       "    .dataframe tbody tr th:only-of-type {\n",
       "        vertical-align: middle;\n",
       "    }\n",
       "\n",
       "    .dataframe tbody tr th {\n",
       "        vertical-align: top;\n",
       "    }\n",
       "\n",
       "    .dataframe thead th {\n",
       "        text-align: right;\n",
       "    }\n",
       "</style>\n",
       "<table border=\"1\" class=\"dataframe\">\n",
       "  <thead>\n",
       "    <tr style=\"text-align: right;\">\n",
       "      <th></th>\n",
       "      <th>id</th>\n",
       "      <th>sex</th>\n",
       "      <th>subset</th>\n",
       "      <th>minutes</th>\n",
       "      <th>name</th>\n",
       "    </tr>\n",
       "  </thead>\n",
       "  <tbody>\n",
       "    <tr>\n",
       "      <th>0</th>\n",
       "      <td>84</td>\n",
       "      <td>F</td>\n",
       "      <td>dev-clean</td>\n",
       "      <td>8.02</td>\n",
       "      <td>Christie Nowak</td>\n",
       "    </tr>\n",
       "    <tr>\n",
       "      <th>1</th>\n",
       "      <td>174</td>\n",
       "      <td>M</td>\n",
       "      <td>dev-clean</td>\n",
       "      <td>8.04</td>\n",
       "      <td>Peter Eastman</td>\n",
       "    </tr>\n",
       "    <tr>\n",
       "      <th>2</th>\n",
       "      <td>251</td>\n",
       "      <td>M</td>\n",
       "      <td>dev-clean</td>\n",
       "      <td>8.04</td>\n",
       "      <td>Mark Nelson</td>\n",
       "    </tr>\n",
       "    <tr>\n",
       "      <th>3</th>\n",
       "      <td>422</td>\n",
       "      <td>M</td>\n",
       "      <td>dev-clean</td>\n",
       "      <td>8.38</td>\n",
       "      <td>President Lethe</td>\n",
       "    </tr>\n",
       "    <tr>\n",
       "      <th>4</th>\n",
       "      <td>652</td>\n",
       "      <td>M</td>\n",
       "      <td>dev-clean</td>\n",
       "      <td>8.31</td>\n",
       "      <td>Scott Walter</td>\n",
       "    </tr>\n",
       "  </tbody>\n",
       "</table>\n",
       "</div>"
      ],
      "text/plain": [
       "    id sex     subset  minutes              name\n",
       "0   84   F  dev-clean     8.02    Christie Nowak\n",
       "1  174   M  dev-clean     8.04     Peter Eastman\n",
       "2  251   M  dev-clean     8.04       Mark Nelson\n",
       "3  422   M  dev-clean     8.38   President Lethe\n",
       "4  652   M  dev-clean     8.31      Scott Walter"
      ]
     },
     "execution_count": 4,
     "metadata": {},
     "output_type": "execute_result"
    }
   ],
   "source": [
    "all_speakers = df.loc[df.subset=='dev-clean']\n",
    "all_speakers = all_speakers.set_index('id').loc[all_speakers.id.unique()].reset_index()\n",
    "all_speakers.head()"
   ]
  },
  {
   "cell_type": "code",
   "execution_count": 5,
   "metadata": {},
   "outputs": [
    {
     "data": {
      "text/plain": [
       "M    20\n",
       "F    20\n",
       "Name: sex, dtype: int64"
      ]
     },
     "execution_count": 5,
     "metadata": {},
     "output_type": "execute_result"
    }
   ],
   "source": [
    "all_speakers.sex.value_counts()"
   ]
  },
  {
   "cell_type": "code",
   "execution_count": 6,
   "metadata": {},
   "outputs": [
    {
     "data": {
      "text/plain": [
       "(161.44999999999996, 161.82999999999998)"
      ]
     },
     "execution_count": 6,
     "metadata": {},
     "output_type": "execute_result"
    }
   ],
   "source": [
    "all_speakers[all_speakers.sex=='F'].minutes.sum(), all_speakers[all_speakers.sex=='M'].minutes.sum()"
   ]
  },
  {
   "cell_type": "markdown",
   "metadata": {},
   "source": [
    "If we use whole dataset we will have classes which are balanced for all dataset.  We don't need to deal with it now, but if it were imbalanced we could use resampling(oversampling/undersampling), generate synhetic samples or we could change the performance metrics. Accuracy can be used to eval"
   ]
  },
  {
   "cell_type": "code",
   "execution_count": 7,
   "metadata": {},
   "outputs": [],
   "source": [
    "np.random.seed(seed) # used to generate reproducible samples"
   ]
  },
  {
   "cell_type": "markdown",
   "metadata": {},
   "source": [
    "Select randomly 15 male and 15 female speakers for training. If you want to choose different smaples feel free to change `num_samples`"
   ]
  },
  {
   "cell_type": "code",
   "execution_count": 12,
   "metadata": {},
   "outputs": [],
   "source": [
    "num_speakers=15\n",
    "\n",
    "female_speakers = all_speakers[all_speakers.sex=='F']\n",
    "female_speakers = female_speakers.set_index('id').loc[female_speakers.id.unique()].reset_index()\n",
    "idx = np.random.choice(female_speakers.index.values,num_speakers, replace=False)\n",
    "female_speakers = female_speakers.iloc[idx]\n",
    "\n",
    "male_speakers = all_speakers[all_speakers.sex=='M']\n",
    "male_speakers = male_speakers.set_index('id').loc[male_speakers.id.unique()].reset_index()\n",
    "idx = np.random.choice(female_speakers.index.values,num_speakers, replace=False)\n",
    "male_speakers =  male_speakers.iloc[idx]\n",
    "\n",
    "speakers = pd.concat([female_speakers,male_speakers]).sample(frac=1,random_state=seed)\n",
    "speakers = speakers.set_index('id').loc[speakers.id.unique()].reset_index()\n"
   ]
  },
  {
   "cell_type": "code",
   "execution_count": 13,
   "metadata": {},
   "outputs": [
    {
     "data": {
      "text/html": [
       "<div>\n",
       "<style scoped>\n",
       "    .dataframe tbody tr th:only-of-type {\n",
       "        vertical-align: middle;\n",
       "    }\n",
       "\n",
       "    .dataframe tbody tr th {\n",
       "        vertical-align: top;\n",
       "    }\n",
       "\n",
       "    .dataframe thead th {\n",
       "        text-align: right;\n",
       "    }\n",
       "</style>\n",
       "<table border=\"1\" class=\"dataframe\">\n",
       "  <thead>\n",
       "    <tr style=\"text-align: right;\">\n",
       "      <th></th>\n",
       "      <th>id</th>\n",
       "      <th>sex</th>\n",
       "      <th>subset</th>\n",
       "      <th>minutes</th>\n",
       "      <th>name</th>\n",
       "    </tr>\n",
       "  </thead>\n",
       "  <tbody>\n",
       "    <tr>\n",
       "      <th>0</th>\n",
       "      <td>6295</td>\n",
       "      <td>M</td>\n",
       "      <td>dev-clean</td>\n",
       "      <td>8.04</td>\n",
       "      <td>Michael Packard</td>\n",
       "    </tr>\n",
       "    <tr>\n",
       "      <th>1</th>\n",
       "      <td>777</td>\n",
       "      <td>M</td>\n",
       "      <td>dev-clean</td>\n",
       "      <td>8.06</td>\n",
       "      <td>fling93</td>\n",
       "    </tr>\n",
       "    <tr>\n",
       "      <th>2</th>\n",
       "      <td>3576</td>\n",
       "      <td>F</td>\n",
       "      <td>dev-clean</td>\n",
       "      <td>8.00</td>\n",
       "      <td>JudyGibson</td>\n",
       "    </tr>\n",
       "    <tr>\n",
       "      <th>3</th>\n",
       "      <td>3000</td>\n",
       "      <td>M</td>\n",
       "      <td>dev-clean</td>\n",
       "      <td>8.03</td>\n",
       "      <td>Brian von Dedenroth</td>\n",
       "    </tr>\n",
       "    <tr>\n",
       "      <th>4</th>\n",
       "      <td>1988</td>\n",
       "      <td>F</td>\n",
       "      <td>dev-clean</td>\n",
       "      <td>8.16</td>\n",
       "      <td>Ransom</td>\n",
       "    </tr>\n",
       "    <tr>\n",
       "      <th>5</th>\n",
       "      <td>5536</td>\n",
       "      <td>M</td>\n",
       "      <td>dev-clean</td>\n",
       "      <td>8.13</td>\n",
       "      <td>David Mix</td>\n",
       "    </tr>\n",
       "    <tr>\n",
       "      <th>6</th>\n",
       "      <td>8297</td>\n",
       "      <td>M</td>\n",
       "      <td>dev-clean</td>\n",
       "      <td>8.04</td>\n",
       "      <td>David Mecionis</td>\n",
       "    </tr>\n",
       "    <tr>\n",
       "      <th>7</th>\n",
       "      <td>1993</td>\n",
       "      <td>F</td>\n",
       "      <td>dev-clean</td>\n",
       "      <td>8.11</td>\n",
       "      <td>Wendy Belcher</td>\n",
       "    </tr>\n",
       "    <tr>\n",
       "      <th>8</th>\n",
       "      <td>2078</td>\n",
       "      <td>M</td>\n",
       "      <td>dev-clean</td>\n",
       "      <td>8.03</td>\n",
       "      <td>Kathy Caver</td>\n",
       "    </tr>\n",
       "    <tr>\n",
       "      <th>9</th>\n",
       "      <td>3170</td>\n",
       "      <td>M</td>\n",
       "      <td>dev-clean</td>\n",
       "      <td>8.10</td>\n",
       "      <td>VOICEGUY</td>\n",
       "    </tr>\n",
       "    <tr>\n",
       "      <th>10</th>\n",
       "      <td>7976</td>\n",
       "      <td>M</td>\n",
       "      <td>dev-clean</td>\n",
       "      <td>8.13</td>\n",
       "      <td>JenniferRutters</td>\n",
       "    </tr>\n",
       "    <tr>\n",
       "      <th>11</th>\n",
       "      <td>5895</td>\n",
       "      <td>F</td>\n",
       "      <td>dev-clean</td>\n",
       "      <td>8.02</td>\n",
       "      <td>iamartin</td>\n",
       "    </tr>\n",
       "    <tr>\n",
       "      <th>12</th>\n",
       "      <td>3536</td>\n",
       "      <td>F</td>\n",
       "      <td>dev-clean</td>\n",
       "      <td>8.15</td>\n",
       "      <td>Arielle Lipshaw</td>\n",
       "    </tr>\n",
       "    <tr>\n",
       "      <th>13</th>\n",
       "      <td>2902</td>\n",
       "      <td>M</td>\n",
       "      <td>dev-clean</td>\n",
       "      <td>8.10</td>\n",
       "      <td>dexter</td>\n",
       "    </tr>\n",
       "    <tr>\n",
       "      <th>14</th>\n",
       "      <td>1462</td>\n",
       "      <td>F</td>\n",
       "      <td>dev-clean</td>\n",
       "      <td>8.04</td>\n",
       "      <td>E. Tavano</td>\n",
       "    </tr>\n",
       "    <tr>\n",
       "      <th>15</th>\n",
       "      <td>652</td>\n",
       "      <td>M</td>\n",
       "      <td>dev-clean</td>\n",
       "      <td>8.31</td>\n",
       "      <td>Scott Walter</td>\n",
       "    </tr>\n",
       "    <tr>\n",
       "      <th>16</th>\n",
       "      <td>6345</td>\n",
       "      <td>F</td>\n",
       "      <td>dev-clean</td>\n",
       "      <td>8.07</td>\n",
       "      <td>Jean Bascom</td>\n",
       "    </tr>\n",
       "    <tr>\n",
       "      <th>17</th>\n",
       "      <td>2035</td>\n",
       "      <td>F</td>\n",
       "      <td>dev-clean</td>\n",
       "      <td>8.11</td>\n",
       "      <td>Sharon Bautista</td>\n",
       "    </tr>\n",
       "    <tr>\n",
       "      <th>18</th>\n",
       "      <td>2428</td>\n",
       "      <td>M</td>\n",
       "      <td>dev-clean</td>\n",
       "      <td>8.02</td>\n",
       "      <td>Stephen Kinford</td>\n",
       "    </tr>\n",
       "    <tr>\n",
       "      <th>19</th>\n",
       "      <td>3853</td>\n",
       "      <td>F</td>\n",
       "      <td>dev-clean</td>\n",
       "      <td>8.05</td>\n",
       "      <td>M. Bertke</td>\n",
       "    </tr>\n",
       "    <tr>\n",
       "      <th>20</th>\n",
       "      <td>2086</td>\n",
       "      <td>M</td>\n",
       "      <td>dev-clean</td>\n",
       "      <td>8.04</td>\n",
       "      <td>Nicodemus</td>\n",
       "    </tr>\n",
       "    <tr>\n",
       "      <th>21</th>\n",
       "      <td>8842</td>\n",
       "      <td>F</td>\n",
       "      <td>dev-clean</td>\n",
       "      <td>8.10</td>\n",
       "      <td>Mary J</td>\n",
       "    </tr>\n",
       "    <tr>\n",
       "      <th>22</th>\n",
       "      <td>422</td>\n",
       "      <td>M</td>\n",
       "      <td>dev-clean</td>\n",
       "      <td>8.38</td>\n",
       "      <td>President Lethe</td>\n",
       "    </tr>\n",
       "    <tr>\n",
       "      <th>23</th>\n",
       "      <td>1272</td>\n",
       "      <td>M</td>\n",
       "      <td>dev-clean</td>\n",
       "      <td>8.02</td>\n",
       "      <td>John Rose</td>\n",
       "    </tr>\n",
       "    <tr>\n",
       "      <th>24</th>\n",
       "      <td>251</td>\n",
       "      <td>M</td>\n",
       "      <td>dev-clean</td>\n",
       "      <td>8.04</td>\n",
       "      <td>Mark Nelson</td>\n",
       "    </tr>\n",
       "    <tr>\n",
       "      <th>25</th>\n",
       "      <td>7850</td>\n",
       "      <td>F</td>\n",
       "      <td>dev-clean</td>\n",
       "      <td>8.06</td>\n",
       "      <td>Jill Engle</td>\n",
       "    </tr>\n",
       "    <tr>\n",
       "      <th>26</th>\n",
       "      <td>2412</td>\n",
       "      <td>F</td>\n",
       "      <td>dev-clean</td>\n",
       "      <td>8.06</td>\n",
       "      <td>calystra</td>\n",
       "    </tr>\n",
       "    <tr>\n",
       "      <th>27</th>\n",
       "      <td>1673</td>\n",
       "      <td>F</td>\n",
       "      <td>dev-clean</td>\n",
       "      <td>8.07</td>\n",
       "      <td>Tonia</td>\n",
       "    </tr>\n",
       "    <tr>\n",
       "      <th>28</th>\n",
       "      <td>2277</td>\n",
       "      <td>F</td>\n",
       "      <td>dev-clean</td>\n",
       "      <td>8.01</td>\n",
       "      <td>zinniz</td>\n",
       "    </tr>\n",
       "    <tr>\n",
       "      <th>29</th>\n",
       "      <td>1919</td>\n",
       "      <td>F</td>\n",
       "      <td>dev-clean</td>\n",
       "      <td>8.17</td>\n",
       "      <td>nprigoda</td>\n",
       "    </tr>\n",
       "  </tbody>\n",
       "</table>\n",
       "</div>"
      ],
      "text/plain": [
       "      id sex     subset  minutes                  name\n",
       "0   6295   M  dev-clean     8.04       Michael Packard\n",
       "1    777   M  dev-clean     8.06               fling93\n",
       "2   3576   F  dev-clean     8.00            JudyGibson\n",
       "3   3000   M  dev-clean     8.03   Brian von Dedenroth\n",
       "4   1988   F  dev-clean     8.16                Ransom\n",
       "5   5536   M  dev-clean     8.13             David Mix\n",
       "6   8297   M  dev-clean     8.04        David Mecionis\n",
       "7   1993   F  dev-clean     8.11         Wendy Belcher\n",
       "8   2078   M  dev-clean     8.03           Kathy Caver\n",
       "9   3170   M  dev-clean     8.10              VOICEGUY\n",
       "10  7976   M  dev-clean     8.13       JenniferRutters\n",
       "11  5895   F  dev-clean     8.02              iamartin\n",
       "12  3536   F  dev-clean     8.15       Arielle Lipshaw\n",
       "13  2902   M  dev-clean     8.10                dexter\n",
       "14  1462   F  dev-clean     8.04             E. Tavano\n",
       "15   652   M  dev-clean     8.31          Scott Walter\n",
       "16  6345   F  dev-clean     8.07           Jean Bascom\n",
       "17  2035   F  dev-clean     8.11       Sharon Bautista\n",
       "18  2428   M  dev-clean     8.02       Stephen Kinford\n",
       "19  3853   F  dev-clean     8.05             M. Bertke\n",
       "20  2086   M  dev-clean     8.04             Nicodemus\n",
       "21  8842   F  dev-clean     8.10                Mary J\n",
       "22   422   M  dev-clean     8.38       President Lethe\n",
       "23  1272   M  dev-clean     8.02             John Rose\n",
       "24   251   M  dev-clean     8.04           Mark Nelson\n",
       "25  7850   F  dev-clean     8.06            Jill Engle\n",
       "26  2412   F  dev-clean     8.06              calystra\n",
       "27  1673   F  dev-clean     8.07                 Tonia\n",
       "28  2277   F  dev-clean     8.01                zinniz\n",
       "29  1919   F  dev-clean     8.17              nprigoda"
      ]
     },
     "execution_count": 13,
     "metadata": {},
     "output_type": "execute_result"
    }
   ],
   "source": [
    "speakers"
   ]
  },
  {
   "cell_type": "code",
   "execution_count": 14,
   "metadata": {},
   "outputs": [
    {
     "data": {
      "text/plain": [
       "(121.18, 121.47)"
      ]
     },
     "execution_count": 14,
     "metadata": {},
     "output_type": "execute_result"
    }
   ],
   "source": [
    "speakers[speakers.sex=='F'].minutes.sum(), speakers[speakers.sex=='M'].minutes.sum()"
   ]
  },
  {
   "cell_type": "markdown",
   "metadata": {},
   "source": [
    "After sampling classes ara balanced again in terms of minutes of speech. But we'll face another problem. Since we need to have fixed size of frames this inspection is not useful right now. It'll be clear later"
   ]
  },
  {
   "cell_type": "code",
   "execution_count": 15,
   "metadata": {},
   "outputs": [
    {
     "data": {
      "text/html": [
       "<div>\n",
       "<style scoped>\n",
       "    .dataframe tbody tr th:only-of-type {\n",
       "        vertical-align: middle;\n",
       "    }\n",
       "\n",
       "    .dataframe tbody tr th {\n",
       "        vertical-align: top;\n",
       "    }\n",
       "\n",
       "    .dataframe thead th {\n",
       "        text-align: right;\n",
       "    }\n",
       "</style>\n",
       "<table border=\"1\" class=\"dataframe\">\n",
       "  <thead>\n",
       "    <tr style=\"text-align: right;\">\n",
       "      <th></th>\n",
       "      <th>id</th>\n",
       "      <th>sex</th>\n",
       "    </tr>\n",
       "  </thead>\n",
       "  <tbody>\n",
       "    <tr>\n",
       "      <th>0</th>\n",
       "      <td>6295</td>\n",
       "      <td>M</td>\n",
       "    </tr>\n",
       "    <tr>\n",
       "      <th>1</th>\n",
       "      <td>777</td>\n",
       "      <td>M</td>\n",
       "    </tr>\n",
       "    <tr>\n",
       "      <th>2</th>\n",
       "      <td>3576</td>\n",
       "      <td>F</td>\n",
       "    </tr>\n",
       "    <tr>\n",
       "      <th>3</th>\n",
       "      <td>3000</td>\n",
       "      <td>M</td>\n",
       "    </tr>\n",
       "    <tr>\n",
       "      <th>4</th>\n",
       "      <td>1988</td>\n",
       "      <td>F</td>\n",
       "    </tr>\n",
       "  </tbody>\n",
       "</table>\n",
       "</div>"
      ],
      "text/plain": [
       "     id sex\n",
       "0  6295   M\n",
       "1   777   M\n",
       "2  3576   F\n",
       "3  3000   M\n",
       "4  1988   F"
      ]
     },
     "execution_count": 15,
     "metadata": {},
     "output_type": "execute_result"
    }
   ],
   "source": [
    "speakers = speakers[['id','sex']] #keep only id and sex attributes\n",
    "speakers.head()"
   ]
  },
  {
   "cell_type": "markdown",
   "metadata": {},
   "source": [
    "<a id='I_II'></a>\n",
    "### Feature Extraction"
   ]
  },
  {
   "cell_type": "markdown",
   "metadata": {},
   "source": [
    "* We will use librosa package to extract features. Since first 13 MFCC coeffiecients are very powerful to describe the spectrum we'll keep only the first 13 coefficients.\n",
    "\n",
    "**IMPORTANT NOTE**:\n",
    "* Since the length of each track is different after extracting coefficients and we sample with 25 ms frequency we will get different frame size for each track. This will cause problem for machine learning. Because in machine learning algorithms we need to have a fixed size of input. To solve this problem we will use mean of each coefficient for each track so we'll have fixed size (1,13) for each input. There can be other solutions like padding or truncating. Actually mean is one extreme kind of truncating. We force each track exactly to have 1 frame. Ofcourse this will cause loss of data. But since we are using mean I think we will not suffer from that much.\n",
    "    "
   ]
  },
  {
   "cell_type": "code",
   "execution_count": 16,
   "metadata": {},
   "outputs": [],
   "source": [
    "numcep=13 #number of coefficients that will be kept\n",
    "sampling_rate=22050 # 25 ms"
   ]
  },
  {
   "cell_type": "code",
   "execution_count": 17,
   "metadata": {},
   "outputs": [],
   "source": [
    "def get_MFCC(filename, sampling_rate, numcep):\n",
    "    \"\"\"\n",
    "    :param audio: audio sample from speaker\n",
    "    :param sampling rate: sampling frequency\n",
    "    :param numcep: number of cepstrums\n",
    "    :return: mfcc coeffients\n",
    "    \"\"\"\n",
    "    \n",
    "    signal,sr = librosa.load(filename,sr=sampling_rate, mono=True)\n",
    "    mfcc = librosa.feature.mfcc(signal,sr=sampling_rate,n_mfcc=numcep)\n",
    "    mfcc = np.mean(mfcc, axis=1).reshape(1,-1) #mean of frame coefficients\n",
    "    \n",
    "    return mfcc"
   ]
  },
  {
   "cell_type": "markdown",
   "metadata": {},
   "source": [
    "* Inspect one sample"
   ]
  },
  {
   "cell_type": "code",
   "execution_count": 18,
   "metadata": {},
   "outputs": [
    {
     "name": "stdout",
     "output_type": "stream",
     "text": [
      "Features shape: (1, 13)\n"
     ]
    }
   ],
   "source": [
    "file = 'dev-clean/LibriSpeech/dev-clean/6345/64257/6345-64257-0015.flac'\n",
    "features=get_MFCC(file,sampling_rate,numcep)\n",
    "print('Features shape: {}'.format(features.shape))"
   ]
  },
  {
   "cell_type": "markdown",
   "metadata": {},
   "source": [
    "* Extracting features for each track"
   ]
  },
  {
   "cell_type": "code",
   "execution_count": 36,
   "metadata": {},
   "outputs": [],
   "source": [
    "import_csv=True\n",
    "csv_file = 'data.csv'\n",
    "dataset = np.ndarray(shape=(0,numcep+1))\n",
    "genders = np.ndarray(shape=(0,1))\n",
    "files = []\n",
    "if import_csv:\n",
    "    dataset = pd.read_csv(csv_file,index_col=0)\n",
    "else:\n",
    "    for _,row in speakers.iterrows():\n",
    "        id = row.id\n",
    "        sex = 0 if row.sex == 'F' else 1\n",
    "        for filename in tqdm(glob.iglob(path+'dev-clean/' + str(id) + '/**/*', recursive=True)):\n",
    "            if filename.endswith('.flac'):\n",
    "                files.append(filename)\n",
    "                #compute MFCC features\n",
    "                features = get_MFCC(filename,sampling_rate,numcep)\n",
    "                features = np.append(features,np.array(sex).reshape(-1,1), axis=1)\n",
    "                dataset = np.append(dataset,features, axis=0)\n"
   ]
  },
  {
   "cell_type": "code",
   "execution_count": 37,
   "metadata": {},
   "outputs": [],
   "source": [
    "data = pd.DataFrame(dataset)\n",
    "data.columns = data.columns.astype(str)\n",
    "data.rename(columns={'13':'gender'},inplace=True) #for easy manipulation\n",
    "# data.to_csv('data.csv') #For exporting dataset into a csv file\n"
   ]
  },
  {
   "cell_type": "markdown",
   "metadata": {},
   "source": [
    "<a id='I_III'></a>\n",
    "### Explatory Data Analysis"
   ]
  },
  {
   "cell_type": "code",
   "execution_count": 38,
   "metadata": {},
   "outputs": [
    {
     "data": {
      "text/html": [
       "<div>\n",
       "<style scoped>\n",
       "    .dataframe tbody tr th:only-of-type {\n",
       "        vertical-align: middle;\n",
       "    }\n",
       "\n",
       "    .dataframe tbody tr th {\n",
       "        vertical-align: top;\n",
       "    }\n",
       "\n",
       "    .dataframe thead th {\n",
       "        text-align: right;\n",
       "    }\n",
       "</style>\n",
       "<table border=\"1\" class=\"dataframe\">\n",
       "  <thead>\n",
       "    <tr style=\"text-align: right;\">\n",
       "      <th></th>\n",
       "      <th>0</th>\n",
       "      <th>1</th>\n",
       "      <th>2</th>\n",
       "      <th>3</th>\n",
       "      <th>4</th>\n",
       "      <th>5</th>\n",
       "      <th>6</th>\n",
       "      <th>7</th>\n",
       "      <th>8</th>\n",
       "      <th>9</th>\n",
       "      <th>10</th>\n",
       "      <th>11</th>\n",
       "      <th>12</th>\n",
       "      <th>gender</th>\n",
       "    </tr>\n",
       "  </thead>\n",
       "  <tbody>\n",
       "    <tr>\n",
       "      <th>count</th>\n",
       "      <td>1960.000000</td>\n",
       "      <td>1960.000000</td>\n",
       "      <td>1960.000000</td>\n",
       "      <td>1960.000000</td>\n",
       "      <td>1960.000000</td>\n",
       "      <td>1960.000000</td>\n",
       "      <td>1960.000000</td>\n",
       "      <td>1960.000000</td>\n",
       "      <td>1960.000000</td>\n",
       "      <td>1960.000000</td>\n",
       "      <td>1960.000000</td>\n",
       "      <td>1960.000000</td>\n",
       "      <td>1960.000000</td>\n",
       "      <td>1960.000000</td>\n",
       "    </tr>\n",
       "    <tr>\n",
       "      <th>mean</th>\n",
       "      <td>-350.300848</td>\n",
       "      <td>111.945124</td>\n",
       "      <td>-19.574216</td>\n",
       "      <td>37.582633</td>\n",
       "      <td>-8.648524</td>\n",
       "      <td>5.593872</td>\n",
       "      <td>-12.359995</td>\n",
       "      <td>-3.571109</td>\n",
       "      <td>-7.885378</td>\n",
       "      <td>-0.791559</td>\n",
       "      <td>-2.693486</td>\n",
       "      <td>-5.348392</td>\n",
       "      <td>2.510604</td>\n",
       "      <td>0.485204</td>\n",
       "    </tr>\n",
       "    <tr>\n",
       "      <th>std</th>\n",
       "      <td>49.494124</td>\n",
       "      <td>17.864152</td>\n",
       "      <td>16.980909</td>\n",
       "      <td>13.739724</td>\n",
       "      <td>9.963509</td>\n",
       "      <td>15.411347</td>\n",
       "      <td>10.206514</td>\n",
       "      <td>9.148234</td>\n",
       "      <td>7.482696</td>\n",
       "      <td>5.483797</td>\n",
       "      <td>4.562089</td>\n",
       "      <td>5.703205</td>\n",
       "      <td>4.082833</td>\n",
       "      <td>0.499909</td>\n",
       "    </tr>\n",
       "    <tr>\n",
       "      <th>min</th>\n",
       "      <td>-580.348938</td>\n",
       "      <td>54.802868</td>\n",
       "      <td>-80.775757</td>\n",
       "      <td>-6.259795</td>\n",
       "      <td>-41.767353</td>\n",
       "      <td>-40.609489</td>\n",
       "      <td>-40.527187</td>\n",
       "      <td>-32.984631</td>\n",
       "      <td>-32.176800</td>\n",
       "      <td>-15.843023</td>\n",
       "      <td>-20.560686</td>\n",
       "      <td>-23.851870</td>\n",
       "      <td>-8.948812</td>\n",
       "      <td>0.000000</td>\n",
       "    </tr>\n",
       "    <tr>\n",
       "      <th>25%</th>\n",
       "      <td>-376.432228</td>\n",
       "      <td>98.979700</td>\n",
       "      <td>-29.984431</td>\n",
       "      <td>27.552211</td>\n",
       "      <td>-15.027730</td>\n",
       "      <td>-4.475201</td>\n",
       "      <td>-18.693256</td>\n",
       "      <td>-9.791445</td>\n",
       "      <td>-12.484299</td>\n",
       "      <td>-4.408834</td>\n",
       "      <td>-5.252960</td>\n",
       "      <td>-8.949583</td>\n",
       "      <td>-0.373750</td>\n",
       "      <td>0.000000</td>\n",
       "    </tr>\n",
       "    <tr>\n",
       "      <th>50%</th>\n",
       "      <td>-348.035645</td>\n",
       "      <td>112.153839</td>\n",
       "      <td>-18.968728</td>\n",
       "      <td>37.609921</td>\n",
       "      <td>-9.081036</td>\n",
       "      <td>7.169781</td>\n",
       "      <td>-11.546010</td>\n",
       "      <td>-2.807778</td>\n",
       "      <td>-7.480257</td>\n",
       "      <td>-1.103639</td>\n",
       "      <td>-2.203464</td>\n",
       "      <td>-5.047188</td>\n",
       "      <td>2.325855</td>\n",
       "      <td>0.000000</td>\n",
       "    </tr>\n",
       "    <tr>\n",
       "      <th>75%</th>\n",
       "      <td>-323.474342</td>\n",
       "      <td>123.796047</td>\n",
       "      <td>-7.363882</td>\n",
       "      <td>46.559187</td>\n",
       "      <td>-2.245484</td>\n",
       "      <td>17.053151</td>\n",
       "      <td>-5.982967</td>\n",
       "      <td>3.053772</td>\n",
       "      <td>-2.290707</td>\n",
       "      <td>2.862733</td>\n",
       "      <td>0.385136</td>\n",
       "      <td>-0.955619</td>\n",
       "      <td>5.450297</td>\n",
       "      <td>1.000000</td>\n",
       "    </tr>\n",
       "    <tr>\n",
       "      <th>max</th>\n",
       "      <td>-160.386887</td>\n",
       "      <td>180.561874</td>\n",
       "      <td>23.735069</td>\n",
       "      <td>86.732796</td>\n",
       "      <td>23.101646</td>\n",
       "      <td>44.026737</td>\n",
       "      <td>24.826748</td>\n",
       "      <td>17.629776</td>\n",
       "      <td>11.079936</td>\n",
       "      <td>14.815342</td>\n",
       "      <td>10.017622</td>\n",
       "      <td>6.646415</td>\n",
       "      <td>15.264740</td>\n",
       "      <td>1.000000</td>\n",
       "    </tr>\n",
       "  </tbody>\n",
       "</table>\n",
       "</div>"
      ],
      "text/plain": [
       "                 0            1            2            3            4  \\\n",
       "count  1960.000000  1960.000000  1960.000000  1960.000000  1960.000000   \n",
       "mean   -350.300848   111.945124   -19.574216    37.582633    -8.648524   \n",
       "std      49.494124    17.864152    16.980909    13.739724     9.963509   \n",
       "min    -580.348938    54.802868   -80.775757    -6.259795   -41.767353   \n",
       "25%    -376.432228    98.979700   -29.984431    27.552211   -15.027730   \n",
       "50%    -348.035645   112.153839   -18.968728    37.609921    -9.081036   \n",
       "75%    -323.474342   123.796047    -7.363882    46.559187    -2.245484   \n",
       "max    -160.386887   180.561874    23.735069    86.732796    23.101646   \n",
       "\n",
       "                 5            6            7            8            9  \\\n",
       "count  1960.000000  1960.000000  1960.000000  1960.000000  1960.000000   \n",
       "mean      5.593872   -12.359995    -3.571109    -7.885378    -0.791559   \n",
       "std      15.411347    10.206514     9.148234     7.482696     5.483797   \n",
       "min     -40.609489   -40.527187   -32.984631   -32.176800   -15.843023   \n",
       "25%      -4.475201   -18.693256    -9.791445   -12.484299    -4.408834   \n",
       "50%       7.169781   -11.546010    -2.807778    -7.480257    -1.103639   \n",
       "75%      17.053151    -5.982967     3.053772    -2.290707     2.862733   \n",
       "max      44.026737    24.826748    17.629776    11.079936    14.815342   \n",
       "\n",
       "                10           11           12       gender  \n",
       "count  1960.000000  1960.000000  1960.000000  1960.000000  \n",
       "mean     -2.693486    -5.348392     2.510604     0.485204  \n",
       "std       4.562089     5.703205     4.082833     0.499909  \n",
       "min     -20.560686   -23.851870    -8.948812     0.000000  \n",
       "25%      -5.252960    -8.949583    -0.373750     0.000000  \n",
       "50%      -2.203464    -5.047188     2.325855     0.000000  \n",
       "75%       0.385136    -0.955619     5.450297     1.000000  \n",
       "max      10.017622     6.646415    15.264740     1.000000  "
      ]
     },
     "execution_count": 38,
     "metadata": {},
     "output_type": "execute_result"
    }
   ],
   "source": [
    "data.describe()"
   ]
  },
  {
   "cell_type": "code",
   "execution_count": 39,
   "metadata": {},
   "outputs": [
    {
     "name": "stdout",
     "output_type": "stream",
     "text": [
      "<class 'pandas.core.frame.DataFrame'>\n",
      "Int64Index: 1960 entries, 0 to 1959\n",
      "Data columns (total 14 columns):\n",
      "0         1960 non-null float64\n",
      "1         1960 non-null float64\n",
      "2         1960 non-null float64\n",
      "3         1960 non-null float64\n",
      "4         1960 non-null float64\n",
      "5         1960 non-null float64\n",
      "6         1960 non-null float64\n",
      "7         1960 non-null float64\n",
      "8         1960 non-null float64\n",
      "9         1960 non-null float64\n",
      "10        1960 non-null float64\n",
      "11        1960 non-null float64\n",
      "12        1960 non-null float64\n",
      "gender    1960 non-null float64\n",
      "dtypes: float64(14)\n",
      "memory usage: 229.7 KB\n"
     ]
    }
   ],
   "source": [
    "data.info()"
   ]
  },
  {
   "cell_type": "markdown",
   "metadata": {},
   "source": [
    "* As we see here there are no null attributes and there are no categorical data. So we don't have to deal with deal with these problems."
   ]
  },
  {
   "cell_type": "code",
   "execution_count": 40,
   "metadata": {},
   "outputs": [],
   "source": [
    "def sephist(df,col):\n",
    "    \"\"\"\n",
    "    This function is used to group by in plotting histogram\n",
    "    :param df: data frame\n",
    "    :param col rate:colon name\n",
    "    :return female, male: Column values for male and female\n",
    "    \"\"\"\n",
    "    female = df[df.gender == 0 ].iloc[:,col]\n",
    "    male = df[df.gender == 1].iloc[:,col]\n",
    "    \n",
    "    return female, male\n",
    "\n",
    "def plot_histogram(df,numcep):\n",
    "    \"\"\"\n",
    "    Function to plot histogram of two groups(male female)\n",
    "    :param df: data frame\n",
    "    :param numcep:number of MFCC coefficients\n",
    "    \"\"\"\n",
    "    f, ax = plt.subplots(numcep, sharey=True, figsize=(10, 20))\n",
    "#     for col in df.columns[:-2]:\n",
    "#         ax[col].hist(sephist(df,col)[0],bins=25,alpha=0.75, label='Female', color='r')\n",
    "#         ax[col].hist(sephist(df,col)[1],bins=25,alpha=0.75, label='Male', color='b')\n",
    "#         ax[col].legend(loc='upper right')\n",
    "#         ax[col].set_title(col)\n",
    "\n",
    "    for col in range(numcep):\n",
    "        ax[col].hist((sephist(df,col)[0], sephist(df,col)[1]), bins=50, alpha=0.7, label=['female', 'male'], color=['r', 'b'])\n",
    "        ax[col].legend(['female', 'male'])\n",
    "        ax[col].legend(loc='upper right')\n",
    "        ax[col].set_title(col)\n",
    "    plt.tight_layout(pad=0.4, w_pad=0.5, h_pad=1.0)\n",
    "    "
   ]
  },
  {
   "cell_type": "code",
   "execution_count": 41,
   "metadata": {},
   "outputs": [
    {
     "data": {
      "image/png": "[encoded data removed]",
      "text/plain": [
       "<Figure size 720x1440 with 13 Axes>"
      ]
     },
     "metadata": {
      "needs_background": "light"
     },
     "output_type": "display_data"
    }
   ],
   "source": [
    "plot_histogram(data,numcep)"
   ]
  },
  {
   "cell_type": "markdown",
   "metadata": {},
   "source": [
    "* We can see that features seem to have normally distibution. Some of them have some skew but they are not very different in both genders. "
   ]
  },
  {
   "cell_type": "code",
   "execution_count": 42,
   "metadata": {},
   "outputs": [
    {
     "data": {
      "image/png": "[encoded data removed]",
      "text/plain": [
       "<Figure size 864x720 with 16 Axes>"
      ]
     },
     "metadata": {
      "needs_background": "light"
     },
     "output_type": "display_data"
    }
   ],
   "source": [
    "h=data.hist(figsize=(12,10))"
   ]
  },
  {
   "cell_type": "markdown",
   "metadata": {},
   "source": [
    "Here we have the histogram of all dataset. They seem to have a distribution close to normal distribution"
   ]
  },
  {
   "cell_type": "code",
   "execution_count": 43,
   "metadata": {},
   "outputs": [
    {
     "data": {
      "image/png": "[encoded data removed]",
      "text/plain": [
       "<Figure size 792x648 with 2 Axes>"
      ]
     },
     "metadata": {
      "needs_background": "light"
     },
     "output_type": "display_data"
    }
   ],
   "source": [
    "corr = data.iloc[:,:-1].corr()\n",
    "\n",
    "mask = np.zeros_like(corr, dtype=np.bool)\n",
    "mask[np.triu_indices_from(mask)] = True\n",
    "\n",
    "f, ax = plt.subplots(figsize=(11, 9))\n",
    "cmap = sns.diverging_palette(220, 10, as_cmap=True)\n",
    "\n",
    "h = sns.heatmap(corr, mask=mask, cmap=cmap, vmax=.3, center=0,\n",
    "            square=True, linewidths=.5, cbar_kws={\"shrink\": .5})"
   ]
  },
  {
   "cell_type": "markdown",
   "metadata": {},
   "source": [
    "* Here we have heatmap. We can observe that features aren't highly correlated since the correlation varies between -0.3 and 0.3"
   ]
  },
  {
   "cell_type": "markdown",
   "metadata": {},
   "source": [
    "Final data preparation"
   ]
  },
  {
   "cell_type": "code",
   "execution_count": 44,
   "metadata": {},
   "outputs": [],
   "source": [
    "genders = np.array(data.iloc[:,-1])\n",
    "dataset = data.drop('gender',axis=1)\n",
    "dataset = dataset.to_numpy()"
   ]
  },
  {
   "cell_type": "code",
   "execution_count": 45,
   "metadata": {},
   "outputs": [
    {
     "name": "stdout",
     "output_type": "stream",
     "text": [
      "Dataset shape:  (1960, 13)\n",
      "Genders shape:  (1960,)\n",
      "Number of male speakers: 951.0\n",
      "Male Speakers Ratio:% 48\n"
     ]
    }
   ],
   "source": [
    "print('Dataset shape: ',dataset.shape)\n",
    "print('Genders shape: ',genders.shape)\n",
    "print('Number of male speakers:', genders.sum())\n",
    "print('Male Speakers Ratio:%', int(genders.sum()/genders.shape*100))"
   ]
  },
  {
   "cell_type": "markdown",
   "metadata": {},
   "source": [
    "* Here we see that we have 1960 samples and 951 of them are male. Now data isn't perfectly unbalanced but nearly balanced, we might have small bias to the gender which is majority(female), but since the imbalance is not very much I don't think it'll effect our performance very much"
   ]
  },
  {
   "cell_type": "markdown",
   "metadata": {},
   "source": [
    "<a id='I_IV'/></a>\n",
    "### Train/Val/Test Split"
   ]
  },
  {
   "cell_type": "code",
   "execution_count": 46,
   "metadata": {},
   "outputs": [],
   "source": [
    "from sklearn.model_selection import train_test_split\n",
    "from sklearn.utils import check_X_y\n",
    "from sklearn.preprocessing import scale"
   ]
  },
  {
   "cell_type": "markdown",
   "metadata": {},
   "source": [
    "Train/Test splitting"
   ]
  },
  {
   "cell_type": "code",
   "execution_count": 47,
   "metadata": {},
   "outputs": [],
   "source": [
    "X_train, X_test, y_train, y_test = train_test_split(dataset, genders, test_size=0.2, random_state=seed, stratify=genders)\n",
    "#Scaling data\n",
    "X_train = scale(X_train)\n",
    "X_test= scale(X_test)"
   ]
  },
  {
   "cell_type": "markdown",
   "metadata": {},
   "source": [
    "Input validation"
   ]
  },
  {
   "cell_type": "code",
   "execution_count": 48,
   "metadata": {},
   "outputs": [],
   "source": [
    "X_train, y_train = check_X_y(X=X_train, y=y_train)\n",
    "X_test, y_test = check_X_y(X=X_test, y=y_test)"
   ]
  },
  {
   "cell_type": "markdown",
   "metadata": {},
   "source": [
    "Train/Validation splitting"
   ]
  },
  {
   "cell_type": "code",
   "execution_count": 49,
   "metadata": {},
   "outputs": [],
   "source": [
    "X_train_train, X_train_val, y_train_train, y_train_val = train_test_split(X_train, y_train, test_size = 0.2, random_state = seed, stratify = y_train)"
   ]
  },
  {
   "cell_type": "markdown",
   "metadata": {},
   "source": [
    "<a id='III'></a>\n",
    "## Classification"
   ]
  },
  {
   "cell_type": "markdown",
   "metadata": {},
   "source": [
    "<a id='III_I'></a>\n",
    "### GaussianNB"
   ]
  },
  {
   "cell_type": "code",
   "execution_count": 50,
   "metadata": {},
   "outputs": [],
   "source": [
    "from sklearn.preprocessing import StandardScaler\n",
    "from sklearn.naive_bayes import GaussianNB\n",
    "from sklearn.metrics import accuracy_score\n",
    "from sklearn.metrics import classification_report\n",
    "from sklearn.pipeline import Pipeline"
   ]
  },
  {
   "cell_type": "code",
   "execution_count": 51,
   "metadata": {},
   "outputs": [
    {
     "name": "stdout",
     "output_type": "stream",
     "text": [
      "Gaussian Naive Bayes accuracy on test set: 0.8239795918367347\n",
      "\n",
      "Classification Report:\n",
      "               precision    recall  f1-score   support\n",
      "\n",
      "         0.0       0.89      0.75      0.81       202\n",
      "         1.0       0.77      0.91      0.83       190\n",
      "\n",
      "   micro avg       0.82      0.82      0.82       392\n",
      "   macro avg       0.83      0.83      0.82       392\n",
      "weighted avg       0.83      0.82      0.82       392\n",
      "\n"
     ]
    }
   ],
   "source": [
    "estimators = []\n",
    "estimators.append(('gnb', GaussianNB()))\n",
    "\n",
    "pipeline_gnb = Pipeline(estimators)\n",
    "pipeline_gnb.fit(X_train, y_train)\n",
    "\n",
    "y_pred = pipeline_gnb.predict(X_test)\n",
    "score = accuracy_score(y_test, y_pred)\n",
    "\n",
    "print('Gaussian Naive Bayes accuracy on test set: {}\\n'.format(score))\n",
    "print('Classification Report:\\n',classification_report(y_test, y_pred))"
   ]
  },
  {
   "cell_type": "markdown",
   "metadata": {},
   "source": [
    "As it's seen our precision is worse in male(class=1) this is because we have bias towards to female speakers since we have more female speakers in our data set. But overall performance is not very bad because since our data has normal distibution naive bayes performs fair well enough. Also the strong conditionally independence assumption of Naive Bayes reduces the performance."
   ]
  },
  {
   "cell_type": "markdown",
   "metadata": {},
   "source": [
    "<a id='III_II'></a>\n",
    "### Logistic Regression"
   ]
  },
  {
   "cell_type": "code",
   "execution_count": 52,
   "metadata": {},
   "outputs": [
    {
     "name": "stderr",
     "output_type": "stream",
     "text": [
      "100%|██████████| 100/100 [00:00<00:00, 210.24it/s]"
     ]
    },
    {
     "name": "stdout",
     "output_type": "stream",
     "text": [
      "best C = 1.0000 with accuracy : 0.8280\n",
      "l2-Logistic regression classifer accuracy on test set : 0.844388\n",
      "Classification Report:\n",
      "               precision    recall  f1-score   support\n",
      "\n",
      "         0.0       0.86      0.83      0.85       202\n",
      "         1.0       0.83      0.86      0.84       190\n",
      "\n",
      "   micro avg       0.84      0.84      0.84       392\n",
      "   macro avg       0.84      0.84      0.84       392\n",
      "weighted avg       0.84      0.84      0.84       392\n",
      "\n"
     ]
    },
    {
     "name": "stderr",
     "output_type": "stream",
     "text": [
      "\n"
     ]
    }
   ],
   "source": [
    "from sklearn.linear_model import LogisticRegression\n",
    "from sklearn.preprocessing import MinMaxScaler\n",
    "\n",
    "#  features and classifier in a single pipeline\n",
    "\n",
    "estimators = []\n",
    "estimators.append(('lr', LogisticRegression(random_state = seed,solver='liblinear')))\n",
    "\n",
    "pipeline_lr = Pipeline(estimators)\n",
    "pipeline_lr.set_params(lr__penalty='l2')\n",
    "\n",
    "# Finding best value of C using validation set\n",
    "scores = []\n",
    "Cs = []\n",
    "for C in tqdm(np.logspace(0, 2.5, 100)):\n",
    "    pipeline_lr.set_params(lr__C=C) \n",
    "    pipeline_lr.fit(X_train_train,y_train_train)\n",
    "    \n",
    "    y_train_pred = pipeline_lr.predict(X_train_val)\n",
    "    scores.append(accuracy_score(y_train_val, y_train_pred))\n",
    "    \n",
    "    Cs.append(C)\n",
    "\n",
    "best_C_l2 = Cs[scores.index(max(scores))]\n",
    "print ('best C = %2.4f with accuracy : %2.4f' %(best_C_l2, max(scores)))\n",
    "\n",
    "# Performance of the tuned model on test set\n",
    "pipeline_lr.set_params(lr__C=best_C_l2)\n",
    "pipeline_lr.fit(X_train,y_train)\n",
    "\n",
    "y_pred_lrRl2 = pipeline_lr.predict(X_test)\n",
    "score = accuracy_score(y_test, y_pred_lrRl2)\n",
    "\n",
    "print ('l2-Logistic regression classifer accuracy on test set : %2.6f' %score)\n",
    "print('Classification Report:\\n',classification_report(y_test, y_pred_lrRl2))"
   ]
  },
  {
   "cell_type": "markdown",
   "metadata": {},
   "source": [
    "* Now we saw another linear classifier, Logistic Regression. It outperformed Naive Bayes after hyperparameter tuning. I think the reason behind this is the conditionally independence of Naive Bayes which introduces bias."
   ]
  },
  {
   "cell_type": "markdown",
   "metadata": {},
   "source": [
    "<a id='III_III'></a>\n",
    "### Random Forest"
   ]
  },
  {
   "cell_type": "code",
   "execution_count": 53,
   "metadata": {},
   "outputs": [
    {
     "name": "stderr",
     "output_type": "stream",
     "text": [
      "100%|██████████| 20/20 [00:02<00:00,  4.12it/s]\n"
     ]
    },
    {
     "name": "stdout",
     "output_type": "stream",
     "text": [
      "best n_estimators = 38 with accuracy : 0.9713\n",
      "Random forest classifer accuracy on test set : 0.9592\n",
      "Classification Report:\n",
      "               precision    recall  f1-score   support\n",
      "\n",
      "         0.0       0.96      0.97      0.96       202\n",
      "         1.0       0.96      0.95      0.96       190\n",
      "\n",
      "   micro avg       0.96      0.96      0.96       392\n",
      "   macro avg       0.96      0.96      0.96       392\n",
      "weighted avg       0.96      0.96      0.96       392\n",
      "\n"
     ]
    },
    {
     "data": {
      "image/png": "[encoded data removed]",
      "text/plain": [
       "<Figure size 432x288 with 1 Axes>"
      ]
     },
     "metadata": {
      "needs_background": "light"
     },
     "output_type": "display_data"
    }
   ],
   "source": [
    "from sklearn.ensemble import RandomForestClassifier\n",
    "\n",
    "estimators = []\n",
    "estimators.append(('rf', RandomForestClassifier()))\n",
    "\n",
    "pipeline_rf = Pipeline(estimators)\n",
    "pipeline_rf.set_params(rf__random_state = seed)\n",
    "    \n",
    "# Finding best value of n_estimators using validation set\n",
    "scores = []\n",
    "n_estimators = []\n",
    "for n_estimator in tqdm([int(i) for i in np.linspace(10, 100, 20)]):\n",
    "    pipeline_rf.set_params(rf__n_estimators = n_estimator) \n",
    "    pipeline_rf.fit(X_train_train,y_train_train)\n",
    "    y_train_pred = pipeline_rf.predict(X_train_val)\n",
    "    scores.append(accuracy_score(y_train_val, y_train_pred))\n",
    "    n_estimators.append(n_estimator)\n",
    "\n",
    "best_n_estimator = n_estimators[scores.index(max(scores))]\n",
    "print ('best n_estimators = %d with accuracy : %2.4f' %(best_n_estimator, max(scores)))\n",
    "\n",
    "# Performance of the tuned model on test set\n",
    "pipeline_rf.set_params(rf__n_estimators = best_n_estimator)\n",
    "pipeline_rf.fit(X_train,y_train)\n",
    "\n",
    "y_pred_rf = pipeline_rf.predict(X_test)\n",
    "score = accuracy_score(y_test, y_pred_rf)\n",
    "\n",
    "#Plot validation accuracy wrt number of estimators\n",
    "plt.plot( n_estimators,scores)\n",
    "plt.xlabel('Number of Estimators')\n",
    "plt.ylabel('Validation Accuracy')\n",
    "\n",
    "print ('Random forest classifer accuracy on test set : %2.4f' %score)\n",
    "print('Classification Report:\\n',classification_report(y_test, y_pred_rf))"
   ]
  },
  {
   "cell_type": "markdown",
   "metadata": {},
   "source": [
    "* We see that Random Forest outperforms Naive Bayes and \n",
    "Logistic regression and reaches %95 accuracy. This decision tree based model performs well because some of the MFCC features are highly related the speaker gender.This provides us a making good decisin rules"
   ]
  },
  {
   "cell_type": "markdown",
   "metadata": {},
   "source": [
    "<a id='III_IV'></a>\n",
    "\n",
    "### Gradient Boosting Trees"
   ]
  },
  {
   "cell_type": "code",
   "execution_count": 55,
   "metadata": {},
   "outputs": [
    {
     "name": "stderr",
     "output_type": "stream",
     "text": [
      "100%|██████████| 20/20 [00:21<00:00,  1.81s/it]\n"
     ]
    },
    {
     "name": "stdout",
     "output_type": "stream",
     "text": [
      "best n_estimator = 791 with accuracy : 0.9650\n",
      "Gradient Boosting Trees classifier accuracy on test set: 0.9668\n",
      "Classification Report:\n",
      "               precision    recall  f1-score   support\n",
      "\n",
      "         0.0       0.97      0.97      0.97       202\n",
      "         1.0       0.97      0.96      0.97       190\n",
      "\n",
      "   micro avg       0.97      0.97      0.97       392\n",
      "   macro avg       0.97      0.97      0.97       392\n",
      "weighted avg       0.97      0.97      0.97       392\n",
      "\n"
     ]
    },
    {
     "data": {
      "image/png": "[encoded data removed]",
      "text/plain": [
       "<Figure size 432x288 with 1 Axes>"
      ]
     },
     "metadata": {
      "needs_background": "light"
     },
     "output_type": "display_data"
    }
   ],
   "source": [
    "from sklearn.ensemble import GradientBoostingClassifier\n",
    "\n",
    "# Define a gradient boosting tree classifier pipeline\n",
    "estimators = []\n",
    "estimators.append(('gb', GradientBoostingClassifier(random_state = seed)))\n",
    "\n",
    "pipeline = Pipeline(estimators)\n",
    "\n",
    "# Finding best value of n_estimators using validation set\n",
    "# NOTE: Here i use only validation but to get getter performance you can use cross validaton \n",
    "#       if you have enough computation power\n",
    "scores = []\n",
    "n_estimators = []\n",
    "for n_estimator in tqdm([int(i) for i in np.linspace(10, 1000, 20)]):\n",
    "    pipeline.set_params(gb__n_estimators = n_estimator) \n",
    "    pipeline.fit(X_train_train,y_train_train)\n",
    "    y_train_pred = pipeline.predict(X_train_val)\n",
    "    scores.append(accuracy_score (y_train_val, y_train_pred))\n",
    "    n_estimators.append(n_estimator)\n",
    "\n",
    "best_n_estimator = n_estimators[scores.index(max(scores))]\n",
    "print ('best n_estimator = %d with accuracy : %2.4f' %(best_n_estimator, max(scores)))\n",
    "\n",
    "# Performance of the tuned model on test set\n",
    "pipeline.set_params(gb__n_estimators = best_n_estimator)\n",
    "pipeline.fit(X_train,y_train)\n",
    "\n",
    "y_pred_gb = pipeline.predict(X_test)\n",
    "score = accuracy_score(y_test, y_pred_gb)\n",
    "\n",
    "#Plot validation accuracy wrt number of estimators\n",
    "plt.plot( n_estimators,scores)\n",
    "plt.xlabel('Number of Estimators')\n",
    "plt.ylabel('Validation Accuracy')\n",
    "\n",
    "print ('Gradient Boosting Trees classifier accuracy on test set: %2.4f' %score)\n",
    "print('Classification Report:\\n',classification_report(y_test, y_pred_gb))"
   ]
  },
  {
   "cell_type": "markdown",
   "metadata": {},
   "source": [
    "* Again another ensemble method performs very well the motivation behind this is the same as Random Forest"
   ]
  },
  {
   "cell_type": "markdown",
   "metadata": {},
   "source": [
    "<a id='III_V'></a>\n",
    "\n",
    "### Feed Forward NN"
   ]
  },
  {
   "cell_type": "code",
   "execution_count": 56,
   "metadata": {},
   "outputs": [
    {
     "name": "stderr",
     "output_type": "stream",
     "text": [
      "Using TensorFlow backend.\n"
     ]
    }
   ],
   "source": [
    "import tensorflow as tf\n",
    "from keras.models import Sequential\n",
    "from keras.layers import Dense, Dropout\n",
    "from keras.utils import np_utils\n",
    "from keras.callbacks import Callback, EarlyStopping"
   ]
  },
  {
   "cell_type": "code",
   "execution_count": 57,
   "metadata": {},
   "outputs": [],
   "source": [
    "# build neural network model\n",
    "def create_model():\n",
    "    # create model\n",
    "    model = Sequential()\n",
    "    model.add(Dense(64, input_dim=dataset.shape[1], activation='relu'))\n",
    "#     model.add(Dense(32, activation='relu'))\n",
    "    model.add(Dense(1, activation='sigmoid'))\n",
    "    # Compile model\n",
    "    model.compile(loss='binary_crossentropy', optimizer='adam', metrics=['accuracy'])\n",
    "    return model"
   ]
  },
  {
   "cell_type": "code",
   "execution_count": 58,
   "metadata": {},
   "outputs": [
    {
     "name": "stdout",
     "output_type": "stream",
     "text": [
      "Model: \"sequential_1\"\n",
      "_________________________________________________________________\n",
      "Layer (type)                 Output Shape              Param #   \n",
      "=================================================================\n",
      "dense_1 (Dense)              (None, 64)                896       \n",
      "_________________________________________________________________\n",
      "dense_2 (Dense)              (None, 1)                 65        \n",
      "=================================================================\n",
      "Total params: 961\n",
      "Trainable params: 961\n",
      "Non-trainable params: 0\n",
      "_________________________________________________________________\n"
     ]
    }
   ],
   "source": [
    "model = create_model()\n",
    "model.summary()"
   ]
  },
  {
   "cell_type": "code",
   "execution_count": 59,
   "metadata": {},
   "outputs": [
    {
     "name": "stdout",
     "output_type": "stream",
     "text": [
      "Train on 1254 samples, validate on 314 samples\n",
      "Epoch 1/100\n",
      "1254/1254 [==============================] - 0s 157us/step - loss: 0.6384 - accuracy: 0.5781 - val_loss: 0.5452 - val_accuracy: 0.7293\n",
      "Epoch 2/100\n",
      "1254/1254 [==============================] - 0s 44us/step - loss: 0.5008 - accuracy: 0.7815 - val_loss: 0.4420 - val_accuracy: 0.8121\n",
      "Epoch 3/100\n",
      "1254/1254 [==============================] - 0s 52us/step - loss: 0.4199 - accuracy: 0.8373 - val_loss: 0.3733 - val_accuracy: 0.8662\n",
      "Epoch 4/100\n",
      "1254/1254 [==============================] - 0s 45us/step - loss: 0.3609 - accuracy: 0.8692 - val_loss: 0.3221 - val_accuracy: 0.9013\n",
      "Epoch 5/100\n",
      "1254/1254 [==============================] - 0s 47us/step - loss: 0.3162 - accuracy: 0.8963 - val_loss: 0.2849 - val_accuracy: 0.9268\n",
      "Epoch 6/100\n",
      "1254/1254 [==============================] - 0s 53us/step - loss: 0.2812 - accuracy: 0.9147 - val_loss: 0.2563 - val_accuracy: 0.9331\n",
      "Epoch 7/100\n",
      "1254/1254 [==============================] - 0s 47us/step - loss: 0.2533 - accuracy: 0.9282 - val_loss: 0.2348 - val_accuracy: 0.9331\n",
      "Epoch 8/100\n",
      "1254/1254 [==============================] - 0s 46us/step - loss: 0.2302 - accuracy: 0.9354 - val_loss: 0.2133 - val_accuracy: 0.9331\n",
      "Epoch 9/100\n",
      "1254/1254 [==============================] - 0s 45us/step - loss: 0.2094 - accuracy: 0.9426 - val_loss: 0.1961 - val_accuracy: 0.9331\n",
      "Epoch 10/100\n",
      "1254/1254 [==============================] - 0s 55us/step - loss: 0.1921 - accuracy: 0.9466 - val_loss: 0.1805 - val_accuracy: 0.9331\n",
      "Epoch 11/100\n",
      "1254/1254 [==============================] - 0s 62us/step - loss: 0.1768 - accuracy: 0.9498 - val_loss: 0.1687 - val_accuracy: 0.9427\n",
      "Epoch 12/100\n",
      "1254/1254 [==============================] - 0s 63us/step - loss: 0.1635 - accuracy: 0.9577 - val_loss: 0.1577 - val_accuracy: 0.9427\n",
      "Epoch 13/100\n",
      "1254/1254 [==============================] - 0s 54us/step - loss: 0.1539 - accuracy: 0.9577 - val_loss: 0.1483 - val_accuracy: 0.9427\n",
      "Epoch 14/100\n",
      "1254/1254 [==============================] - 0s 52us/step - loss: 0.1415 - accuracy: 0.9625 - val_loss: 0.1404 - val_accuracy: 0.9522\n",
      "Epoch 15/100\n",
      "1254/1254 [==============================] - 0s 52us/step - loss: 0.1331 - accuracy: 0.9641 - val_loss: 0.1314 - val_accuracy: 0.9554\n",
      "Epoch 16/100\n",
      "1254/1254 [==============================] - 0s 51us/step - loss: 0.1243 - accuracy: 0.9681 - val_loss: 0.1256 - val_accuracy: 0.9554\n",
      "Epoch 17/100\n",
      "1254/1254 [==============================] - 0s 56us/step - loss: 0.1172 - accuracy: 0.9721 - val_loss: 0.1206 - val_accuracy: 0.9586\n",
      "Epoch 18/100\n",
      "1254/1254 [==============================] - 0s 56us/step - loss: 0.1111 - accuracy: 0.9721 - val_loss: 0.1154 - val_accuracy: 0.9586\n",
      "Epoch 19/100\n",
      "1254/1254 [==============================] - 0s 59us/step - loss: 0.1043 - accuracy: 0.9761 - val_loss: 0.1088 - val_accuracy: 0.9650\n",
      "Epoch 20/100\n",
      "1254/1254 [==============================] - 0s 58us/step - loss: 0.0994 - accuracy: 0.9785 - val_loss: 0.1085 - val_accuracy: 0.9618\n",
      "Epoch 21/100\n",
      "1254/1254 [==============================] - 0s 59us/step - loss: 0.0944 - accuracy: 0.9785 - val_loss: 0.1025 - val_accuracy: 0.9682\n",
      "Epoch 22/100\n",
      "1254/1254 [==============================] - 0s 45us/step - loss: 0.0901 - accuracy: 0.9801 - val_loss: 0.0985 - val_accuracy: 0.9682\n",
      "Epoch 23/100\n",
      "1254/1254 [==============================] - 0s 47us/step - loss: 0.0871 - accuracy: 0.9809 - val_loss: 0.0970 - val_accuracy: 0.9713\n",
      "Epoch 24/100\n",
      "1254/1254 [==============================] - 0s 61us/step - loss: 0.0821 - accuracy: 0.9825 - val_loss: 0.0934 - val_accuracy: 0.9713\n",
      "Epoch 25/100\n",
      "1254/1254 [==============================] - 0s 56us/step - loss: 0.0783 - accuracy: 0.9817 - val_loss: 0.0895 - val_accuracy: 0.9682\n",
      "Epoch 26/100\n",
      "1254/1254 [==============================] - 0s 50us/step - loss: 0.0748 - accuracy: 0.9833 - val_loss: 0.0887 - val_accuracy: 0.9713\n",
      "Epoch 27/100\n",
      "1254/1254 [==============================] - 0s 59us/step - loss: 0.0724 - accuracy: 0.9848 - val_loss: 0.0874 - val_accuracy: 0.9713\n",
      "Epoch 28/100\n",
      "1254/1254 [==============================] - 0s 54us/step - loss: 0.0692 - accuracy: 0.9864 - val_loss: 0.0825 - val_accuracy: 0.9745\n",
      "Epoch 29/100\n",
      "1254/1254 [==============================] - 0s 48us/step - loss: 0.0663 - accuracy: 0.9856 - val_loss: 0.0800 - val_accuracy: 0.9745\n",
      "Epoch 30/100\n",
      "1254/1254 [==============================] - 0s 58us/step - loss: 0.0637 - accuracy: 0.9872 - val_loss: 0.0791 - val_accuracy: 0.9745\n",
      "Epoch 31/100\n",
      "1254/1254 [==============================] - 0s 63us/step - loss: 0.0615 - accuracy: 0.9880 - val_loss: 0.0781 - val_accuracy: 0.9745\n",
      "Epoch 32/100\n",
      "1254/1254 [==============================] - 0s 79us/step - loss: 0.0592 - accuracy: 0.9880 - val_loss: 0.0777 - val_accuracy: 0.9745\n",
      "Epoch 33/100\n",
      "1254/1254 [==============================] - 0s 50us/step - loss: 0.0570 - accuracy: 0.9888 - val_loss: 0.0752 - val_accuracy: 0.9777\n",
      "Epoch 34/100\n",
      "1254/1254 [==============================] - 0s 48us/step - loss: 0.0555 - accuracy: 0.9888 - val_loss: 0.0738 - val_accuracy: 0.9777\n",
      "Epoch 35/100\n",
      "1254/1254 [==============================] - 0s 48us/step - loss: 0.0532 - accuracy: 0.9896 - val_loss: 0.0723 - val_accuracy: 0.9777\n",
      "Epoch 36/100\n",
      "1254/1254 [==============================] - 0s 48us/step - loss: 0.0514 - accuracy: 0.9896 - val_loss: 0.0711 - val_accuracy: 0.9777\n",
      "Epoch 37/100\n",
      "1254/1254 [==============================] - 0s 63us/step - loss: 0.0497 - accuracy: 0.9896 - val_loss: 0.0700 - val_accuracy: 0.9777\n",
      "Epoch 38/100\n",
      "1254/1254 [==============================] - 0s 55us/step - loss: 0.0480 - accuracy: 0.9896 - val_loss: 0.0699 - val_accuracy: 0.9777\n",
      "\n",
      "Epoch 00038: ReduceLROnPlateau reducing learning rate to 0.0005000000237487257.\n",
      "Epoch 39/100\n",
      "1254/1254 [==============================] - 0s 59us/step - loss: 0.0464 - accuracy: 0.9904 - val_loss: 0.0689 - val_accuracy: 0.9777\n",
      "Epoch 40/100\n",
      "1254/1254 [==============================] - 0s 44us/step - loss: 0.0456 - accuracy: 0.9912 - val_loss: 0.0685 - val_accuracy: 0.9777\n",
      "Epoch 41/100\n",
      "1254/1254 [==============================] - 0s 43us/step - loss: 0.0448 - accuracy: 0.9904 - val_loss: 0.0677 - val_accuracy: 0.9777\n",
      "Epoch 42/100\n",
      "1254/1254 [==============================] - 0s 45us/step - loss: 0.0441 - accuracy: 0.9912 - val_loss: 0.0676 - val_accuracy: 0.9777\n",
      "Epoch 43/100\n",
      "1254/1254 [==============================] - 0s 42us/step - loss: 0.0434 - accuracy: 0.9920 - val_loss: 0.0667 - val_accuracy: 0.9777\n",
      "\n",
      "Epoch 00043: ReduceLROnPlateau reducing learning rate to 0.0002500000118743628.\n",
      "Epoch 00043: early stopping\n"
     ]
    }
   ],
   "source": [
    "min_lr=1e-6\n",
    "callbacks =[]\n",
    "reduce_lr = tf.keras.callbacks.ReduceLROnPlateau(monitor='val_accuracy',\n",
    "                                                 mode=\"max\",\n",
    "                                                 min_lr=min_lr,\n",
    "                                                 factor=.5,\n",
    "                                                 patience=5,\n",
    "                                                 verbose=1)\n",
    "callbacks.append(reduce_lr)\n",
    "\n",
    "es_callback = tf.keras.callbacks.EarlyStopping(monitor='val_accuracy', mode='max', patience=10, verbose=1)\n",
    "callbacks.append(es_callback)\n",
    "\n",
    "history = model.fit(X_train, y_train, batch_size=32, epochs=100, verbose=1, validation_split=0.2, callbacks=callbacks)"
   ]
  },
  {
   "cell_type": "code",
   "execution_count": 60,
   "metadata": {},
   "outputs": [
    {
     "name": "stdout",
     "output_type": "stream",
     "text": [
      "Feed Forward Neural Network accuracy on test set : 0.974490\n",
      "Classification Report:\n",
      "               precision    recall  f1-score   support\n",
      "\n",
      "         0.0       0.98      0.98      0.98       202\n",
      "         1.0       0.97      0.97      0.97       190\n",
      "\n",
      "   micro avg       0.97      0.97      0.97       392\n",
      "   macro avg       0.97      0.97      0.97       392\n",
      "weighted avg       0.97      0.97      0.97       392\n",
      "\n"
     ]
    }
   ],
   "source": [
    "y_pred_ffnn = model.predict_classes(X_test)\n",
    "score = accuracy_score(y_test, y_pred_ffnn)\n",
    "print ('Feed Forward Neural Network accuracy on test set : %2.6f' %score)\n",
    "print('Classification Report:\\n',classification_report(y_test, y_pred_ffnn))"
   ]
  },
  {
   "cell_type": "code",
   "execution_count": 61,
   "metadata": {},
   "outputs": [],
   "source": [
    "def plot_nn_hist(history):\n",
    "    plt.plot(history.history['accuracy'])\n",
    "    plt.plot(history.history['val_accuracy'])\n",
    "    plt.title('model accuracy')\n",
    "    plt.ylabel('accuracy')\n",
    "    plt.xlabel('epoch')\n",
    "    plt.legend(['train', 'validation'], loc='upper left')\n",
    "    plt.show()\n",
    "    # summarize history for loss\n",
    "    plt.plot(history.history['loss'])\n",
    "    plt.plot(history.history['val_loss'])\n",
    "    plt.title('model loss')\n",
    "    plt.ylabel('loss')\n",
    "    plt.xlabel('epoch')\n",
    "    plt.legend(['train', 'validation'], loc='upper left')\n",
    "    plt.show()"
   ]
  },
  {
   "cell_type": "code",
   "execution_count": 62,
   "metadata": {},
   "outputs": [
    {
     "data": {
      "image/png": "[encoded data removed]",
      "text/plain": [
       "<Figure size 432x288 with 1 Axes>"
      ]
     },
     "metadata": {
      "needs_background": "light"
     },
     "output_type": "display_data"
    },
    {
     "data": {
      "image/png": "[encoded data removed]",
      "text/plain": [
       "<Figure size 432x288 with 1 Axes>"
      ]
     },
     "metadata": {
      "needs_background": "light"
     },
     "output_type": "display_data"
    }
   ],
   "source": [
    "plot_nn_hist(history)"
   ]
  },
  {
   "cell_type": "markdown",
   "metadata": {},
   "source": [
    "<a id='III_VI'></a>\n",
    "\n",
    "### Convolutional Neural Networks"
   ]
  },
  {
   "cell_type": "code",
   "execution_count": 63,
   "metadata": {},
   "outputs": [],
   "source": [
    "from keras.layers import Dense, Conv1D,LSTM, GlobalMaxPool1D, Dropout"
   ]
  },
  {
   "cell_type": "code",
   "execution_count": 102,
   "metadata": {},
   "outputs": [],
   "source": [
    "def create_cnn_model():\n",
    "    model = Sequential()\n",
    "    model.add(Conv1D(64,10, activation='relu', input_shape=(numcep, 1)))\n",
    "    model.add(GlobalMaxPool1D())\n",
    "    model.add(Dense(1,activation='sigmoid'))\n",
    "    \n",
    "    model.compile(loss='binary_crossentropy', optimizer='adam', metrics=['accuracy'])\n",
    "    print(model.summary())\n",
    "    return model"
   ]
  },
  {
   "cell_type": "code",
   "execution_count": 103,
   "metadata": {},
   "outputs": [],
   "source": [
    "num_samples, num_features = dataset.shape\n",
    "X_train_cnn, X_test_cnn, y_train_cnn, y_test_cnn = train_test_split(dataset.reshape(num_samples, num_features,1) , genders, test_size=0.2, random_state=seed, stratify=genders)"
   ]
  },
  {
   "cell_type": "code",
   "execution_count": 104,
   "metadata": {},
   "outputs": [
    {
     "name": "stdout",
     "output_type": "stream",
     "text": [
      "Model: \"sequential_12\"\n",
      "_________________________________________________________________\n",
      "Layer (type)                 Output Shape              Param #   \n",
      "=================================================================\n",
      "conv1d_10 (Conv1D)           (None, 4, 64)             704       \n",
      "_________________________________________________________________\n",
      "global_max_pooling1d_9 (Glob (None, 64)                0         \n",
      "_________________________________________________________________\n",
      "dense_12 (Dense)             (None, 1)                 65        \n",
      "=================================================================\n",
      "Total params: 769\n",
      "Trainable params: 769\n",
      "Non-trainable params: 0\n",
      "_________________________________________________________________\n",
      "None\n",
      "Train on 1254 samples, validate on 314 samples\n",
      "Epoch 1/100\n",
      "1254/1254 [==============================] - 0s 144us/step - loss: 1.6544 - accuracy: 0.6093 - val_loss: 0.7395 - val_accuracy: 0.7070\n",
      "Epoch 2/100\n",
      "1254/1254 [==============================] - 0s 57us/step - loss: 0.5191 - accuracy: 0.7632 - val_loss: 0.5110 - val_accuracy: 0.7516\n",
      "Epoch 3/100\n",
      "1254/1254 [==============================] - 0s 66us/step - loss: 0.5064 - accuracy: 0.7456 - val_loss: 0.4947 - val_accuracy: 0.7643\n",
      "Epoch 4/100\n",
      "1254/1254 [==============================] - 0s 65us/step - loss: 0.5152 - accuracy: 0.7528 - val_loss: 0.5130 - val_accuracy: 0.7548\n",
      "Epoch 5/100\n",
      "1254/1254 [==============================] - 0s 49us/step - loss: 0.4083 - accuracy: 0.8046 - val_loss: 0.4131 - val_accuracy: 0.7962\n",
      "Epoch 6/100\n",
      "1254/1254 [==============================] - 0s 55us/step - loss: 0.3827 - accuracy: 0.8278 - val_loss: 0.3925 - val_accuracy: 0.8280\n",
      "Epoch 7/100\n",
      "1254/1254 [==============================] - 0s 65us/step - loss: 0.3792 - accuracy: 0.8413 - val_loss: 0.3683 - val_accuracy: 0.8408\n",
      "Epoch 8/100\n",
      "1254/1254 [==============================] - 0s 55us/step - loss: 0.4076 - accuracy: 0.8158 - val_loss: 0.3595 - val_accuracy: 0.8408\n",
      "Epoch 9/100\n",
      "1254/1254 [==============================] - 0s 55us/step - loss: 0.3608 - accuracy: 0.8373 - val_loss: 0.3449 - val_accuracy: 0.8439\n",
      "Epoch 10/100\n",
      "1254/1254 [==============================] - 0s 57us/step - loss: 0.3513 - accuracy: 0.8485 - val_loss: 0.3423 - val_accuracy: 0.8567\n",
      "Epoch 11/100\n",
      "1254/1254 [==============================] - 0s 52us/step - loss: 0.3129 - accuracy: 0.8780 - val_loss: 0.3246 - val_accuracy: 0.8694\n",
      "Epoch 12/100\n",
      "1254/1254 [==============================] - 0s 57us/step - loss: 0.3080 - accuracy: 0.8644 - val_loss: 0.3272 - val_accuracy: 0.8503\n",
      "Epoch 13/100\n",
      "1254/1254 [==============================] - 0s 57us/step - loss: 0.3089 - accuracy: 0.8636 - val_loss: 0.3385 - val_accuracy: 0.8471\n",
      "Epoch 14/100\n",
      "1254/1254 [==============================] - 0s 58us/step - loss: 0.2923 - accuracy: 0.8828 - val_loss: 0.2882 - val_accuracy: 0.8885\n",
      "Epoch 15/100\n",
      "1254/1254 [==============================] - 0s 71us/step - loss: 0.2976 - accuracy: 0.8668 - val_loss: 0.2706 - val_accuracy: 0.8949\n",
      "Epoch 16/100\n",
      "1254/1254 [==============================] - 0s 69us/step - loss: 0.2868 - accuracy: 0.8820 - val_loss: 0.2795 - val_accuracy: 0.8949\n",
      "Epoch 17/100\n",
      "1254/1254 [==============================] - 0s 68us/step - loss: 0.2462 - accuracy: 0.9067 - val_loss: 0.2655 - val_accuracy: 0.8917\n",
      "Epoch 18/100\n",
      "1254/1254 [==============================] - 0s 49us/step - loss: 0.2383 - accuracy: 0.9067 - val_loss: 0.2472 - val_accuracy: 0.9108\n",
      "Epoch 19/100\n",
      "1254/1254 [==============================] - 0s 53us/step - loss: 0.2505 - accuracy: 0.8979 - val_loss: 0.2613 - val_accuracy: 0.8854\n",
      "Epoch 20/100\n",
      "1254/1254 [==============================] - 0s 56us/step - loss: 0.2433 - accuracy: 0.9043 - val_loss: 0.2457 - val_accuracy: 0.8981\n",
      "Epoch 21/100\n",
      "1254/1254 [==============================] - 0s 67us/step - loss: 0.2211 - accuracy: 0.9115 - val_loss: 0.2374 - val_accuracy: 0.9045\n",
      "Epoch 22/100\n",
      "1254/1254 [==============================] - 0s 68us/step - loss: 0.2207 - accuracy: 0.9266 - val_loss: 0.2214 - val_accuracy: 0.9140\n",
      "Epoch 23/100\n",
      "1254/1254 [==============================] - 0s 59us/step - loss: 0.2020 - accuracy: 0.9226 - val_loss: 0.2159 - val_accuracy: 0.9108\n",
      "Epoch 24/100\n",
      "1254/1254 [==============================] - 0s 59us/step - loss: 0.1916 - accuracy: 0.9314 - val_loss: 0.2082 - val_accuracy: 0.9268\n",
      "Epoch 25/100\n",
      "1254/1254 [==============================] - 0s 55us/step - loss: 0.1962 - accuracy: 0.9274 - val_loss: 0.2139 - val_accuracy: 0.9013\n",
      "Epoch 26/100\n",
      "1254/1254 [==============================] - 0s 69us/step - loss: 0.1841 - accuracy: 0.9346 - val_loss: 0.1938 - val_accuracy: 0.9172\n",
      "Epoch 27/100\n",
      "1254/1254 [==============================] - 0s 65us/step - loss: 0.1786 - accuracy: 0.9378 - val_loss: 0.2023 - val_accuracy: 0.9204\n",
      "Epoch 28/100\n",
      "1254/1254 [==============================] - 0s 63us/step - loss: 0.1736 - accuracy: 0.9370 - val_loss: 0.1990 - val_accuracy: 0.9108\n",
      "Epoch 29/100\n",
      "1254/1254 [==============================] - 0s 57us/step - loss: 0.1870 - accuracy: 0.9314 - val_loss: 0.1825 - val_accuracy: 0.9331\n",
      "Epoch 30/100\n",
      "1254/1254 [==============================] - 0s 54us/step - loss: 0.1763 - accuracy: 0.9314 - val_loss: 0.1930 - val_accuracy: 0.9204\n",
      "Epoch 31/100\n",
      "1254/1254 [==============================] - 0s 65us/step - loss: 0.1693 - accuracy: 0.9314 - val_loss: 0.1714 - val_accuracy: 0.9268\n",
      "Epoch 32/100\n",
      "1254/1254 [==============================] - 0s 51us/step - loss: 0.1665 - accuracy: 0.9298 - val_loss: 0.1867 - val_accuracy: 0.9108\n",
      "Epoch 33/100\n",
      "1254/1254 [==============================] - 0s 51us/step - loss: 0.1566 - accuracy: 0.9410 - val_loss: 0.1650 - val_accuracy: 0.9490\n",
      "Epoch 34/100\n",
      "1254/1254 [==============================] - 0s 76us/step - loss: 0.1547 - accuracy: 0.9474 - val_loss: 0.1787 - val_accuracy: 0.9140\n",
      "Epoch 35/100\n",
      "1254/1254 [==============================] - 0s 53us/step - loss: 0.1559 - accuracy: 0.9466 - val_loss: 0.1867 - val_accuracy: 0.9331\n",
      "Epoch 36/100\n",
      "1254/1254 [==============================] - 0s 65us/step - loss: 0.1473 - accuracy: 0.9482 - val_loss: 0.2011 - val_accuracy: 0.9013\n",
      "Epoch 37/100\n",
      "1254/1254 [==============================] - 0s 65us/step - loss: 0.1769 - accuracy: 0.9282 - val_loss: 0.2071 - val_accuracy: 0.9363\n",
      "Epoch 38/100\n",
      "1254/1254 [==============================] - 0s 65us/step - loss: 0.1410 - accuracy: 0.9490 - val_loss: 0.1499 - val_accuracy: 0.9427\n",
      "\n",
      "Epoch 00038: ReduceLROnPlateau reducing learning rate to 0.0005000000237487257.\n",
      "Epoch 39/100\n",
      "1254/1254 [==============================] - 0s 59us/step - loss: 0.1270 - accuracy: 0.9601 - val_loss: 0.1486 - val_accuracy: 0.9363\n",
      "Epoch 40/100\n",
      "1254/1254 [==============================] - 0s 50us/step - loss: 0.1220 - accuracy: 0.9665 - val_loss: 0.1375 - val_accuracy: 0.9427\n",
      "Epoch 41/100\n",
      "1254/1254 [==============================] - 0s 52us/step - loss: 0.1234 - accuracy: 0.9617 - val_loss: 0.1420 - val_accuracy: 0.9522\n",
      "Epoch 42/100\n",
      "1254/1254 [==============================] - 0s 51us/step - loss: 0.1177 - accuracy: 0.9681 - val_loss: 0.1342 - val_accuracy: 0.9490\n",
      "Epoch 43/100\n",
      "1254/1254 [==============================] - 0s 56us/step - loss: 0.1198 - accuracy: 0.9689 - val_loss: 0.1420 - val_accuracy: 0.9331\n",
      "Epoch 44/100\n",
      "1254/1254 [==============================] - 0s 66us/step - loss: 0.1207 - accuracy: 0.9649 - val_loss: 0.1426 - val_accuracy: 0.9331\n",
      "Epoch 45/100\n",
      "1254/1254 [==============================] - 0s 62us/step - loss: 0.1208 - accuracy: 0.9633 - val_loss: 0.1408 - val_accuracy: 0.9522\n",
      "Epoch 46/100\n",
      "1254/1254 [==============================] - 0s 60us/step - loss: 0.1170 - accuracy: 0.9673 - val_loss: 0.1297 - val_accuracy: 0.9490\n",
      "\n",
      "Epoch 00046: ReduceLROnPlateau reducing learning rate to 0.0002500000118743628.\n",
      "Epoch 47/100\n",
      "1254/1254 [==============================] - 0s 53us/step - loss: 0.1091 - accuracy: 0.9721 - val_loss: 0.1291 - val_accuracy: 0.9522\n",
      "Epoch 48/100\n",
      "1254/1254 [==============================] - 0s 53us/step - loss: 0.1092 - accuracy: 0.9729 - val_loss: 0.1292 - val_accuracy: 0.9522\n",
      "Epoch 49/100\n",
      "1254/1254 [==============================] - 0s 53us/step - loss: 0.1168 - accuracy: 0.9649 - val_loss: 0.1250 - val_accuracy: 0.9490\n",
      "Epoch 50/100\n"
     ]
    },
    {
     "name": "stdout",
     "output_type": "stream",
     "text": [
      "1254/1254 [==============================] - 0s 52us/step - loss: 0.1112 - accuracy: 0.9705 - val_loss: 0.1227 - val_accuracy: 0.9490\n",
      "Epoch 51/100\n",
      "1254/1254 [==============================] - 0s 55us/step - loss: 0.1117 - accuracy: 0.9689 - val_loss: 0.1284 - val_accuracy: 0.9586\n",
      "Epoch 52/100\n",
      "1254/1254 [==============================] - 0s 52us/step - loss: 0.1103 - accuracy: 0.9689 - val_loss: 0.1268 - val_accuracy: 0.9522\n",
      "Epoch 53/100\n",
      "1254/1254 [==============================] - 0s 48us/step - loss: 0.1110 - accuracy: 0.9721 - val_loss: 0.1244 - val_accuracy: 0.9586\n",
      "Epoch 54/100\n",
      "1254/1254 [==============================] - 0s 52us/step - loss: 0.1060 - accuracy: 0.9729 - val_loss: 0.1287 - val_accuracy: 0.9586\n",
      "Epoch 55/100\n",
      "1254/1254 [==============================] - 0s 55us/step - loss: 0.1067 - accuracy: 0.9729 - val_loss: 0.1213 - val_accuracy: 0.9554\n",
      "Epoch 56/100\n",
      "1254/1254 [==============================] - 0s 47us/step - loss: 0.1050 - accuracy: 0.9713 - val_loss: 0.1216 - val_accuracy: 0.9554\n",
      "\n",
      "Epoch 00056: ReduceLROnPlateau reducing learning rate to 0.0001250000059371814.\n",
      "Epoch 57/100\n",
      "1254/1254 [==============================] - 0s 56us/step - loss: 0.1055 - accuracy: 0.9713 - val_loss: 0.1200 - val_accuracy: 0.9490\n",
      "Epoch 58/100\n",
      "1254/1254 [==============================] - 0s 54us/step - loss: 0.1047 - accuracy: 0.9689 - val_loss: 0.1199 - val_accuracy: 0.9554\n",
      "Epoch 59/100\n",
      "1254/1254 [==============================] - 0s 64us/step - loss: 0.1054 - accuracy: 0.9689 - val_loss: 0.1188 - val_accuracy: 0.9490\n",
      "Epoch 60/100\n",
      "1254/1254 [==============================] - 0s 68us/step - loss: 0.1033 - accuracy: 0.9721 - val_loss: 0.1184 - val_accuracy: 0.9490\n",
      "Epoch 61/100\n",
      "1254/1254 [==============================] - 0s 67us/step - loss: 0.1019 - accuracy: 0.9745 - val_loss: 0.1173 - val_accuracy: 0.9586\n",
      "\n",
      "Epoch 00061: ReduceLROnPlateau reducing learning rate to 6.25000029685907e-05.\n",
      "Epoch 00061: early stopping\n"
     ]
    }
   ],
   "source": [
    "model = create_cnn_model()\n",
    "hist = model.fit(X_train_cnn, y_train_cnn, batch_size=32, epochs=100, verbose=1, validation_split=0.2,callbacks=callbacks)"
   ]
  },
  {
   "cell_type": "code",
   "execution_count": 105,
   "metadata": {},
   "outputs": [
    {
     "data": {
      "image/png": "[encoded data removed]",
      "text/plain": [
       "<Figure size 432x288 with 1 Axes>"
      ]
     },
     "metadata": {
      "needs_background": "light"
     },
     "output_type": "display_data"
    },
    {
     "data": {
      "image/png": "[encoded data removed]",
      "text/plain": [
       "<Figure size 432x288 with 1 Axes>"
      ]
     },
     "metadata": {
      "needs_background": "light"
     },
     "output_type": "display_data"
    }
   ],
   "source": [
    "plot_nn_hist(hist)"
   ]
  },
  {
   "cell_type": "code",
   "execution_count": 97,
   "metadata": {},
   "outputs": [
    {
     "name": "stdout",
     "output_type": "stream",
     "text": [
      "One Layer CNN accuracy on test set : 0.941327\n",
      "Classification Report:\n",
      "               precision    recall  f1-score   support\n",
      "\n",
      "         0.0       0.92      0.98      0.94       202\n",
      "         1.0       0.97      0.91      0.94       190\n",
      "\n",
      "   micro avg       0.94      0.94      0.94       392\n",
      "   macro avg       0.94      0.94      0.94       392\n",
      "weighted avg       0.94      0.94      0.94       392\n",
      "\n"
     ]
    }
   ],
   "source": [
    "y_pred_cnn = model.predict_classes(X_test_cnn)\n",
    "score = accuracy_score(y_test_cnn, y_pred_cnn)\n",
    "print ('One Layer CNN accuracy on test set : %2.6f' %score)\n",
    "print('Classification Report:\\n',classification_report(y_test_cnn, y_pred_cnn))"
   ]
  },
  {
   "cell_type": "markdown",
   "metadata": {},
   "source": [
    "<a id='III_VII'></a>\n",
    "\n",
    "### Recurrent Neural Networks"
   ]
  },
  {
   "cell_type": "code",
   "execution_count": 69,
   "metadata": {},
   "outputs": [],
   "source": [
    "def singleLSTM(input_dim=(13,1)):\n",
    "    model = Sequential()\n",
    "    # LSTM Layer\n",
    "    model.add(LSTM(128,input_shape=input_dim))\n",
    "    model.add(Dense(1, activation='sigmoid'))\n",
    "    model.compile(loss='binary_crossentropy', optimizer='adam', metrics=['accuracy'])\n",
    "    print(model.summary())\n",
    "    return model"
   ]
  },
  {
   "cell_type": "code",
   "execution_count": 70,
   "metadata": {},
   "outputs": [
    {
     "name": "stdout",
     "output_type": "stream",
     "text": [
      "Model: \"sequential_3\"\n",
      "_________________________________________________________________\n",
      "Layer (type)                 Output Shape              Param #   \n",
      "=================================================================\n",
      "lstm_1 (LSTM)                (None, 128)               66560     \n",
      "_________________________________________________________________\n",
      "dense_4 (Dense)              (None, 1)                 129       \n",
      "=================================================================\n",
      "Total params: 66,689\n",
      "Trainable params: 66,689\n",
      "Non-trainable params: 0\n",
      "_________________________________________________________________\n",
      "None\n",
      "Train on 1254 samples, validate on 314 samples\n",
      "Epoch 1/100\n",
      "1254/1254 [==============================] - 1s 774us/step - loss: 0.6606 - accuracy: 0.6077 - val_loss: 0.5916 - val_accuracy: 0.6943\n",
      "Epoch 2/100\n",
      "1254/1254 [==============================] - 0s 397us/step - loss: 0.5194 - accuracy: 0.7424 - val_loss: 0.4048 - val_accuracy: 0.8089\n",
      "Epoch 3/100\n",
      "1254/1254 [==============================] - 0s 389us/step - loss: 0.4082 - accuracy: 0.8118 - val_loss: 0.3277 - val_accuracy: 0.8535\n",
      "Epoch 4/100\n",
      "1254/1254 [==============================] - 1s 412us/step - loss: 0.3586 - accuracy: 0.8413 - val_loss: 0.3039 - val_accuracy: 0.8790\n",
      "Epoch 5/100\n",
      "1254/1254 [==============================] - 0s 385us/step - loss: 0.3273 - accuracy: 0.8636 - val_loss: 0.2725 - val_accuracy: 0.8854\n",
      "Epoch 6/100\n",
      "1254/1254 [==============================] - 1s 413us/step - loss: 0.2717 - accuracy: 0.9011 - val_loss: 0.2326 - val_accuracy: 0.9076\n",
      "Epoch 7/100\n",
      "1254/1254 [==============================] - 1s 414us/step - loss: 0.2399 - accuracy: 0.9091 - val_loss: 0.1958 - val_accuracy: 0.9299\n",
      "Epoch 8/100\n",
      "1254/1254 [==============================] - 0s 389us/step - loss: 0.2139 - accuracy: 0.9179 - val_loss: 0.1974 - val_accuracy: 0.9299\n",
      "Epoch 9/100\n",
      "1254/1254 [==============================] - 1s 402us/step - loss: 0.1906 - accuracy: 0.9298 - val_loss: 0.2257 - val_accuracy: 0.9045\n",
      "Epoch 10/100\n",
      "1254/1254 [==============================] - 1s 420us/step - loss: 0.1570 - accuracy: 0.9482 - val_loss: 0.1585 - val_accuracy: 0.9363\n",
      "Epoch 11/100\n",
      "1254/1254 [==============================] - 1s 438us/step - loss: 0.1567 - accuracy: 0.9450 - val_loss: 0.1471 - val_accuracy: 0.9490\n",
      "Epoch 12/100\n",
      "1254/1254 [==============================] - 1s 431us/step - loss: 0.1260 - accuracy: 0.9593 - val_loss: 0.1373 - val_accuracy: 0.9395\n",
      "Epoch 13/100\n",
      "1254/1254 [==============================] - 1s 436us/step - loss: 0.1214 - accuracy: 0.9545 - val_loss: 0.1171 - val_accuracy: 0.9554\n",
      "Epoch 14/100\n",
      "1254/1254 [==============================] - 1s 473us/step - loss: 0.0990 - accuracy: 0.9697 - val_loss: 0.1027 - val_accuracy: 0.9618\n",
      "Epoch 15/100\n",
      "1254/1254 [==============================] - 1s 413us/step - loss: 0.0880 - accuracy: 0.9713 - val_loss: 0.1113 - val_accuracy: 0.9554\n",
      "Epoch 16/100\n",
      "1254/1254 [==============================] - 1s 438us/step - loss: 0.0923 - accuracy: 0.9689 - val_loss: 0.0845 - val_accuracy: 0.9682\n",
      "Epoch 17/100\n",
      "1254/1254 [==============================] - 1s 432us/step - loss: 0.0728 - accuracy: 0.9721 - val_loss: 0.0866 - val_accuracy: 0.9682\n",
      "Epoch 18/100\n",
      "1254/1254 [==============================] - 1s 431us/step - loss: 0.0669 - accuracy: 0.9769 - val_loss: 0.0659 - val_accuracy: 0.9777\n",
      "Epoch 19/100\n",
      "1254/1254 [==============================] - 1s 418us/step - loss: 0.0503 - accuracy: 0.9817 - val_loss: 0.0946 - val_accuracy: 0.9618\n",
      "Epoch 20/100\n",
      "1254/1254 [==============================] - 1s 442us/step - loss: 0.0445 - accuracy: 0.9825 - val_loss: 0.0604 - val_accuracy: 0.9745\n",
      "Epoch 21/100\n",
      "1254/1254 [==============================] - 1s 475us/step - loss: 0.0352 - accuracy: 0.9912 - val_loss: 0.0792 - val_accuracy: 0.9650\n",
      "Epoch 22/100\n",
      "1254/1254 [==============================] - 1s 453us/step - loss: 0.0333 - accuracy: 0.9904 - val_loss: 0.0530 - val_accuracy: 0.9777\n",
      "Epoch 23/100\n",
      "1254/1254 [==============================] - 1s 451us/step - loss: 0.0308 - accuracy: 0.9896 - val_loss: 0.1464 - val_accuracy: 0.9331\n",
      "\n",
      "Epoch 00023: ReduceLROnPlateau reducing learning rate to 0.0005000000237487257.\n",
      "Epoch 24/100\n",
      "1254/1254 [==============================] - 1s 422us/step - loss: 0.0323 - accuracy: 0.9904 - val_loss: 0.0527 - val_accuracy: 0.9682\n",
      "Epoch 25/100\n",
      "1254/1254 [==============================] - 1s 434us/step - loss: 0.0180 - accuracy: 0.9960 - val_loss: 0.0612 - val_accuracy: 0.9650\n",
      "Epoch 26/100\n",
      "1254/1254 [==============================] - 1s 450us/step - loss: 0.0135 - accuracy: 0.9984 - val_loss: 0.0592 - val_accuracy: 0.9650\n",
      "Epoch 27/100\n",
      "1254/1254 [==============================] - 1s 478us/step - loss: 0.0117 - accuracy: 0.9992 - val_loss: 0.0596 - val_accuracy: 0.9745\n",
      "Epoch 28/100\n",
      "1254/1254 [==============================] - 1s 468us/step - loss: 0.0124 - accuracy: 0.9984 - val_loss: 0.0564 - val_accuracy: 0.9745\n",
      "\n",
      "Epoch 00028: ReduceLROnPlateau reducing learning rate to 0.0002500000118743628.\n",
      "Epoch 00028: early stopping\n"
     ]
    }
   ],
   "source": [
    "model = singleLSTM()\n",
    "hist = model.fit(X_train_cnn, y_train_cnn, batch_size=32, epochs=100, verbose=1, validation_split=0.2,callbacks=callbacks)"
   ]
  },
  {
   "cell_type": "code",
   "execution_count": 72,
   "metadata": {},
   "outputs": [
    {
     "data": {
      "image/png": "[encoded data removed]",
      "text/plain": [
       "<Figure size 432x288 with 1 Axes>"
      ]
     },
     "metadata": {
      "needs_background": "light"
     },
     "output_type": "display_data"
    },
    {
     "data": {
      "image/png": "[encoded data removed]",
      "text/plain": [
       "<Figure size 432x288 with 1 Axes>"
      ]
     },
     "metadata": {
      "needs_background": "light"
     },
     "output_type": "display_data"
    }
   ],
   "source": [
    "plot_nn_hist(hist)"
   ]
  },
  {
   "cell_type": "code",
   "execution_count": 106,
   "metadata": {},
   "outputs": [
    {
     "name": "stdout",
     "output_type": "stream",
     "text": [
      "One Layer LSTM on test set : 0.954082\n",
      "Classification Report:\n",
      "               precision    recall  f1-score   support\n",
      "\n",
      "         0.0       0.96      0.96      0.96       202\n",
      "         1.0       0.95      0.95      0.95       190\n",
      "\n",
      "   micro avg       0.95      0.95      0.95       392\n",
      "   macro avg       0.95      0.95      0.95       392\n",
      "weighted avg       0.95      0.95      0.95       392\n",
      "\n"
     ]
    }
   ],
   "source": [
    "y_pred_lstm = model.predict_classes(X_test_cnn)\n",
    "score = accuracy_score(y_test_cnn, y_pred_lstm)\n",
    "print ('One Layer LSTM on test set : %2.6f' %score)\n",
    "print('Classification Report:\\n',classification_report(y_test_cnn, y_pred_lstm))"
   ]
  },
  {
   "cell_type": "markdown",
   "metadata": {},
   "source": [
    "<a id='IV'></a>\n",
    "### Discussion"
   ]
  },
  {
   "cell_type": "markdown",
   "metadata": {},
   "source": [
    "**Accuracy Performances**\n",
    "\n",
    "| Model | Accuracy  |\n",
    "|------|------|\n",
    "|   Gaussian NB  | 0.8239|\n",
    "|   Logistic Regression| 0.8443|\n",
    "|   Random Forest  | 0.9592|\n",
    "|   Gradient Boosting Trees| 0.9668|\n",
    "|   FFN  |  0.9744|\n",
    "|   CNN  |  0.9540|\n",
    "|   RNN  | 0.9642|"
   ]
  },
  {
   "cell_type": "markdown",
   "metadata": {},
   "source": [
    "* In this problem Naive Bayes performs worst because it has strong  conditional independence assumption. This introduces bias.\n",
    "* Logistic regression perfors slightly better than Naive Bayes. It has less bias wrt Naive Bayes due to lacking of conditional independence assumption. However wrt ensemble methods or neural networks it is far behind by their performance\n",
    "* It's seen that for this dataset ensemble methods perform best. These decision tree based models perform good because MFCC features are highly correlated to gender of the speaker. This makes eaiser to create good decision rules\n",
    "* Simply one hidden layer FFN performs suprisingly the best. We see the power of universal approximation power of neural nets. I believe if we fine tune layers and number of units we could achieve a better performance.\n",
    "* One Layer CNN with drop out layer performs very well I believe this is because it detects latent features in the spectrum which helps us to distinguish genders. But with the current setting it can't outperform FFN. With Fine Tunig we might achieve slighly better results.\n",
    "* Finally one layer simple LSTM performs astonishingly well. I think this is thanks to temporal correlation between frames. Since they are a part of continuous speech they have some temporal dependance.\n",
    "\n",
    "* Overall observation: \n",
    "    * In general we saw that we have better performance for females. This is caused by the small imbalance in our dataset(the 15+15 samples that I draw from all dataset). We have %46 male and %54 female. This introduces a small bias. To deal with we could upsample or downsamle or change our metrics.\n",
    "    * Secondly, when I extract features I got the mean of each feature. The reason is tracks have different lenth and when we sample them with sampling rate=22050(25 ms each frame) we have diffent size of frame for each track. For ML algorithms we need to fix the size. There are many solutions for this. For example choose a fixed size. Truncate samples whose frame size are larger than it and do padding operation for samples whose frame size are smaller than it. Or,as I did we can get the mean for each feature and return fixed size as 1. The advantage of mean is every frame has contribution to final mean values. But the problem of the mean is we highly reduce the number of data. For this problem mean seems to work pretty well. But other datasets and problems the other solutions can be better. Actually, for further works the performance of these methods can be compared.\n",
    "    * Final Word! These results are valid only for this problem. Here we saw that Random Forest is the best for this classificatiob task. But for other problems even simple Naive Bayes could be better. Never forget! **No Free Lunch!**"
   ]
  },
  {
   "cell_type": "code",
   "execution_count": null,
   "metadata": {},
   "outputs": [],
   "source": []
  }
 ],
 "metadata": {
  "kernelspec": {
   "display_name": "Python 3",
   "language": "python",
   "name": "python3"
  },
  "language_info": {
   "codemirror_mode": {
    "name": "ipython",
    "version": 3
   },
   "file_extension": ".py",
   "mimetype": "text/x-python",
   "name": "python",
   "nbconvert_exporter": "python",
   "pygments_lexer": "ipython3",
   "version": "3.7.4"
  }
 },
 "nbformat": 4,
 "nbformat_minor": 2
}
